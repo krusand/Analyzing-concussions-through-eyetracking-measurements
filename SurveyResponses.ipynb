{
 "cells": [
  {
   "cell_type": "markdown",
   "metadata": {},
   "source": [
    "# Analysing Survey Responses"
   ]
  },
  {
   "cell_type": "code",
   "execution_count": 153,
   "metadata": {},
   "outputs": [],
   "source": [
    "import pandas as pd\n",
    "import matplotlib.pyplot as plt"
   ]
  },
  {
   "cell_type": "code",
   "execution_count": 157,
   "metadata": {},
   "outputs": [],
   "source": [
    "data = pd.read_excel(\"data/survey_responses.xlsx\", sheet_name=\"all\")"
   ]
  },
  {
   "cell_type": "code",
   "execution_count": 158,
   "metadata": {},
   "outputs": [],
   "source": [
    "data = data.drop('Unnamed: 0', axis=1)"
   ]
  },
  {
   "cell_type": "code",
   "execution_count": 159,
   "metadata": {},
   "outputs": [],
   "source": [
    "n_rows, n_cols = data.shape"
   ]
  },
  {
   "cell_type": "code",
   "execution_count": 160,
   "metadata": {},
   "outputs": [
    {
     "data": {
      "text/html": [
       "<div>\n",
       "<style scoped>\n",
       "    .dataframe tbody tr th:only-of-type {\n",
       "        vertical-align: middle;\n",
       "    }\n",
       "\n",
       "    .dataframe tbody tr th {\n",
       "        vertical-align: top;\n",
       "    }\n",
       "\n",
       "    .dataframe thead th {\n",
       "        text-align: right;\n",
       "    }\n",
       "</style>\n",
       "<table border=\"1\" class=\"dataframe\">\n",
       "  <thead>\n",
       "    <tr style=\"text-align: right;\">\n",
       "      <th></th>\n",
       "      <th>info:0_help</th>\n",
       "      <th>info:1_reason</th>\n",
       "      <th>info:2_adhd</th>\n",
       "      <th>info:3_stress</th>\n",
       "      <th>info_injury:0_injury</th>\n",
       "      <th>pain:0_position</th>\n",
       "      <th>synsskarphed:0_Jeg oplever sløret og uklart syn på lang afstand</th>\n",
       "      <th>synsskarphed:1_Jeg oplever sløret og uklart syn på kort afstand</th>\n",
       "      <th>synsskarphed:2_Jeg oplever, at skarpheden af synet ændrer sig eller varierer i løbet af dagen</th>\n",
       "      <th>synsskarphed:3_Jeg har dårligt nattesyn</th>\n",
       "      <th>...</th>\n",
       "      <th>rivermead_1_control:6_At være irritabel / bliver nemt vred</th>\n",
       "      <th>rivermead_1_control:7_At føle dig deprimeret eller ked af det</th>\n",
       "      <th>rivermead_2_control:0_At føle dig frustreret eller utålmodig</th>\n",
       "      <th>rivermead_2_control:1_Glemsomhed / dårlig hukommelse</th>\n",
       "      <th>rivermead_2_control:2_Dårlig koncentration</th>\n",
       "      <th>rivermead_2_control:3_At tænke langsommere</th>\n",
       "      <th>rivermead_2_control:4_Sløret syn</th>\n",
       "      <th>rivermead_2_control:5_Lysfølsomhed, bliver nemt irriteret af skarpt lys</th>\n",
       "      <th>rivermead_2_control:6_At se dobbelt</th>\n",
       "      <th>rivermead_2_control:7_Rastløshed</th>\n",
       "    </tr>\n",
       "  </thead>\n",
       "  <tbody>\n",
       "    <tr>\n",
       "      <th>0</th>\n",
       "      <td>0.0</td>\n",
       "      <td>NaN</td>\n",
       "      <td>1.0</td>\n",
       "      <td>0.0</td>\n",
       "      <td>NaN</td>\n",
       "      <td>[]</td>\n",
       "      <td>1.0</td>\n",
       "      <td>4.0</td>\n",
       "      <td>0.0</td>\n",
       "      <td>0.0</td>\n",
       "      <td>...</td>\n",
       "      <td>NaN</td>\n",
       "      <td>NaN</td>\n",
       "      <td>NaN</td>\n",
       "      <td>NaN</td>\n",
       "      <td>NaN</td>\n",
       "      <td>NaN</td>\n",
       "      <td>NaN</td>\n",
       "      <td>NaN</td>\n",
       "      <td>NaN</td>\n",
       "      <td>NaN</td>\n",
       "    </tr>\n",
       "    <tr>\n",
       "      <th>1</th>\n",
       "      <td>0.0</td>\n",
       "      <td>NaN</td>\n",
       "      <td>1.0</td>\n",
       "      <td>1.0</td>\n",
       "      <td>0.0</td>\n",
       "      <td>['5']</td>\n",
       "      <td>4.0</td>\n",
       "      <td>0.0</td>\n",
       "      <td>2.0</td>\n",
       "      <td>4.0</td>\n",
       "      <td>...</td>\n",
       "      <td>NaN</td>\n",
       "      <td>NaN</td>\n",
       "      <td>NaN</td>\n",
       "      <td>NaN</td>\n",
       "      <td>NaN</td>\n",
       "      <td>NaN</td>\n",
       "      <td>NaN</td>\n",
       "      <td>NaN</td>\n",
       "      <td>NaN</td>\n",
       "      <td>NaN</td>\n",
       "    </tr>\n",
       "    <tr>\n",
       "      <th>2</th>\n",
       "      <td>0.0</td>\n",
       "      <td>NaN</td>\n",
       "      <td>1.0</td>\n",
       "      <td>0.0</td>\n",
       "      <td>3.0</td>\n",
       "      <td>['0', '1', '2', '4']</td>\n",
       "      <td>0.0</td>\n",
       "      <td>1.0</td>\n",
       "      <td>1.0</td>\n",
       "      <td>0.0</td>\n",
       "      <td>...</td>\n",
       "      <td>NaN</td>\n",
       "      <td>NaN</td>\n",
       "      <td>NaN</td>\n",
       "      <td>NaN</td>\n",
       "      <td>NaN</td>\n",
       "      <td>NaN</td>\n",
       "      <td>NaN</td>\n",
       "      <td>NaN</td>\n",
       "      <td>NaN</td>\n",
       "      <td>NaN</td>\n",
       "    </tr>\n",
       "    <tr>\n",
       "      <th>3</th>\n",
       "      <td>0.0</td>\n",
       "      <td>NaN</td>\n",
       "      <td>1.0</td>\n",
       "      <td>1.0</td>\n",
       "      <td>2.0</td>\n",
       "      <td>['2']</td>\n",
       "      <td>2.0</td>\n",
       "      <td>3.0</td>\n",
       "      <td>3.0</td>\n",
       "      <td>0.0</td>\n",
       "      <td>...</td>\n",
       "      <td>NaN</td>\n",
       "      <td>NaN</td>\n",
       "      <td>NaN</td>\n",
       "      <td>NaN</td>\n",
       "      <td>NaN</td>\n",
       "      <td>NaN</td>\n",
       "      <td>NaN</td>\n",
       "      <td>NaN</td>\n",
       "      <td>NaN</td>\n",
       "      <td>NaN</td>\n",
       "    </tr>\n",
       "    <tr>\n",
       "      <th>4</th>\n",
       "      <td>NaN</td>\n",
       "      <td>NaN</td>\n",
       "      <td>NaN</td>\n",
       "      <td>NaN</td>\n",
       "      <td>NaN</td>\n",
       "      <td>NaN</td>\n",
       "      <td>NaN</td>\n",
       "      <td>NaN</td>\n",
       "      <td>NaN</td>\n",
       "      <td>NaN</td>\n",
       "      <td>...</td>\n",
       "      <td>NaN</td>\n",
       "      <td>NaN</td>\n",
       "      <td>NaN</td>\n",
       "      <td>NaN</td>\n",
       "      <td>NaN</td>\n",
       "      <td>NaN</td>\n",
       "      <td>NaN</td>\n",
       "      <td>NaN</td>\n",
       "      <td>NaN</td>\n",
       "      <td>NaN</td>\n",
       "    </tr>\n",
       "  </tbody>\n",
       "</table>\n",
       "<p>5 rows × 102 columns</p>\n",
       "</div>"
      ],
      "text/plain": [
       "   info:0_help  info:1_reason  info:2_adhd  info:3_stress  \\\n",
       "0          0.0            NaN          1.0            0.0   \n",
       "1          0.0            NaN          1.0            1.0   \n",
       "2          0.0            NaN          1.0            0.0   \n",
       "3          0.0            NaN          1.0            1.0   \n",
       "4          NaN            NaN          NaN            NaN   \n",
       "\n",
       "   info_injury:0_injury       pain:0_position  \\\n",
       "0                   NaN                    []   \n",
       "1                   0.0                 ['5']   \n",
       "2                   3.0  ['0', '1', '2', '4']   \n",
       "3                   2.0                 ['2']   \n",
       "4                   NaN                   NaN   \n",
       "\n",
       "   synsskarphed:0_Jeg oplever sløret og uklart syn på lang afstand  \\\n",
       "0                                                1.0                 \n",
       "1                                                4.0                 \n",
       "2                                                0.0                 \n",
       "3                                                2.0                 \n",
       "4                                                NaN                 \n",
       "\n",
       "   synsskarphed:1_Jeg oplever sløret og uklart syn på kort afstand  \\\n",
       "0                                                4.0                 \n",
       "1                                                0.0                 \n",
       "2                                                1.0                 \n",
       "3                                                3.0                 \n",
       "4                                                NaN                 \n",
       "\n",
       "   synsskarphed:2_Jeg oplever, at skarpheden af synet ændrer sig eller varierer i løbet af dagen  \\\n",
       "0                                                0.0                                               \n",
       "1                                                2.0                                               \n",
       "2                                                1.0                                               \n",
       "3                                                3.0                                               \n",
       "4                                                NaN                                               \n",
       "\n",
       "   synsskarphed:3_Jeg har dårligt nattesyn  ...  \\\n",
       "0                                      0.0  ...   \n",
       "1                                      4.0  ...   \n",
       "2                                      0.0  ...   \n",
       "3                                      0.0  ...   \n",
       "4                                      NaN  ...   \n",
       "\n",
       "   rivermead_1_control:6_At være irritabel / bliver nemt vred  \\\n",
       "0                                                NaN            \n",
       "1                                                NaN            \n",
       "2                                                NaN            \n",
       "3                                                NaN            \n",
       "4                                                NaN            \n",
       "\n",
       "   rivermead_1_control:7_At føle dig deprimeret eller ked af det  \\\n",
       "0                                                NaN               \n",
       "1                                                NaN               \n",
       "2                                                NaN               \n",
       "3                                                NaN               \n",
       "4                                                NaN               \n",
       "\n",
       "   rivermead_2_control:0_At føle dig frustreret eller utålmodig  \\\n",
       "0                                                NaN              \n",
       "1                                                NaN              \n",
       "2                                                NaN              \n",
       "3                                                NaN              \n",
       "4                                                NaN              \n",
       "\n",
       "   rivermead_2_control:1_Glemsomhed / dårlig hukommelse  \\\n",
       "0                                                NaN      \n",
       "1                                                NaN      \n",
       "2                                                NaN      \n",
       "3                                                NaN      \n",
       "4                                                NaN      \n",
       "\n",
       "   rivermead_2_control:2_Dårlig koncentration  \\\n",
       "0                                         NaN   \n",
       "1                                         NaN   \n",
       "2                                         NaN   \n",
       "3                                         NaN   \n",
       "4                                         NaN   \n",
       "\n",
       "   rivermead_2_control:3_At tænke langsommere  \\\n",
       "0                                         NaN   \n",
       "1                                         NaN   \n",
       "2                                         NaN   \n",
       "3                                         NaN   \n",
       "4                                         NaN   \n",
       "\n",
       "   rivermead_2_control:4_Sløret syn  \\\n",
       "0                               NaN   \n",
       "1                               NaN   \n",
       "2                               NaN   \n",
       "3                               NaN   \n",
       "4                               NaN   \n",
       "\n",
       "   rivermead_2_control:5_Lysfølsomhed, bliver nemt irriteret af skarpt lys  \\\n",
       "0                                                NaN                         \n",
       "1                                                NaN                         \n",
       "2                                                NaN                         \n",
       "3                                                NaN                         \n",
       "4                                                NaN                         \n",
       "\n",
       "   rivermead_2_control:6_At se dobbelt  rivermead_2_control:7_Rastløshed  \n",
       "0                                  NaN                               NaN  \n",
       "1                                  NaN                               NaN  \n",
       "2                                  NaN                               NaN  \n",
       "3                                  NaN                               NaN  \n",
       "4                                  NaN                               NaN  \n",
       "\n",
       "[5 rows x 102 columns]"
      ]
     },
     "execution_count": 160,
     "metadata": {},
     "output_type": "execute_result"
    }
   ],
   "source": [
    "data.head()"
   ]
  },
  {
   "cell_type": "markdown",
   "metadata": {},
   "source": [
    "Remove all rows that has missing values for all questions."
   ]
  },
  {
   "cell_type": "code",
   "execution_count": 161,
   "metadata": {},
   "outputs": [],
   "source": [
    "row_nan_count = data.isna().sum(axis=1)\n",
    "col_nan_count = data.isna().sum(axis=0)"
   ]
  },
  {
   "cell_type": "code",
   "execution_count": 162,
   "metadata": {},
   "outputs": [
    {
     "data": {
      "image/png": "[encoded data removed]",
      "text/plain": [
       "<Figure size 640x480 with 1 Axes>"
      ]
     },
     "metadata": {},
     "output_type": "display_data"
    }
   ],
   "source": [
    "plt.hist(row_nan_count/n_cols);"
   ]
  },
  {
   "cell_type": "code",
   "execution_count": 163,
   "metadata": {},
   "outputs": [
    {
     "data": {
      "image/png": "[encoded data removed]",
      "text/plain": [
       "<Figure size 640x480 with 1 Axes>"
      ]
     },
     "metadata": {},
     "output_type": "display_data"
    }
   ],
   "source": [
    "plt.hist(col_nan_count/n_rows);"
   ]
  },
  {
   "cell_type": "code",
   "execution_count": 164,
   "metadata": {},
   "outputs": [],
   "source": [
    "m = row_nan_count <= round(n_cols*0.60)\n",
    "data = data[m]"
   ]
  },
  {
   "cell_type": "code",
   "execution_count": 165,
   "metadata": {},
   "outputs": [],
   "source": [
    "m = col_nan_count <= round(n_rows*0.60)\n",
    "data = data.loc[:,m]"
   ]
  },
  {
   "cell_type": "code",
   "execution_count": 166,
   "metadata": {},
   "outputs": [
    {
     "data": {
      "text/plain": [
       "(401, 83)"
      ]
     },
     "execution_count": 166,
     "metadata": {},
     "output_type": "execute_result"
    }
   ],
   "source": [
    "data.shape"
   ]
  },
  {
   "cell_type": "code",
   "execution_count": 167,
   "metadata": {},
   "outputs": [],
   "source": [
    "data.to_excel(\"data/test.xlsx\")"
   ]
  },
  {
   "cell_type": "markdown",
   "metadata": {},
   "source": [
    "Brug coalesce til at kombinere patient og kontrol spørgsmål fra rivermead."
   ]
  }
 ],
 "metadata": {
  "kernelspec": {
   "display_name": ".venv",
   "language": "python",
   "name": "python3"
  },
  "language_info": {
   "codemirror_mode": {
    "name": "ipython",
    "version": 3
   },
   "file_extension": ".py",
   "mimetype": "text/x-python",
   "name": "python",
   "nbconvert_exporter": "python",
   "pygments_lexer": "ipython3",
   "version": "3.12.3"
  }
 },
 "nbformat": 4,
 "nbformat_minor": 2
}
