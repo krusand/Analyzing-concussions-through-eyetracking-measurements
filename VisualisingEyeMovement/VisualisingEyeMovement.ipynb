{
 "cells": [
  {
   "cell_type": "markdown",
   "metadata": {},
   "source": [
    "# Visualising Eye Movement"
   ]
  },
  {
   "cell_type": "code",
   "execution_count": 1,
   "metadata": {},
   "outputs": [],
   "source": [
    "import pandas as pd\n",
    "\n",
    "import matplotlib.pyplot as plt\n",
    "from matplotlib import animation\n",
    "import seaborn as sns\n",
    "import numpy as np\n",
    "\n",
    "import matplotlib\n",
    "matplotlib.use(\"Agg\") "
   ]
  },
  {
   "cell_type": "code",
   "execution_count": 2,
   "metadata": {},
   "outputs": [],
   "source": [
    "import sys\n",
    "import os\n",
    "\n",
    "sys.path.append(os.path.abspath(\"../src\"))  # Add folder_a to sys.path\n",
    "from config import *"
   ]
  },
  {
   "cell_type": "code",
   "execution_count": 84,
   "metadata": {},
   "outputs": [
    {
     "data": {
      "text/plain": [
       "'/mnt/c/Users/idwe/Documents/Github/Analyzing-concussions-through-eyetracking-measurements/src'"
      ]
     },
     "execution_count": 84,
     "metadata": {},
     "output_type": "execute_result"
    }
   ],
   "source": [
    "os.path.abspath(\"../src\")"
   ]
  },
  {
   "cell_type": "code",
   "execution_count": 3,
   "metadata": {},
   "outputs": [],
   "source": [
    "experiment = \"FITTS_LAW\"\n",
    "participant_ids = pd.read_parquet(\n",
    "        f\"{PREPROCESSED_DIR}/{experiment}_samples.pq\", \n",
    "        columns=[\"participant_id\"]\n",
    "    )\n",
    "\n",
    "participant_ids = participant_ids[\"participant_id\"].unique()"
   ]
  },
  {
   "cell_type": "code",
   "execution_count": 4,
   "metadata": {},
   "outputs": [],
   "source": [
    "# Read data for participant\n",
    "participant_id = participant_ids[0]\n",
    "filters = [('participant_id', '=', str(participant_id))]\n",
    "\n",
    "samples_df = pd.read_parquet(\n",
    "    f\"{PREPROCESSED_DIR}/{experiment}_samples.pq\",\n",
    "    filters=[('participant_id', '=', participant_id)]\n",
    "    )\n",
    "\n",
    "events_df = pd.read_parquet(\n",
    "    f\"{PREPROCESSED_DIR}/{experiment}_events.pq\",\n",
    "    filters=[('participant_id', '=', participant_id)]\n",
    "    )"
   ]
  },
  {
   "cell_type": "code",
   "execution_count": 5,
   "metadata": {},
   "outputs": [
    {
     "data": {
      "application/vnd.microsoft.datawrangler.viewer.v0+json": {
       "columns": [
        {
         "name": "index",
         "rawType": "int64",
         "type": "integer"
        },
        {
         "name": "experiment",
         "rawType": "string",
         "type": "string"
        },
        {
         "name": "participant_id",
         "rawType": "int64",
         "type": "integer"
        },
        {
         "name": "trial_id",
         "rawType": "int64",
         "type": "integer"
        },
        {
         "name": "time",
         "rawType": "int64",
         "type": "integer"
        },
        {
         "name": "event",
         "rawType": "string",
         "type": "string"
        },
        {
         "name": "eye",
         "rawType": "string",
         "type": "string"
        },
        {
         "name": "distance",
         "rawType": "float64",
         "type": "float"
        },
        {
         "name": "target_width",
         "rawType": "float64",
         "type": "float"
        },
        {
         "name": "colour",
         "rawType": "string",
         "type": "string"
        },
        {
         "name": "stimulus_x",
         "rawType": "float64",
         "type": "float"
        },
        {
         "name": "stimulus_y",
         "rawType": "float64",
         "type": "float"
        },
        {
         "name": "start_time",
         "rawType": "float64",
         "type": "float"
        },
        {
         "name": "end_time",
         "rawType": "float64",
         "type": "float"
        },
        {
         "name": "duration",
         "rawType": "float64",
         "type": "float"
        },
        {
         "name": "x",
         "rawType": "float64",
         "type": "float"
        },
        {
         "name": "y",
         "rawType": "float64",
         "type": "float"
        },
        {
         "name": "avg_pupil_size",
         "rawType": "float64",
         "type": "float"
        },
        {
         "name": "start_x",
         "rawType": "float64",
         "type": "float"
        },
        {
         "name": "start_y",
         "rawType": "float64",
         "type": "float"
        },
        {
         "name": "end_x",
         "rawType": "float64",
         "type": "float"
        },
        {
         "name": "end_y",
         "rawType": "float64",
         "type": "float"
        },
        {
         "name": "amplitude",
         "rawType": "float64",
         "type": "float"
        },
        {
         "name": "peak_velocity",
         "rawType": "float64",
         "type": "float"
        },
        {
         "name": "stimulus_active",
         "rawType": "bool",
         "type": "boolean"
        }
       ],
       "conversionMethod": "pd.DataFrame",
       "ref": "45244bab-ddac-4391-8d3a-524bcfd98d30",
       "rows": [
        [
         "0",
         "FITTS_LAW",
         "106",
         "0",
         "0",
         "START",
         null,
         null,
         null,
         null,
         null,
         null,
         null,
         null,
         null,
         null,
         null,
         null,
         null,
         null,
         null,
         null,
         null,
         null,
         "False"
        ],
        [
         "1",
         "FITTS_LAW",
         "106",
         "0",
         "7",
         "EFIX",
         "L",
         null,
         null,
         null,
         null,
         null,
         "7.0",
         "317.0",
         "310.0",
         "788.1",
         "501.3",
         "1053.0",
         null,
         null,
         null,
         null,
         null,
         null,
         "False"
        ],
        [
         "2",
         "FITTS_LAW",
         "106",
         "0",
         "7",
         "EFIX",
         "R",
         null,
         null,
         null,
         null,
         null,
         "7.0",
         "317.0",
         "310.0",
         "735.9",
         "542.0",
         "1019.0",
         null,
         null,
         null,
         null,
         null,
         null,
         "False"
        ],
        [
         "3",
         "FITTS_LAW",
         "106",
         "0",
         "33",
         "TRIAL_VAR_DATA",
         null,
         "7.48",
         "0.75",
         null,
         null,
         null,
         null,
         null,
         null,
         null,
         null,
         null,
         null,
         null,
         null,
         null,
         null,
         null,
         "False"
        ],
        [
         "4",
         "FITTS_LAW",
         "106",
         "0",
         "33",
         "FIXPOINT",
         null,
         "7.48",
         "0.75",
         "255 0 0",
         "794.0",
         "540.0",
         null,
         null,
         null,
         null,
         null,
         null,
         null,
         null,
         null,
         null,
         null,
         null,
         "True"
        ]
       ],
       "shape": {
        "columns": 24,
        "rows": 5
       }
      },
      "text/html": [
       "<div>\n",
       "<style scoped>\n",
       "    .dataframe tbody tr th:only-of-type {\n",
       "        vertical-align: middle;\n",
       "    }\n",
       "\n",
       "    .dataframe tbody tr th {\n",
       "        vertical-align: top;\n",
       "    }\n",
       "\n",
       "    .dataframe thead th {\n",
       "        text-align: right;\n",
       "    }\n",
       "</style>\n",
       "<table border=\"1\" class=\"dataframe\">\n",
       "  <thead>\n",
       "    <tr style=\"text-align: right;\">\n",
       "      <th></th>\n",
       "      <th>experiment</th>\n",
       "      <th>participant_id</th>\n",
       "      <th>trial_id</th>\n",
       "      <th>time</th>\n",
       "      <th>event</th>\n",
       "      <th>eye</th>\n",
       "      <th>distance</th>\n",
       "      <th>target_width</th>\n",
       "      <th>colour</th>\n",
       "      <th>stimulus_x</th>\n",
       "      <th>...</th>\n",
       "      <th>x</th>\n",
       "      <th>y</th>\n",
       "      <th>avg_pupil_size</th>\n",
       "      <th>start_x</th>\n",
       "      <th>start_y</th>\n",
       "      <th>end_x</th>\n",
       "      <th>end_y</th>\n",
       "      <th>amplitude</th>\n",
       "      <th>peak_velocity</th>\n",
       "      <th>stimulus_active</th>\n",
       "    </tr>\n",
       "  </thead>\n",
       "  <tbody>\n",
       "    <tr>\n",
       "      <th>0</th>\n",
       "      <td>FITTS_LAW</td>\n",
       "      <td>106</td>\n",
       "      <td>0</td>\n",
       "      <td>0</td>\n",
       "      <td>START</td>\n",
       "      <td>&lt;NA&gt;</td>\n",
       "      <td>NaN</td>\n",
       "      <td>NaN</td>\n",
       "      <td>&lt;NA&gt;</td>\n",
       "      <td>NaN</td>\n",
       "      <td>...</td>\n",
       "      <td>NaN</td>\n",
       "      <td>NaN</td>\n",
       "      <td>NaN</td>\n",
       "      <td>NaN</td>\n",
       "      <td>NaN</td>\n",
       "      <td>NaN</td>\n",
       "      <td>NaN</td>\n",
       "      <td>NaN</td>\n",
       "      <td>NaN</td>\n",
       "      <td>False</td>\n",
       "    </tr>\n",
       "    <tr>\n",
       "      <th>1</th>\n",
       "      <td>FITTS_LAW</td>\n",
       "      <td>106</td>\n",
       "      <td>0</td>\n",
       "      <td>7</td>\n",
       "      <td>EFIX</td>\n",
       "      <td>L</td>\n",
       "      <td>NaN</td>\n",
       "      <td>NaN</td>\n",
       "      <td>&lt;NA&gt;</td>\n",
       "      <td>NaN</td>\n",
       "      <td>...</td>\n",
       "      <td>788.1</td>\n",
       "      <td>501.3</td>\n",
       "      <td>1053.0</td>\n",
       "      <td>NaN</td>\n",
       "      <td>NaN</td>\n",
       "      <td>NaN</td>\n",
       "      <td>NaN</td>\n",
       "      <td>NaN</td>\n",
       "      <td>NaN</td>\n",
       "      <td>False</td>\n",
       "    </tr>\n",
       "    <tr>\n",
       "      <th>2</th>\n",
       "      <td>FITTS_LAW</td>\n",
       "      <td>106</td>\n",
       "      <td>0</td>\n",
       "      <td>7</td>\n",
       "      <td>EFIX</td>\n",
       "      <td>R</td>\n",
       "      <td>NaN</td>\n",
       "      <td>NaN</td>\n",
       "      <td>&lt;NA&gt;</td>\n",
       "      <td>NaN</td>\n",
       "      <td>...</td>\n",
       "      <td>735.9</td>\n",
       "      <td>542.0</td>\n",
       "      <td>1019.0</td>\n",
       "      <td>NaN</td>\n",
       "      <td>NaN</td>\n",
       "      <td>NaN</td>\n",
       "      <td>NaN</td>\n",
       "      <td>NaN</td>\n",
       "      <td>NaN</td>\n",
       "      <td>False</td>\n",
       "    </tr>\n",
       "    <tr>\n",
       "      <th>3</th>\n",
       "      <td>FITTS_LAW</td>\n",
       "      <td>106</td>\n",
       "      <td>0</td>\n",
       "      <td>33</td>\n",
       "      <td>TRIAL_VAR_DATA</td>\n",
       "      <td>&lt;NA&gt;</td>\n",
       "      <td>7.48</td>\n",
       "      <td>0.75</td>\n",
       "      <td>&lt;NA&gt;</td>\n",
       "      <td>NaN</td>\n",
       "      <td>...</td>\n",
       "      <td>NaN</td>\n",
       "      <td>NaN</td>\n",
       "      <td>NaN</td>\n",
       "      <td>NaN</td>\n",
       "      <td>NaN</td>\n",
       "      <td>NaN</td>\n",
       "      <td>NaN</td>\n",
       "      <td>NaN</td>\n",
       "      <td>NaN</td>\n",
       "      <td>False</td>\n",
       "    </tr>\n",
       "    <tr>\n",
       "      <th>4</th>\n",
       "      <td>FITTS_LAW</td>\n",
       "      <td>106</td>\n",
       "      <td>0</td>\n",
       "      <td>33</td>\n",
       "      <td>FIXPOINT</td>\n",
       "      <td>&lt;NA&gt;</td>\n",
       "      <td>7.48</td>\n",
       "      <td>0.75</td>\n",
       "      <td>255 0 0</td>\n",
       "      <td>794.0</td>\n",
       "      <td>...</td>\n",
       "      <td>NaN</td>\n",
       "      <td>NaN</td>\n",
       "      <td>NaN</td>\n",
       "      <td>NaN</td>\n",
       "      <td>NaN</td>\n",
       "      <td>NaN</td>\n",
       "      <td>NaN</td>\n",
       "      <td>NaN</td>\n",
       "      <td>NaN</td>\n",
       "      <td>True</td>\n",
       "    </tr>\n",
       "  </tbody>\n",
       "</table>\n",
       "<p>5 rows × 24 columns</p>\n",
       "</div>"
      ],
      "text/plain": [
       "  experiment  participant_id  trial_id  time           event   eye  distance  \\\n",
       "0  FITTS_LAW             106         0     0           START  <NA>       NaN   \n",
       "1  FITTS_LAW             106         0     7            EFIX     L       NaN   \n",
       "2  FITTS_LAW             106         0     7            EFIX     R       NaN   \n",
       "3  FITTS_LAW             106         0    33  TRIAL_VAR_DATA  <NA>      7.48   \n",
       "4  FITTS_LAW             106         0    33        FIXPOINT  <NA>      7.48   \n",
       "\n",
       "   target_width   colour  stimulus_x  ...      x      y  avg_pupil_size  \\\n",
       "0           NaN     <NA>         NaN  ...    NaN    NaN             NaN   \n",
       "1           NaN     <NA>         NaN  ...  788.1  501.3          1053.0   \n",
       "2           NaN     <NA>         NaN  ...  735.9  542.0          1019.0   \n",
       "3          0.75     <NA>         NaN  ...    NaN    NaN             NaN   \n",
       "4          0.75  255 0 0       794.0  ...    NaN    NaN             NaN   \n",
       "\n",
       "   start_x  start_y  end_x  end_y  amplitude  peak_velocity  stimulus_active  \n",
       "0      NaN      NaN    NaN    NaN        NaN            NaN            False  \n",
       "1      NaN      NaN    NaN    NaN        NaN            NaN            False  \n",
       "2      NaN      NaN    NaN    NaN        NaN            NaN            False  \n",
       "3      NaN      NaN    NaN    NaN        NaN            NaN            False  \n",
       "4      NaN      NaN    NaN    NaN        NaN            NaN             True  \n",
       "\n",
       "[5 rows x 24 columns]"
      ]
     },
     "execution_count": 5,
     "metadata": {},
     "output_type": "execute_result"
    }
   ],
   "source": [
    "events_df.head()"
   ]
  },
  {
   "cell_type": "code",
   "execution_count": 11,
   "metadata": {},
   "outputs": [],
   "source": [
    "trial_id=1\n",
    "\n",
    "sample_df = samples_df.loc[samples_df[\"trial_id\"]==trial_id,:]\n",
    "\n",
    "# Extract fixpoints\n",
    "event_df = events_df.loc[events_df[\"trial_id\"]==trial_id,:]\n",
    "fixpoints_df = event_df[event_df[\"event\"]==\"FIXPOINT\"].loc[:,[\"participant_id\", \"trial_id\", \"time\", \"event\", \"colour\", \"stimulus_x\", \"stimulus_y\"]]\n",
    "\n",
    "# Insert fixpoints in sample data\n",
    "# Ensure you are modifying actual copies\n",
    "sample_df = sample_df.copy()\n",
    "fixpoints_df = fixpoints_df.copy()\n",
    "\n",
    "# Sort by participant_id, trial_id, then time (important for merge_asof with 'by')\n",
    "sample_df = sample_df.sort_values([\"time\"])\n",
    "fixpoints_df = fixpoints_df.sort_values([\"time\"])\n",
    "\n",
    "# Rename 'colour' column to 'fixpoint' so it's ready to merge\n",
    "fixpoints_df = fixpoints_df.rename(columns={\"colour\": \"fixpoint\"})\n",
    "\n",
    "# Perform a backward-looking join: for each row in sample_df, find the most recent fixpoint time\n",
    "sample_df = pd.merge_asof(\n",
    "    sample_df,\n",
    "    fixpoints_df,\n",
    "    on=[\"time\"],\n",
    "    by=[\"participant_id\", \"trial_id\"],\n",
    "    direction=\"backward\"\n",
    "    # tolerance=10\n",
    ")\n",
    "\n",
    "sample_df[\"fixpoint\"] = sample_df[\"fixpoint\"].map({RED:\"red\", GREEN:\"green\", BLUE:\"blue\", WHITE:\"white\"})"
   ]
  },
  {
   "cell_type": "code",
   "execution_count": 12,
   "metadata": {},
   "outputs": [
    {
     "name": "stderr",
     "output_type": "stream",
     "text": [
      "/tmp/ipykernel_17085/1757578002.py:10: UserWarning: No data for colormapping provided via 'c'. Parameters 'cmap' will be ignored\n",
      "  scatter_right = ax.scatter([], [], cmap='viridis', label=\"Right\", alpha=0.6)  # 's' is for size, 'c' is for color\n",
      "/tmp/ipykernel_17085/1757578002.py:11: UserWarning: No data for colormapping provided via 'c'. Parameters 'cmap' will be ignored\n",
      "  scatter_left = ax.scatter([], [], cmap='coolwarm', label=\"Left\", alpha=0.6)  # 's' is for size, 'c' is for color\n",
      "2025-04-28 10:26:21,168 - INFO - animation.save:1076 - Animation.save using <class 'matplotlib.animation.FFMpegWriter'>\n",
      "2025-04-28 10:26:21,171 - INFO - animation._run:319 - MovieWriter._run: running command: ffmpeg -f rawvideo -vcodec rawvideo -s 600x600 -pix_fmt rgba -framerate 30 -loglevel error -i pipe: -vcodec h264 -pix_fmt yuv420p -y Animations/FITTS_LAW_106_1.mp4\n"
     ]
    }
   ],
   "source": [
    "x = sample_df.copy()\n",
    "x_sampled = x[x.index % 100 == 0]\n",
    "\n",
    "# Apply Seaborn style\n",
    "sns.set(style=\"whitegrid\")\n",
    "\n",
    "fig, ax = plt.subplots(1, 1, figsize = (6, 6))\n",
    "\n",
    "# Initialize the scatter plot object\n",
    "scatter_right = ax.scatter([], [], cmap='viridis', label=\"Right\", alpha=0.6)  # 's' is for size, 'c' is for color\n",
    "scatter_left = ax.scatter([], [], cmap='coolwarm', label=\"Left\", alpha=0.6)  # 's' is for size, 'c' is for color\n",
    "scatter_fixpoint = ax.scatter([], [], label=\"Fixpoint\", alpha=0.6, s=50)  # 's' is for size, 'c' is for color\n",
    "\n",
    "x_min, x_max = 0, 1920 \n",
    "y_min, y_max = 0, 1080 \n",
    "ax.set_xlim([x_min, x_max]) \n",
    "ax.set_ylim([y_min, y_max]) \n",
    "\n",
    "# Add legend to distinguish between the three points\n",
    "ax.legend()\n",
    "\n",
    "def animate(i):\n",
    "    # Update the scatter plot data for each frame\n",
    "    \n",
    "    # Update coordinates\n",
    "    coords_right = np.c_[x_sampled[\"x_left\"].iloc[i], x_sampled[\"y_right\"].iloc[i]]\n",
    "    coords_left = np.c_[x_sampled[\"x_left\"].iloc[i], x_sampled[\"y_left\"].iloc[i]] \n",
    "    coords_fixpoint = np.c_[x_sampled[\"stimulus_x\"].iloc[i], x_sampled[\"stimulus_y\"].iloc[i]] \n",
    "\n",
    "    scatter_right.set_offsets(coords_right)    \n",
    "    scatter_left.set_offsets(coords_left)\n",
    "    scatter_fixpoint.set_offsets(coords_fixpoint)\n",
    "\n",
    "    # Update colour based on fixpoint\n",
    "    fixpoint_color = x_sampled[\"fixpoint\"].iloc[i]\n",
    "    if pd.isna(fixpoint_color):\n",
    "        fixpoint_color = \"gray\"\n",
    "    elif fixpoint_color == \"white\":\n",
    "        fixpoint_color = \"black\"\n",
    "    scatter_fixpoint.set_color([fixpoint_color])\n",
    "\n",
    "    return scatter_right, scatter_left#, scatter_fixpoint\n",
    "\n",
    "anim = animation.FuncAnimation(\n",
    "    fig, \n",
    "    animate, \n",
    "    frames = len(x_sampled), \n",
    "    interval=100,\n",
    "    blit = False\n",
    ")\n",
    "\n",
    "anim.save(f\"Animations/{experiment}_{participant_id}_{trial_id}.mp4\", writer=\"ffmpeg\", fps=30)\n"
   ]
  },
  {
   "cell_type": "code",
   "execution_count": null,
   "metadata": {},
   "outputs": [],
   "source": []
  }
 ],
 "metadata": {
  "kernelspec": {
   "display_name": ".venv",
   "language": "python",
   "name": "python3"
  },
  "language_info": {
   "codemirror_mode": {
    "name": "ipython",
    "version": 3
   },
   "file_extension": ".py",
   "mimetype": "text/x-python",
   "name": "python",
   "nbconvert_exporter": "python",
   "pygments_lexer": "ipython3",
   "version": "3.12.3"
  }
 },
 "nbformat": 4,
 "nbformat_minor": 2
}
