{
 "cells": [
  {
   "cell_type": "markdown",
   "metadata": {},
   "source": [
    "# Visualising Eye Movement"
   ]
  },
  {
   "cell_type": "code",
   "execution_count": 5,
   "metadata": {},
   "outputs": [],
   "source": [
    "import pandas as pd\n",
    "\n",
    "import matplotlib.pyplot as plt\n",
    "import seaborn as sns\n",
    "\n",
    "import matplotlib\n",
    "matplotlib.use(\"Agg\") "
   ]
  },
  {
   "cell_type": "code",
   "execution_count": 6,
   "metadata": {},
   "outputs": [],
   "source": [
    "import sys\n",
    "import os\n",
    "\n",
    "sys.path.append(os.path.abspath(\"../src\"))  # Add folder_a to sys.path\n",
    "# from preprocessing import process_line, add_stimulus_events\n",
    "from config import *"
   ]
  },
  {
   "cell_type": "code",
   "execution_count": 8,
   "metadata": {},
   "outputs": [],
   "source": [
    "experiment = \"EVIL_BASTARD\"\n",
    "events_df = pd.read_parquet(f\"{PREPROCESSED_DIR}/{experiment}_events.pq\")\n",
    "samples_df = pd.read_parquet(f\"{RAW_DIR}/{experiment}_samples.pq\")"
   ]
  },
  {
   "cell_type": "code",
   "execution_count": null,
   "metadata": {},
   "outputs": [],
   "source": [
    "fixpoints = events_df[events_df[\"event\"]==\"FIXPOINT\"].loc[:,[\"trial_id\", \"time\", \"event\", \"stimulus_x\", \"stimulus_y\"]]"
   ]
  },
  {
   "cell_type": "code",
   "execution_count": null,
   "metadata": {},
   "outputs": [],
   "source": [
    "events_trials = events_df[(events_df[\"event\"]==\"START\") | (events_df[\"event\"]==\"END\")].loc[:,[\"trial_id\", \"time\", \"event\"]]"
   ]
  },
  {
   "cell_type": "code",
   "execution_count": 45,
   "metadata": {},
   "outputs": [],
   "source": [
    "trials = events_trials.pivot(index=\"trial_id\",columns=\"event\")\n",
    "trials.columns = [\"end_time\", \"start_time\"]"
   ]
  },
  {
   "cell_type": "code",
   "execution_count": 46,
   "metadata": {},
   "outputs": [
    {
     "data": {
      "text/html": [
       "<div>\n",
       "<style scoped>\n",
       "    .dataframe tbody tr th:only-of-type {\n",
       "        vertical-align: middle;\n",
       "    }\n",
       "\n",
       "    .dataframe tbody tr th {\n",
       "        vertical-align: top;\n",
       "    }\n",
       "\n",
       "    .dataframe thead th {\n",
       "        text-align: right;\n",
       "    }\n",
       "</style>\n",
       "<table border=\"1\" class=\"dataframe\">\n",
       "  <thead>\n",
       "    <tr style=\"text-align: right;\">\n",
       "      <th></th>\n",
       "      <th>end_time</th>\n",
       "      <th>start_time</th>\n",
       "    </tr>\n",
       "    <tr>\n",
       "      <th>trial_id</th>\n",
       "      <th></th>\n",
       "      <th></th>\n",
       "    </tr>\n",
       "  </thead>\n",
       "  <tbody>\n",
       "    <tr>\n",
       "      <th>0</th>\n",
       "      <td>450395.0</td>\n",
       "      <td>435248.0</td>\n",
       "    </tr>\n",
       "    <tr>\n",
       "      <th>1</th>\n",
       "      <td>470132.0</td>\n",
       "      <td>454960.0</td>\n",
       "    </tr>\n",
       "    <tr>\n",
       "      <th>2</th>\n",
       "      <td>489980.0</td>\n",
       "      <td>474836.0</td>\n",
       "    </tr>\n",
       "    <tr>\n",
       "      <th>3</th>\n",
       "      <td>510314.0</td>\n",
       "      <td>495158.0</td>\n",
       "    </tr>\n",
       "  </tbody>\n",
       "</table>\n",
       "</div>"
      ],
      "text/plain": [
       "          end_time  start_time\n",
       "trial_id                      \n",
       "0         450395.0    435248.0\n",
       "1         470132.0    454960.0\n",
       "2         489980.0    474836.0\n",
       "3         510314.0    495158.0"
      ]
     },
     "execution_count": 46,
     "metadata": {},
     "output_type": "execute_result"
    }
   ],
   "source": [
    "trials"
   ]
  },
  {
   "cell_type": "code",
   "execution_count": null,
   "metadata": {},
   "outputs": [],
   "source": [
    "samples_df"
   ]
  },
  {
   "cell_type": "code",
   "execution_count": 48,
   "metadata": {},
   "outputs": [],
   "source": [
    "samples[\"trial_id\"]= \"\"\n",
    "for t_id, (start_time, end_time) in enumerate(zip(trials[\"start_time\"], trials[\"end_time\"])):\n",
    "    samples.loc[(samples[\"time\"] >= start_time) & (samples[\"time\"] <= end_time),\"trial_id\"] = t_id"
   ]
  },
  {
   "cell_type": "code",
   "execution_count": 49,
   "metadata": {},
   "outputs": [
    {
     "data": {
      "text/html": [
       "<div>\n",
       "<style scoped>\n",
       "    .dataframe tbody tr th:only-of-type {\n",
       "        vertical-align: middle;\n",
       "    }\n",
       "\n",
       "    .dataframe tbody tr th {\n",
       "        vertical-align: top;\n",
       "    }\n",
       "\n",
       "    .dataframe thead th {\n",
       "        text-align: right;\n",
       "    }\n",
       "</style>\n",
       "<table border=\"1\" class=\"dataframe\">\n",
       "  <thead>\n",
       "    <tr style=\"text-align: right;\">\n",
       "      <th></th>\n",
       "      <th>trial_id</th>\n",
       "      <th>event</th>\n",
       "      <th>stimulus_x</th>\n",
       "      <th>stimulus_y</th>\n",
       "    </tr>\n",
       "  </thead>\n",
       "  <tbody>\n",
       "    <tr>\n",
       "      <th>4</th>\n",
       "      <td>0</td>\n",
       "      <td>FIXPOINT</td>\n",
       "      <td>981.0</td>\n",
       "      <td>524.0</td>\n",
       "    </tr>\n",
       "    <tr>\n",
       "      <th>77</th>\n",
       "      <td>1</td>\n",
       "      <td>FIXPOINT</td>\n",
       "      <td>1019.0</td>\n",
       "      <td>520.0</td>\n",
       "    </tr>\n",
       "    <tr>\n",
       "      <th>154</th>\n",
       "      <td>2</td>\n",
       "      <td>FIXPOINT</td>\n",
       "      <td>1000.0</td>\n",
       "      <td>600.0</td>\n",
       "    </tr>\n",
       "    <tr>\n",
       "      <th>357</th>\n",
       "      <td>3</td>\n",
       "      <td>FIXPOINT</td>\n",
       "      <td>931.0</td>\n",
       "      <td>522.0</td>\n",
       "    </tr>\n",
       "  </tbody>\n",
       "</table>\n",
       "</div>"
      ],
      "text/plain": [
       "     trial_id     event  stimulus_x  stimulus_y\n",
       "4           0  FIXPOINT       981.0       524.0\n",
       "77          1  FIXPOINT      1019.0       520.0\n",
       "154         2  FIXPOINT      1000.0       600.0\n",
       "357         3  FIXPOINT       931.0       522.0"
      ]
     },
     "execution_count": 49,
     "metadata": {},
     "output_type": "execute_result"
    }
   ],
   "source": [
    "fixpoints"
   ]
  },
  {
   "cell_type": "code",
   "execution_count": 108,
   "metadata": {},
   "outputs": [
    {
     "name": "stderr",
     "output_type": "stream",
     "text": [
      "/tmp/ipykernel_3477/227582175.py:16: UserWarning: No data for colormapping provided via 'c'. Parameters 'cmap' will be ignored\n",
      "  scatter_right = ax.scatter([], [], cmap='viridis', label=\"Right\", alpha=0.6)  # 's' is for size, 'c' is for color\n",
      "/tmp/ipykernel_3477/227582175.py:17: UserWarning: No data for colormapping provided via 'c'. Parameters 'cmap' will be ignored\n",
      "  scatter_left = ax.scatter([], [], cmap='coolwarm', label=\"Left\", alpha=0.6)  # 's' is for size, 'c' is for color\n"
     ]
    }
   ],
   "source": [
    "import numpy as np\n",
    "import matplotlib.pyplot as plt\n",
    "from matplotlib import animation\n",
    "\n",
    "x = samples.loc[samples[\"trial_id\"]==0]\n",
    "x_sampled = x[x.index % 100 ==0]\n",
    "\n",
    "fixpoint = fixpoints.loc[fixpoints[\"trial_id\"]==0]\n",
    "\n",
    "# Apply Seaborn style\n",
    "sns.set(style=\"whitegrid\")\n",
    "\n",
    "fig, ax = plt.subplots(1, 1, figsize = (6, 6))\n",
    "\n",
    "# Initialize the scatter plot object\n",
    "scatter_right = ax.scatter([], [], cmap='viridis', label=\"Right\", alpha=0.6)  # 's' is for size, 'c' is for color\n",
    "scatter_left = ax.scatter([], [], cmap='coolwarm', label=\"Left\", alpha=0.6)  # 's' is for size, 'c' is for color\n",
    "scatter_fixpoint = ax.scatter([], [], c=\"red\", label=\"Fixpoint\", alpha=0.6, s=50)  # 's' is for size, 'c' is for color\n",
    "\n",
    "x_min = min(min(x_sampled[\"x_right\"]), min(x_sampled[\"x_left\"]))\n",
    "x_max = max(max(x_sampled[\"x_right\"]), max(x_sampled[\"x_left\"]))\n",
    "y_min =  min(min(x_sampled[\"y_right\"]), min(x_sampled[\"y_left\"]))\n",
    "y_max = max(max(x_sampled[\"y_right\"]), max(x_sampled[\"y_left\"]))\n",
    "ax.set_xlim([x_min, x_max]) # fix the x axis\n",
    "ax.set_ylim([y_min, y_max]) # fix the y axis\n",
    "\n",
    "# Add legend to distinguish between the three points\n",
    "ax.legend()\n",
    "\n",
    "# Initialize function: this is called to create the background of each frame\n",
    "def init():\n",
    "    scatter_right.set_offsets([])  # Set empty offsets initially\n",
    "    scatter_left.set_offsets([])  # Set empty offsets initially\n",
    "    scatter_fixpoint.set_offsets([])  # Set empty offsets initially    \n",
    "    # scatter.set_sizes([])    # Set empty sizes initially\n",
    "    # scatter.set_array([])    # Set empty color array initially\n",
    "    return scatter_left, scatter_right, scatter_fixpoint,\n",
    "\n",
    "def animate(i):\n",
    "    # Update the scatter plot data for each frame\n",
    "    coords_right = np.c_[x_sampled[\"x_left\"].iloc[i], x_sampled[\"y_right\"].iloc[i]]  # Update coordinates\n",
    "    # sizes = x_sampled[\"x_velocity_right\"][:i]                   # Update sizes based on density\n",
    "    # colors = x_sampled[\"x_velocity_right\"][:i]                   # Update color if needed (optional)\n",
    "\n",
    "    coords_left = np.c_[x_sampled[\"x_left\"].iloc[i], x_sampled[\"y_left\"].iloc[i]]  # Update coordinates\n",
    "\n",
    "    if x_sampled[\"time\"].iloc[i] > fixpoint[\"time\"].iloc[0]:\n",
    "        coords_fixpoint = np.array([[fixpoint[\"stimulus_x\"].iloc[0], fixpoint[\"stimulus_y\"].iloc[0]]])\n",
    "    else:\n",
    "        coords_fixpoint = np.array([[-1, -1]]) \n",
    "\n",
    "    # Update the scatter plot data for each frame\n",
    "    scatter_right.set_offsets(coords_right)  # Update coordinates\n",
    "    # scatter.set_sizes(sizes)                    # Update sizes based on density\n",
    "    # scatter.set_array(colors)                    # Update color if needed (optional)\n",
    "    \n",
    "    scatter_left.set_offsets(coords_left)\n",
    "    scatter_fixpoint.set_offsets(coords_fixpoint)\n",
    "\n",
    "    return scatter_right, scatter_left, scatter_fixpoint\n",
    "\n",
    "anim = animation.FuncAnimation(\n",
    "    fig, \n",
    "    animate, \n",
    "    frames = len(x_sampled), \n",
    "    interval=100,\n",
    "    blit = False\n",
    ")\n",
    "\n",
    "anim.save(\"animation.mp4\", writer=\"ffmpeg\", fps=30)\n"
   ]
  },
  {
   "cell_type": "code",
   "execution_count": null,
   "metadata": {},
   "outputs": [],
   "source": []
  }
 ],
 "metadata": {
  "kernelspec": {
   "display_name": ".venv",
   "language": "python",
   "name": "python3"
  },
  "language_info": {
   "codemirror_mode": {
    "name": "ipython",
    "version": 3
   },
   "file_extension": ".py",
   "mimetype": "text/x-python",
   "name": "python",
   "nbconvert_exporter": "python",
   "pygments_lexer": "ipython3",
   "version": "3.12.3"
  }
 },
 "nbformat": 4,
 "nbformat_minor": 2
}
