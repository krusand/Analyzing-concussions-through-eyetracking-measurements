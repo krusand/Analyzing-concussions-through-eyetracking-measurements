{
 "cells": [
  {
   "cell_type": "markdown",
   "metadata": {},
   "source": [
    "# Visualising Eye Movement"
   ]
  },
  {
   "cell_type": "code",
   "execution_count": 1,
   "metadata": {},
   "outputs": [],
   "source": [
    "import pandas as pd\n",
    "\n",
    "import matplotlib.pyplot as plt\n",
    "from matplotlib import animation\n",
    "import seaborn as sns\n",
    "import numpy as np\n",
    "\n",
    "import matplotlib\n",
    "matplotlib.use(\"Agg\") "
   ]
  },
  {
   "cell_type": "code",
   "execution_count": 2,
   "metadata": {},
   "outputs": [],
   "source": [
    "import sys\n",
    "import os\n",
    "\n",
    "sys.path.append(os.path.abspath(\"../src\"))  # Add folder_a to sys.path\n",
    "from config import *"
   ]
  },
  {
   "cell_type": "code",
   "execution_count": 4,
   "metadata": {},
   "outputs": [],
   "source": [
    "experiment = \"EVIL_BASTARD\"\n",
    "participant_ids = pd.read_parquet(\n",
    "        f\"{PREPROCESSED_DIR}/{experiment}_samples.pq\", \n",
    "        columns=[\"participant_id\"]\n",
    "    )\n",
    "\n",
    "participant_ids = participant_ids[\"participant_id\"].unique()"
   ]
  },
  {
   "cell_type": "code",
   "execution_count": null,
   "metadata": {},
   "outputs": [],
   "source": [
    "# Read data for participant\n",
    "participant_id = participant_ids[10]\n",
    "filters = [('participant_id', '=', str(participant_id))]\n",
    "\n",
    "samples_df = pd.read_parquet(\n",
    "    f\"{PREPROCESSED_DIR}/{experiment}_samples.pq\",\n",
    "    filters=[('participant_id', '=', participant_id)]\n",
    "    )\n",
    "\n",
    "events_df = pd.read_parquet(\n",
    "    f\"{PREPROCESSED_DIR}/{experiment}_events.pq\",\n",
    "    filters=[('participant_id', '=', participant_id)]\n",
    "    )"
   ]
  },
  {
   "cell_type": "code",
   "execution_count": null,
   "metadata": {},
   "outputs": [],
   "source": [
    "events_df"
   ]
  },
  {
   "cell_type": "code",
   "execution_count": null,
   "metadata": {},
   "outputs": [],
   "source": [
    "trial_id=0\n",
    "\n",
    "sample_df = samples_df.loc[samples_df[\"trial_id\"]==trial_id,:]\n",
    "\n",
    "# Extract fixpoints\n",
    "event_df = events_df.loc[events_df[\"trial_id\"]==trial_id,:]\n",
    "fixpoints_df = event_df[event_df[\"event\"]==\"FIXPOINT\"].loc[:,[\"participant_id\", \"trial_id\", \"time\", \"event\", \"colour\", \"stimulus_x\", \"stimulus_y\"]]\n",
    "\n",
    "# Insert fixpoints in sample data\n",
    "# Ensure you are modifying actual copies\n",
    "sample_df = sample_df.copy()\n",
    "fixpoints_df = fixpoints_df.copy()\n",
    "\n",
    "# Sort by participant_id, trial_id, then time (important for merge_asof with 'by')\n",
    "sample_df = sample_df.sort_values([\"participant_id\", \"trial_id\", \"time\"])\n",
    "fixpoints_df = fixpoints_df.sort_values([\"participant_id\", \"trial_id\", \"time\"])\n",
    "\n",
    "# Rename 'colour' column to 'fixpoint' so it's ready to merge\n",
    "fixpoints_df = fixpoints_df.rename(columns={\"colour\": \"fixpoint\"})\n",
    "\n",
    "# Perform a backward-looking join: for each row in sample_df, find the most recent fixpoint time\n",
    "sample_df = pd.merge_asof(\n",
    "    sample_df,\n",
    "    fixpoints_df,\n",
    "    on=[\"time\"],\n",
    "    by=[\"participant_id\", \"trial_id\"],\n",
    "    direction=\"nearest\",\n",
    "    tolerance=10\n",
    ")\n",
    "\n",
    "sample_df[\"fixpoint\"] = sample_df[\"fixpoint\"].map({RED:\"red\", GREEN:\"green\", BLUE:\"blue\", WHITE:\"white\"})"
   ]
  },
  {
   "cell_type": "code",
   "execution_count": 30,
   "metadata": {},
   "outputs": [
    {
     "name": "stderr",
     "output_type": "stream",
     "text": [
      "/tmp/ipykernel_20230/2851728046.py:10: UserWarning: No data for colormapping provided via 'c'. Parameters 'cmap' will be ignored\n",
      "  scatter_right = ax.scatter([], [], cmap='viridis', label=\"Right\", alpha=0.6)  # 's' is for size, 'c' is for color\n",
      "/tmp/ipykernel_20230/2851728046.py:11: UserWarning: No data for colormapping provided via 'c'. Parameters 'cmap' will be ignored\n",
      "  scatter_left = ax.scatter([], [], cmap='coolwarm', label=\"Left\", alpha=0.6)  # 's' is for size, 'c' is for color\n",
      "2025-04-21 11:11:56,428 - INFO - animation.save:1076 - Animation.save using <class 'matplotlib.animation.FFMpegWriter'>\n",
      "2025-04-21 11:11:56,430 - INFO - animation._run:319 - MovieWriter._run: running command: ffmpeg -f rawvideo -vcodec rawvideo -s 600x600 -pix_fmt rgba -framerate 30 -loglevel error -i pipe: -vcodec h264 -pix_fmt yuv420p -y Animations/EVIL_BASTARD_146_0.mp4\n"
     ]
    }
   ],
   "source": [
    "x = sample_df.copy()\n",
    "x_sampled = x[x.index % 100 == 0]\n",
    "\n",
    "# Apply Seaborn style\n",
    "sns.set(style=\"whitegrid\")\n",
    "\n",
    "fig, ax = plt.subplots(1, 1, figsize = (6, 6))\n",
    "\n",
    "# Initialize the scatter plot object\n",
    "scatter_right = ax.scatter([], [], cmap='viridis', label=\"Right\", alpha=0.6)  # 's' is for size, 'c' is for color\n",
    "scatter_left = ax.scatter([], [], cmap='coolwarm', label=\"Left\", alpha=0.6)  # 's' is for size, 'c' is for color\n",
    "scatter_fixpoint = ax.scatter([], [], label=\"Fixpoint\", alpha=0.6, s=50)  # 's' is for size, 'c' is for color\n",
    "\n",
    "x_min, x_max = 0, 1920 \n",
    "y_min, y_max = 0, 1080 \n",
    "ax.set_xlim([x_min, x_max]) \n",
    "ax.set_ylim([y_min, y_max]) \n",
    "\n",
    "# Add legend to distinguish between the three points\n",
    "ax.legend()\n",
    "\n",
    "def animate(i):\n",
    "    # Update the scatter plot data for each frame\n",
    "    \n",
    "    # Update coordinates\n",
    "    coords_right = np.c_[x_sampled[\"x_left\"].iloc[i], x_sampled[\"y_right\"].iloc[i]]\n",
    "    coords_left = np.c_[x_sampled[\"x_left\"].iloc[i], x_sampled[\"y_left\"].iloc[i]] \n",
    "    coords_fixpoint = np.c_[x_sampled[\"stimulus_x\"].iloc[i], x_sampled[\"stimulus_y\"].iloc[i]] \n",
    "\n",
    "    scatter_right.set_offsets(coords_right)    \n",
    "    scatter_left.set_offsets(coords_left)\n",
    "    scatter_fixpoint.set_offsets(coords_fixpoint)\n",
    "\n",
    "    # Update colour based on fixpoint\n",
    "    fixpoint_color = x_sampled[\"fixpoint\"].iloc[i]\n",
    "    if pd.isna(fixpoint_color):\n",
    "        fixpoint_color = \"gray\"\n",
    "    elif fixpoint_color == \"white\":\n",
    "        fixpoint_color = \"black\"\n",
    "    scatter_fixpoint.set_color([fixpoint_color])\n",
    "\n",
    "    return scatter_right, scatter_left, scatter_fixpoint\n",
    "\n",
    "anim = animation.FuncAnimation(\n",
    "    fig, \n",
    "    animate, \n",
    "    frames = len(x_sampled), \n",
    "    interval=100,\n",
    "    blit = False\n",
    ")\n",
    "\n",
    "anim.save(f\"Animations/{experiment}_{participant_id}_{trial_id}.mp4\", writer=\"ffmpeg\", fps=30)\n",
    "\n"
   ]
  },
  {
   "cell_type": "code",
   "execution_count": null,
   "metadata": {},
   "outputs": [],
   "source": []
  }
 ],
 "metadata": {
  "kernelspec": {
   "display_name": ".venv",
   "language": "python",
   "name": "python3"
  },
  "language_info": {
   "codemirror_mode": {
    "name": "ipython",
    "version": 3
   },
   "file_extension": ".py",
   "mimetype": "text/x-python",
   "name": "python",
   "nbconvert_exporter": "python",
   "pygments_lexer": "ipython3",
   "version": "3.12.3"
  }
 },
 "nbformat": 4,
 "nbformat_minor": 2
}
