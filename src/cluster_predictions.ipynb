{
 "cells": [
  {
   "cell_type": "code",
   "execution_count": 104,
   "metadata": {},
   "outputs": [],
   "source": [
    "import pandas as pd\n",
    "pd.options.mode.chained_assignment = None\n",
    "import numpy as np\n",
    "import re\n",
    "from config import *\n",
    "\n",
    "# Sklearn\n",
    "from sklearn.decomposition import PCA\n",
    "from sklearn.discriminant_analysis import LinearDiscriminantAnalysis\n",
    "from sklearn.mixture import GaussianMixture\n",
    "from sklearn.feature_selection import VarianceThreshold\n",
    "from sklearn.model_selection import StratifiedKFold, train_test_split\n",
    "from sklearn.cluster import AgglomerativeClustering, DBSCAN, KMeans, HDBSCAN\n",
    "from sklearn.metrics import silhouette_score\n",
    "from sklearn.manifold import TSNE\n",
    "from sklearn.preprocessing import StandardScaler\n",
    "from sklearn.mixture import GaussianMixture\n",
    "from sklearn.base import clone\n",
    "from sklearn.model_selection import GridSearchCV\n",
    "from sklearn.ensemble import RandomForestClassifier\n",
    "from kneed import KneeLocator\n",
    "from scipy import stats\n",
    "\n",
    "\n",
    "from scipy.cluster.hierarchy import dendrogram, linkage\n",
    "\n",
    "import umap\n",
    "\n",
    "# Visual\n",
    "import matplotlib as mpl\n",
    "import matplotlib.pyplot as plt\n",
    "from matplotlib.colors import ListedColormap\n",
    "import seaborn as sns\n",
    "\n",
    "from itertools import permutations \n",
    "from tqdm import tqdm"
   ]
  },
  {
   "cell_type": "code",
   "execution_count": 124,
   "metadata": {},
   "outputs": [],
   "source": [
    "\n",
    "def remove_low_variance_features(X, threshold=0.01):\n",
    "    \"\"\"\n",
    "    Remove features with variance below a specified threshold.\n",
    "    \n",
    "    Parameters:\n",
    "    -----------\n",
    "    X : DataFrame\n",
    "        Feature matrix\n",
    "    threshold : float, optional (default=0.01)\n",
    "        Variance threshold below which features will be removed\n",
    "        \n",
    "    Returns:\n",
    "    --------\n",
    "    X_reduced : DataFrame\n",
    "        Feature matrix with low variance features removed\n",
    "    \"\"\"\n",
    "    # Apply variance threshold\n",
    "    selector = VarianceThreshold(threshold=threshold)\n",
    "    selector.fit(X)\n",
    "\n",
    "    # Get selected feature names\n",
    "    selected_feature_names = X.columns[selector.get_support()]\n",
    "\n",
    "    # Create reduced DataFrame\n",
    "    X_reduced = X[selected_feature_names]\n",
    "\n",
    "    logging.info(f\"Kept {X_reduced.shape[1]} features out of {X.shape[1]}\")\n",
    "    \n",
    "    return X_reduced\n",
    "\n",
    "def remove_multicollineraity(X, y, feature_corr_threshold=0.85):\n",
    "    \"\"\"\n",
    "    Remove highly correlated features while prioritizing features with higher correlation to target.\n",
    "    \n",
    "    Parameters:\n",
    "    -----------\n",
    "    X : DataFrame\n",
    "        Feature matrix\n",
    "    y : Series or DataFrame\n",
    "        Target variable\n",
    "    feature_corr_threshold : float, optional (default=0.85)\n",
    "        Threshold above which features are considered highly correlated\n",
    "        \n",
    "    Returns:\n",
    "    --------\n",
    "    X_reduced : DataFrame\n",
    "        Feature matrix with highly correlated features removed\n",
    "    \"\"\"\n",
    "    # Covert y to series\n",
    "    y = y.iloc[:,0]\n",
    "    \n",
    "    # Calculate feature-feature correlation matrix\n",
    "    corr_matrix = X.corr().abs()\n",
    "    upper = corr_matrix.where(np.triu(np.ones(corr_matrix.shape), k=1).astype(bool))\n",
    "\n",
    "    # Calculate feature-target correlation\n",
    "    corr_with_y = pd.DataFrame(X.corrwith(y).abs(), columns=[\"Corr\"])\n",
    "    \n",
    "    # Add variance as secondary criterion for tie-breaking\n",
    "    corr_with_y[\"Variance\"] = X.var().values\n",
    "    \n",
    "    # Sort by correlation with target (primary) and variance (secondary)\n",
    "    corr_with_y_sorted = corr_with_y.sort_values(\n",
    "        by=[\"Corr\", \"Variance\"], ascending=[False, False]\n",
    "    )\n",
    "\n",
    "    # Remove highly correlated features\n",
    "    to_drop = set()\n",
    "    for column in corr_with_y_sorted.index:\n",
    "        if column in to_drop:\n",
    "            continue\n",
    "        \n",
    "        # Find highly correlated features\n",
    "        corr_features = upper.index[upper[column] > feature_corr_threshold].tolist()\n",
    "        \n",
    "        for corr_feature in corr_features:\n",
    "            if corr_feature not in to_drop:\n",
    "                to_drop.add(corr_feature)\n",
    "\n",
    "    X_reduced = X.drop(columns=list(to_drop))\n",
    "\n",
    "    logging.info(f\"Removed {len(to_drop)} highly correlated features: {to_drop}\")\n",
    "    \n",
    "    return X_reduced\n",
    "\n",
    "def remove_outliers(X, method:str = \"MAD\", threshold:float = 3.0):\n",
    "    if method == 'MAD':\n",
    "        for col in X.columns:\n",
    "            data = X[col]\n",
    "            median = np.nanmedian(data)\n",
    "            abs_diff = np.abs(data - median)\n",
    "            mad = np.nanmedian(abs_diff)\n",
    "\n",
    "            if mad == 0 or np.isnan(mad):\n",
    "                continue\n",
    "\n",
    "            outlier_mask = (np.abs(data - median)) > (threshold * mad)\n",
    "            X.loc[outlier_mask, col] = np.nan\n",
    "        return X\n",
    "    else:\n",
    "        return X\n",
    "    "
   ]
  },
  {
   "cell_type": "code",
   "execution_count": 126,
   "metadata": {},
   "outputs": [
    {
     "name": "stderr",
     "output_type": "stream",
     "text": [
      "2025-05-09 14:52:26,884 - INFO - 1152532481.remove_low_variance_features:27 - Kept 493 features out of 520\n",
      "2025-05-09 14:52:26,975 - INFO - 1152532481.remove_multicollineraity:82 - Removed 174 highly correlated features: {'SHAPES_duration_mean_fix', 'REACTION_total_acceleration_magnitude_std', 'FIXATIONS_Var_total', 'EVIL_BASTARD_avg_pupil_size_median_fix', 'SHAPES_amplitude_mean_sacc', 'SMOOTH_PURSUITS_avg_pupil_size_min_fix', 'REACTION_peak_velocity_mean_sacc', 'EVIL_BASTARD_fixations_per_second_min', 'KING_DEVICK_avg_pupil_size_mean_fix', 'SHAPES_fixations_per_second_max', 'KING_DEVICK_duration_max_fix', 'FITTS_LAW_fixations_per_second_median', 'FITTS_LAW_avg_pupil_size_min_fix', 'ANTI_SACCADE_avg_pupil_size_min_fix', 'KING_DEVICK_amplitude_mean_sacc', 'KING_DEVICK_avg_pupil_size_median_fix', 'FIXATIONS_total_acceleration_magnitude_median', 'EVIL_BASTARD_distance_to_fixpoint_x_mean', 'ANTI_SACCADE_peak_velocity_mean_sacc', 'SMOOTH_PURSUITS_avg_pupil_size_mean_fix', 'ANTI_SACCADE_total_acceleration_magnitude_mean', 'KING_DEVICK_saccades_per_second_max', 'SMOOTH_PURSUITS_distance_to_fixpoint_y_mean', 'SHAPES_duration_max_fix', 'FIXATIONS_duration_mean_fix', 'EVIL_BASTARD_duration_mean_fix', 'FITTS_LAW_avg_pupil_size_std_fix', 'EVIL_BASTARD_distance_to_fixpoint_y_mean', 'KING_DEVICK_duration_mean_sacc', 'FIXATIONS_fixations_per_second_mean', 'FITTS_LAW_fixations_per_second_mean', 'FIXATIONS_distance_to_fixpoint_mean', 'REACTION_total_acceleration_magnitude_max', 'EVIL_BASTARD_fixation_distance_mean', 'SHAPES_saccades_per_second_max', 'ANTI_SACCADE_duration_mean_fix', 'EVIL_BASTARD_x_fixation_dist_mean', 'FIXATIONS_amplitude_max_sacc', 'KING_DEVICK_duration_mean_fix', 'EVIL_BASTARD_saccades_per_second_max', 'SMOOTH_PURSUITS_distance_to_fixpoint_max', 'ANTI_SACCADE_saccades_per_second_mean', 'SHAPES_distance_to_fixpoint_mean', 'EVIL_BASTARD_fixation_distance_std', 'SHAPES_distance_to_fixpoint_max', 'KING_DEVICK_wrong_direction_saccade_pct_mean', 'FIXATIONS_amplitude_mean_sacc', 'SMOOTH_PURSUITS_fixations_per_second_max', 'EVIL_BASTARD_amplitude_mean_sacc', 'KING_DEVICK_wrong_direction_saccade_pct_max', 'REACTION_avg_pupil_size_median_fix', 'KING_DEVICK_wrong_direction_saccade_pct_min', 'SHAPES_fixation_distance_median', 'EVIL_BASTARD_duration_max_sacc', 'REACTION_saccades_per_second_mean', 'EVIL_BASTARD_total_acceleration_magnitude_median', 'KING_DEVICK_duration_max_sacc', 'FIXATIONS_peak_velocity_mean_sacc', 'SMOOTH_PURSUITS_distance_to_fixpoint_std', 'KING_DEVICK_total_acceleration_magnitude_std', 'SMOOTH_PURSUITS_saccades_per_second_mean', 'FIXATIONS_fixations_per_second_median', 'KING_DEVICK_total_acceleration_magnitude_max', 'FIXATIONS_avg_pupil_size_max_fix', 'REACTION_avg_pupil_size_mean_fix', 'SMOOTH_PURSUITS_duration_max_sacc', 'ANTI_SACCADE_avg_pupil_size_max_fix', 'SMOOTH_PURSUITS_fixations_per_second_mean', 'EVIL_BASTARD_fixations_per_second_median', 'SMOOTH_PURSUITS_fixations_per_second_min', 'REACTION_avg_pupil_size_max_fix', 'SMOOTH_PURSUITS_distance_to_fixpoint_mean', 'FIXATIONS_fixations_per_second_min', 'FITTS_LAW_saccades_per_second_min', 'SHAPES_fixation_distance_std', 'SHAPES_distance_to_fixpoint_y_mean', 'SHAPES_duration_std_fix', 'SHAPES_distance_to_fixpoint_median', 'EVIL_BASTARD_fixations_per_second_mean', 'ANTI_SACCADE_total_acceleration_magnitude_max', 'ANTI_SACCADE_avg_pupil_size_mean_fix', 'SMOOTH_PURSUITS_total_acceleration_magnitude_max', 'EVIL_BASTARD_avg_pupil_size_std_fix', 'REACTION_saccades_per_second_max', 'SMOOTH_PURSUITS_duration_mean_sacc', 'ANTI_SACCADE_total_acceleration_magnitude_std', 'SHAPES_fixation_distance_max', 'SHAPES_fixation_distance_mean', 'FITTS_LAW_avg_pupil_size_median_fix', 'EVIL_BASTARD_duration_mean_sacc', 'SMOOTH_PURSUITS_amplitude_mean_sacc', 'SHAPES_fixations_per_second_min', 'SMOOTH_PURSUITS_distance_to_fixpoint_x_mean', 'EVIL_BASTARD_distance_to_fixpoint_mean', 'FIXATIONS_duration_max_sacc', 'EVIL_BASTARD_total_acceleration_magnitude_max', 'FITTS_LAW_fixations_per_second_std', 'ANTI_SACCADE_avg_pupil_size_median_fix', 'FIXATIONS_fixations_per_second_std', 'SHAPES_fixations_per_second_median', 'EVIL_BASTARD_distance_to_fixpoint_std', 'SMOOTH_PURSUITS_duration_max_fix', 'FITTS_LAW_total_acceleration_magnitude_median', 'FIXATIONS_avg_pupil_size_mean_fix', 'FITTS_LAW_fixation_overshoot_mean', 'FITTS_LAW_peak_velocity_mean_sacc', 'FITTS_LAW_duration_max_sacc', 'EVIL_BASTARD_fixation_distance_median', 'SMOOTH_PURSUITS_fixations_per_second_std', 'EVIL_BASTARD_fixations_per_second_std', 'FITTS_LAW_total_acceleration_magnitude_max', 'FIXATIONS_total_acceleration_magnitude_max', 'FIXATIONS_duration_mean_sacc', 'FIXATIONS_duration_max_fix', 'EVIL_BASTARD_distance_to_fixpoint_max', 'SHAPES_avg_pupil_size_median_fix', 'SHAPES_distance_to_fixpoint_x_mean', 'FITTS_LAW_duration_mean_fix', 'REACTION_duration_mean_fix', 'FIXATIONS_total_acceleration_magnitude_std', 'EVIL_BASTARD_Var_total', 'KING_DEVICK_avg_pupil_size_min_fix', 'FITTS_LAW_avg_pupil_size_max_fix', 'EVIL_BASTARD_saccades_per_second_mean', 'FITTS_LAW_fixation_overshoot_max', 'SMOOTH_PURSUITS_peak_velocity_std_sacc', 'ANTI_SACCADE_avg_pupil_size_std_fix', 'SMOOTH_PURSUITS_x_fixation_dist_std', 'SHAPES_avg_pupil_size_min_fix', 'FIXATIONS_avg_pupil_size_median_fix', 'KING_DEVICK_avg_pupil_size_max_fix', 'FITTS_LAW_saccades_per_second_max', 'SHAPES_fixations_per_second_mean', 'FIXATIONS_saccades_per_second_mean', 'FIXATIONS_saccades_per_second_min', 'SHAPES_avg_pupil_size_mean_fix', 'SHAPES_saccades_per_second_mean', 'FIXATIONS_fixations_per_second_max', 'SMOOTH_PURSUITS_fixations_per_second_median', 'KING_DEVICK_saccades_per_second_min', 'FITTS_LAW_fixations_per_second_min', 'REACTION_duration_max_sacc', 'FITTS_LAW_amplitude_mean_sacc', 'EVIL_BASTARD_fixations_per_second_max', 'ANTI_SACCADE_total_acceleration_magnitude_median', 'EVIL_BASTARD_avg_pupil_size_max_fix', 'SHAPES_distance_to_fixpoint_std', 'FITTS_LAW_fixations_per_second_max', 'SHAPES_x_fixation_dist_std', 'SHAPES_total_acceleration_magnitude_max', 'SHAPES_duration_mean_sacc', 'EVIL_BASTARD_total_acceleration_magnitude_std', 'SMOOTH_PURSUITS_distance_to_fixpoint_x_std', 'FIXATIONS_distance_to_fixpoint_max', 'ANTI_SACCADE_n_correct_trials', 'SMOOTH_PURSUITS_duration_median_fix', 'SMOOTH_PURSUITS_total_acceleration_magnitude_std', 'KING_DEVICK_saccades_per_second_mean', 'ANTI_SACCADE_duration_max_sacc', 'SMOOTH_PURSUITS_duration_mean_fix', 'SHAPES_total_acceleration_magnitude_std', 'ANTI_SACCADE_reaction_time_avg', 'FITTS_LAW_avg_pupil_size_mean_fix', 'FIXATIONS_distance_to_fixpoint_std', 'SHAPES_duration_max_sacc', 'SMOOTH_PURSUITS_fixation_distance_mean', 'FITTS_LAW_saccades_per_second_mean', 'FIXATIONS_avg_pupil_size_min_fix', 'FITTS_LAW_total_acceleration_magnitude_std', 'SHAPES_avg_pupil_size_max_fix', 'SMOOTH_PURSUITS_avg_pupil_size_max_fix', 'REACTION_duration_max_fix', 'FIXATIONS_saccades_per_second_max', 'EVIL_BASTARD_avg_pupil_size_mean_fix'}\n"
     ]
    }
   ],
   "source": [
    "all_features_with_info_raw = (pd.read_parquet(FEATURES_DIR / \"all_features.pq\"))\n",
    "all_features_with_info_raw = all_features_with_info_raw[~(all_features_with_info_raw.isna().sum(axis=1) == all_features_with_info_raw.shape[1]-2)]\n",
    "\n",
    "\n",
    "y = pd.DataFrame(all_features_with_info_raw[\"y\"], columns=[\"y\"])\n",
    "\n",
    "\n",
    "all_features_with_info = (all_features_with_info_raw\n",
    "        .pipe(remove_low_variance_features)\n",
    "        .pipe(remove_multicollineraity, y)\n",
    "        .pipe(remove_outliers, 10.0)\n",
    ")\n",
    "\n",
    "\n",
    "\n",
    "X = (all_features_with_info.query(\"y==1\")\n",
    " .drop([\"participant_id\", \"y\"], axis=1)\n",
    " .dropna()\n",
    ")\n",
    "\n",
    "X_stdz = pd.DataFrame(StandardScaler().fit_transform(X.values), columns=X.columns)"
   ]
  },
  {
   "cell_type": "code",
   "execution_count": 127,
   "metadata": {},
   "outputs": [
    {
     "data": {
      "image/png": "[encoded data removed]",
      "text/plain": [
       "<Figure size 640x480 with 1 Axes>"
      ]
     },
     "metadata": {},
     "output_type": "display_data"
    }
   ],
   "source": [
    "\n",
    "\n",
    "\n",
    "def plot_dendrogram(model, **kwargs):\n",
    "    # Create linkage matrix and then plot the dendrogram\n",
    "\n",
    "    # create the counts of samples under each node\n",
    "    counts = np.zeros(model.children_.shape[0])\n",
    "    n_samples = len(model.labels_)\n",
    "    for i, merge in enumerate(model.children_):\n",
    "        current_count = 0\n",
    "        for child_idx in merge:\n",
    "            if child_idx < n_samples:\n",
    "                current_count += 1  # leaf node\n",
    "            else:\n",
    "                current_count += counts[child_idx - n_samples]\n",
    "        counts[i] = current_count\n",
    "\n",
    "    linkage_matrix = np.column_stack(\n",
    "        [model.children_, model.distances_, counts]\n",
    "    ).astype(float)\n",
    "\n",
    "    # Plot the corresponding dendrogram\n",
    "    dendrogram(linkage_matrix, **kwargs)\n",
    "\n",
    "model = AgglomerativeClustering(distance_threshold=0,n_clusters=None)\n",
    "\n",
    "model = model.fit(X)\n",
    "plt.title(\"Hierarchical Clustering Dendrogram\")\n",
    "# plot the top three levels of the dendrogram\n",
    "plot_dendrogram(model, truncate_mode = 'level', p=100)\n",
    "plt.xlabel(\"Number of points in node (or index of point if no parenthesis).\")\n",
    "plt.show()"
   ]
  },
  {
   "cell_type": "code",
   "execution_count": 129,
   "metadata": {},
   "outputs": [],
   "source": [
    "n_clusters_to_try = range(2,15)\n",
    "\n",
    "clustering_results = {\n",
    "    \"n_clusters\": [],\n",
    "    \"silhouette_scores\": [],\n",
    "    \"labels\": []\n",
    "}\n",
    "\n",
    "for n_cluster in n_clusters_to_try:\n",
    "    model = AgglomerativeClustering(n_clusters=n_cluster)\n",
    "    model.fit(X)\n",
    "    labels = model.labels_\n",
    "    sil_score = silhouette_score(X, labels)\n",
    "    clustering_results[\"silhouette_scores\"].append(sil_score)\n",
    "    clustering_results[\"n_clusters\"].append(n_cluster)\n",
    "    clustering_results[\"labels\"].append(model.labels_)\n",
    "\n",
    "clustering_results = pd.DataFrame(clustering_results)"
   ]
  },
  {
   "cell_type": "code",
   "execution_count": 131,
   "metadata": {},
   "outputs": [
    {
     "name": "stderr",
     "output_type": "stream",
     "text": [
      "  0%|          | 0/13 [00:00<?, ?it/s]"
     ]
    },
    {
     "name": "stdout",
     "output_type": "stream",
     "text": [
      "Fitting 2 folds for each of 108 candidates, totalling 216 fits\n"
     ]
    },
    {
     "name": "stderr",
     "output_type": "stream",
     "text": [
      "  8%|▊         | 1/13 [00:03<00:42,  3.51s/it]"
     ]
    },
    {
     "name": "stdout",
     "output_type": "stream",
     "text": [
      "Fitting 2 folds for each of 108 candidates, totalling 216 fits\n"
     ]
    },
    {
     "name": "stderr",
     "output_type": "stream",
     "text": [
      " 15%|█▌        | 2/13 [00:05<00:26,  2.44s/it]"
     ]
    },
    {
     "name": "stdout",
     "output_type": "stream",
     "text": [
      "Fitting 2 folds for each of 108 candidates, totalling 216 fits\n"
     ]
    },
    {
     "name": "stderr",
     "output_type": "stream",
     "text": [
      " 23%|██▎       | 3/13 [00:06<00:21,  2.10s/it]"
     ]
    },
    {
     "name": "stdout",
     "output_type": "stream",
     "text": [
      "Fitting 2 folds for each of 108 candidates, totalling 216 fits\n"
     ]
    },
    {
     "name": "stderr",
     "output_type": "stream",
     "text": [
      " 31%|███       | 4/13 [00:08<00:17,  1.95s/it]/Users/viscom2025/Documents/Github/Analyzing-concussions-through-eyetracking-measurements/.venv/lib/python3.12/site-packages/sklearn/model_selection/_split.py:805: UserWarning: The least populated class in y has only 1 members, which is less than n_splits=2.\n",
      "  warnings.warn(\n"
     ]
    },
    {
     "name": "stdout",
     "output_type": "stream",
     "text": [
      "Fitting 2 folds for each of 108 candidates, totalling 216 fits\n"
     ]
    },
    {
     "name": "stderr",
     "output_type": "stream",
     "text": [
      " 38%|███▊      | 5/13 [00:10<00:14,  1.87s/it]/Users/viscom2025/Documents/Github/Analyzing-concussions-through-eyetracking-measurements/.venv/lib/python3.12/site-packages/sklearn/model_selection/_split.py:805: UserWarning: The least populated class in y has only 1 members, which is less than n_splits=2.\n",
      "  warnings.warn(\n"
     ]
    },
    {
     "name": "stdout",
     "output_type": "stream",
     "text": [
      "Fitting 2 folds for each of 108 candidates, totalling 216 fits\n"
     ]
    },
    {
     "name": "stderr",
     "output_type": "stream",
     "text": [
      " 46%|████▌     | 6/13 [00:12<00:12,  1.81s/it]/Users/viscom2025/Documents/Github/Analyzing-concussions-through-eyetracking-measurements/.venv/lib/python3.12/site-packages/sklearn/model_selection/_split.py:805: UserWarning: The least populated class in y has only 1 members, which is less than n_splits=2.\n",
      "  warnings.warn(\n"
     ]
    },
    {
     "name": "stdout",
     "output_type": "stream",
     "text": [
      "Fitting 2 folds for each of 108 candidates, totalling 216 fits\n"
     ]
    },
    {
     "name": "stderr",
     "output_type": "stream",
     "text": [
      " 54%|█████▍    | 7/13 [00:13<00:10,  1.78s/it]/Users/viscom2025/Documents/Github/Analyzing-concussions-through-eyetracking-measurements/.venv/lib/python3.12/site-packages/sklearn/model_selection/_split.py:805: UserWarning: The least populated class in y has only 1 members, which is less than n_splits=2.\n",
      "  warnings.warn(\n"
     ]
    },
    {
     "name": "stdout",
     "output_type": "stream",
     "text": [
      "Fitting 2 folds for each of 108 candidates, totalling 216 fits\n"
     ]
    },
    {
     "name": "stderr",
     "output_type": "stream",
     "text": [
      " 62%|██████▏   | 8/13 [00:15<00:08,  1.78s/it]/Users/viscom2025/Documents/Github/Analyzing-concussions-through-eyetracking-measurements/.venv/lib/python3.12/site-packages/sklearn/model_selection/_split.py:805: UserWarning: The least populated class in y has only 1 members, which is less than n_splits=2.\n",
      "  warnings.warn(\n"
     ]
    },
    {
     "name": "stdout",
     "output_type": "stream",
     "text": [
      "Fitting 2 folds for each of 108 candidates, totalling 216 fits\n"
     ]
    },
    {
     "name": "stderr",
     "output_type": "stream",
     "text": [
      " 69%|██████▉   | 9/13 [00:17<00:07,  1.78s/it]/Users/viscom2025/Documents/Github/Analyzing-concussions-through-eyetracking-measurements/.venv/lib/python3.12/site-packages/sklearn/model_selection/_split.py:805: UserWarning: The least populated class in y has only 1 members, which is less than n_splits=2.\n",
      "  warnings.warn(\n"
     ]
    },
    {
     "name": "stdout",
     "output_type": "stream",
     "text": [
      "Fitting 2 folds for each of 108 candidates, totalling 216 fits\n"
     ]
    },
    {
     "name": "stderr",
     "output_type": "stream",
     "text": [
      " 77%|███████▋  | 10/13 [00:19<00:05,  1.79s/it]/Users/viscom2025/Documents/Github/Analyzing-concussions-through-eyetracking-measurements/.venv/lib/python3.12/site-packages/sklearn/model_selection/_split.py:805: UserWarning: The least populated class in y has only 1 members, which is less than n_splits=2.\n",
      "  warnings.warn(\n"
     ]
    },
    {
     "name": "stdout",
     "output_type": "stream",
     "text": [
      "Fitting 2 folds for each of 108 candidates, totalling 216 fits\n"
     ]
    },
    {
     "name": "stderr",
     "output_type": "stream",
     "text": [
      " 85%|████████▍ | 11/13 [00:20<00:03,  1.79s/it]/Users/viscom2025/Documents/Github/Analyzing-concussions-through-eyetracking-measurements/.venv/lib/python3.12/site-packages/sklearn/model_selection/_split.py:805: UserWarning: The least populated class in y has only 1 members, which is less than n_splits=2.\n",
      "  warnings.warn(\n"
     ]
    },
    {
     "name": "stdout",
     "output_type": "stream",
     "text": [
      "Fitting 2 folds for each of 108 candidates, totalling 216 fits\n"
     ]
    },
    {
     "name": "stderr",
     "output_type": "stream",
     "text": [
      " 92%|█████████▏| 12/13 [00:22<00:01,  1.83s/it]/Users/viscom2025/Documents/Github/Analyzing-concussions-through-eyetracking-measurements/.venv/lib/python3.12/site-packages/sklearn/model_selection/_split.py:805: UserWarning: The least populated class in y has only 1 members, which is less than n_splits=2.\n",
      "  warnings.warn(\n"
     ]
    },
    {
     "name": "stdout",
     "output_type": "stream",
     "text": [
      "Fitting 2 folds for each of 108 candidates, totalling 216 fits\n"
     ]
    },
    {
     "name": "stderr",
     "output_type": "stream",
     "text": [
      "100%|██████████| 13/13 [00:24<00:00,  1.91s/it]\n"
     ]
    }
   ],
   "source": [
    "feature_importance_results = {\n",
    "    'best_params': [],\n",
    "    'n_clusters': [],\n",
    "    'feature_importances': [],\n",
    "    'silhouette_scores': []\n",
    "}\n",
    "\n",
    "for i, row in tqdm(clustering_results.iterrows(), total=clustering_results.shape[0]):\n",
    "    n_cluster = row[\"n_clusters\"]\n",
    "    silhoette_scores = row[\"silhouette_scores\"]\n",
    "    y = row[\"labels\"]\n",
    "    # Initialize results\n",
    "\n",
    "    feature_importances = pd.DataFrame(\n",
    "        np.zeros(X.shape[1]), \n",
    "        columns=[\"Importance\"], \n",
    "        index=X.columns)\n",
    "\n",
    "    # Hyperparameters for GridSearch\n",
    "    parameters = {\n",
    "        'max_depth': [None, 3, 5, 7, 9, 11],\n",
    "        'n_estimators': [20, 30, 40, 50, 70, 100],\n",
    "        'max_features': ['sqrt', 'log2', None]\n",
    "    }\n",
    "\n",
    "\n",
    "    # Find best clf\n",
    "    grid_search = GridSearchCV(\n",
    "        RandomForestClassifier(n_jobs=-1, random_state=42), \n",
    "        parameters, \n",
    "        cv=2,\n",
    "        verbose=1, \n",
    "        n_jobs=-1)\n",
    "\n",
    "    grid_search.fit(X, y)\n",
    "\n",
    "    best_model = grid_search.best_estimator_\n",
    "    importances = best_model.feature_importances_\n",
    "    best_params = grid_search.best_params_\n",
    "\n",
    "    # update importances\n",
    "    feature_importances.loc[X.columns, \"Importance\"] += importances\n",
    "    \n",
    "    feature_importance_results[\"best_params\"].append(best_params)\n",
    "    feature_importance_results[\"feature_importances\"].append(feature_importances)\n",
    "    feature_importance_results['n_clusters'].append(n_cluster)\n",
    "    feature_importance_results[\"silhouette_scores\"].append(silhoette_scores)\n",
    "\n"
   ]
  },
  {
   "cell_type": "code",
   "execution_count": null,
   "metadata": {},
   "outputs": [
    {
     "name": "stderr",
     "output_type": "stream",
     "text": [
      "2025-05-09 14:14:07,298 - INFO - 908516869.<module>:19 - Knee detected at feature rank 23\n",
      "2025-05-09 14:14:07,298 - INFO - 908516869.<module>:26 - Automatically selected 24 features\n"
     ]
    },
    {
     "data": {
      "application/vnd.microsoft.datawrangler.viewer.v0+json": {
       "columns": [
        {
         "name": "index",
         "rawType": "int64",
         "type": "integer"
        },
        {
         "name": "index",
         "rawType": "object",
         "type": "string"
        },
        {
         "name": "Importance",
         "rawType": "float64",
         "type": "float"
        }
       ],
       "conversionMethod": "pd.DataFrame",
       "ref": "f179c50e-4f13-4b4d-8d1a-b573a4291579",
       "rows": [
        [
         "0",
         "EVIL_BASTARD_distance_to_fixpoint_x_max",
         "0.10048667673033441"
        ],
        [
         "1",
         "SMOOTH_PURSUITS_distance_to_fixpoint_y_std",
         "0.08570320434871592"
        ],
        [
         "2",
         "EVIL_BASTARD_distance_to_fixpoint_max",
         "0.08561290155296077"
        ],
        [
         "3",
         "SMOOTH_PURSUITS_duration_mean_sacc",
         "0.07791301177568073"
        ],
        [
         "4",
         "SMOOTH_PURSUITS_distance_to_fixpoint_x_max",
         "0.06788744914294285"
        ],
        [
         "5",
         "EVIL_BASTARD_x_acceleration_max",
         "0.0624805099455615"
        ],
        [
         "6",
         "SHAPES_distance_to_fixpoint_max",
         "0.047659076560436116"
        ],
        [
         "7",
         "SMOOTH_PURSUITS_distance_to_fixpoint_max",
         "0.04610776545352226"
        ],
        [
         "8",
         "FITTS_LAW_total_acceleration_magnitude_max",
         "0.04052384712312222"
        ],
        [
         "9",
         "EVIL_BASTARD_total_acceleration_magnitude_max",
         "0.03980928131600358"
        ],
        [
         "10",
         "REACTION_total_acceleration_magnitude_max",
         "0.031809681117738166"
        ],
        [
         "11",
         "SMOOTH_PURSUITS_x_acceleration_std",
         "0.02044187356713464"
        ],
        [
         "12",
         "SMOOTH_PURSUITS_peak_velocity_std_sacc",
         "0.016156721991336668"
        ],
        [
         "13",
         "SMOOTH_PURSUITS_distance_to_fixpoint_y_max",
         "0.015581094097718138"
        ],
        [
         "14",
         "SMOOTH_PURSUITS_total_acceleration_magnitude_std",
         "0.015533857109706744"
        ],
        [
         "15",
         "EVIL_BASTARD_distance_to_fixpoint_x_std",
         "0.01486573050311056"
        ],
        [
         "16",
         "SMOOTH_PURSUITS_total_acceleration_magnitude_max",
         "0.014714999396887946"
        ],
        [
         "17",
         "FIXATIONS_total_acceleration_magnitude_max",
         "0.013782120531213091"
        ],
        [
         "18",
         "SHAPES_distance_to_fixpoint_x_max",
         "0.012299141878973815"
        ],
        [
         "19",
         "ANTI_SACCADE_duration_std_fix",
         "0.008507936507936511"
        ],
        [
         "20",
         "SMOOTH_PURSUITS_peak_velocity_mean_sacc",
         "0.008059660645867543"
        ],
        [
         "21",
         "KING_DEVICK_x_acceleration_min",
         "0.008016732004004924"
        ],
        [
         "22",
         "KING_DEVICK_avg_time_elapsed_pr_trial",
         "0.0077894736842105275"
        ],
        [
         "23",
         "KING_DEVICK_x_acceleration_max",
         "0.007512215455155964"
        ]
       ],
       "shape": {
        "columns": 2,
        "rows": 24
       }
      },
      "text/html": [
       "<div>\n",
       "<style scoped>\n",
       "    .dataframe tbody tr th:only-of-type {\n",
       "        vertical-align: middle;\n",
       "    }\n",
       "\n",
       "    .dataframe tbody tr th {\n",
       "        vertical-align: top;\n",
       "    }\n",
       "\n",
       "    .dataframe thead th {\n",
       "        text-align: right;\n",
       "    }\n",
       "</style>\n",
       "<table border=\"1\" class=\"dataframe\">\n",
       "  <thead>\n",
       "    <tr style=\"text-align: right;\">\n",
       "      <th></th>\n",
       "      <th>index</th>\n",
       "      <th>Importance</th>\n",
       "    </tr>\n",
       "  </thead>\n",
       "  <tbody>\n",
       "    <tr>\n",
       "      <th>0</th>\n",
       "      <td>EVIL_BASTARD_distance_to_fixpoint_x_max</td>\n",
       "      <td>0.100487</td>\n",
       "    </tr>\n",
       "    <tr>\n",
       "      <th>1</th>\n",
       "      <td>SMOOTH_PURSUITS_distance_to_fixpoint_y_std</td>\n",
       "      <td>0.085703</td>\n",
       "    </tr>\n",
       "    <tr>\n",
       "      <th>2</th>\n",
       "      <td>EVIL_BASTARD_distance_to_fixpoint_max</td>\n",
       "      <td>0.085613</td>\n",
       "    </tr>\n",
       "    <tr>\n",
       "      <th>3</th>\n",
       "      <td>SMOOTH_PURSUITS_duration_mean_sacc</td>\n",
       "      <td>0.077913</td>\n",
       "    </tr>\n",
       "    <tr>\n",
       "      <th>4</th>\n",
       "      <td>SMOOTH_PURSUITS_distance_to_fixpoint_x_max</td>\n",
       "      <td>0.067887</td>\n",
       "    </tr>\n",
       "    <tr>\n",
       "      <th>5</th>\n",
       "      <td>EVIL_BASTARD_x_acceleration_max</td>\n",
       "      <td>0.062481</td>\n",
       "    </tr>\n",
       "    <tr>\n",
       "      <th>6</th>\n",
       "      <td>SHAPES_distance_to_fixpoint_max</td>\n",
       "      <td>0.047659</td>\n",
       "    </tr>\n",
       "    <tr>\n",
       "      <th>7</th>\n",
       "      <td>SMOOTH_PURSUITS_distance_to_fixpoint_max</td>\n",
       "      <td>0.046108</td>\n",
       "    </tr>\n",
       "    <tr>\n",
       "      <th>8</th>\n",
       "      <td>FITTS_LAW_total_acceleration_magnitude_max</td>\n",
       "      <td>0.040524</td>\n",
       "    </tr>\n",
       "    <tr>\n",
       "      <th>9</th>\n",
       "      <td>EVIL_BASTARD_total_acceleration_magnitude_max</td>\n",
       "      <td>0.039809</td>\n",
       "    </tr>\n",
       "    <tr>\n",
       "      <th>10</th>\n",
       "      <td>REACTION_total_acceleration_magnitude_max</td>\n",
       "      <td>0.031810</td>\n",
       "    </tr>\n",
       "    <tr>\n",
       "      <th>11</th>\n",
       "      <td>SMOOTH_PURSUITS_x_acceleration_std</td>\n",
       "      <td>0.020442</td>\n",
       "    </tr>\n",
       "    <tr>\n",
       "      <th>12</th>\n",
       "      <td>SMOOTH_PURSUITS_peak_velocity_std_sacc</td>\n",
       "      <td>0.016157</td>\n",
       "    </tr>\n",
       "    <tr>\n",
       "      <th>13</th>\n",
       "      <td>SMOOTH_PURSUITS_distance_to_fixpoint_y_max</td>\n",
       "      <td>0.015581</td>\n",
       "    </tr>\n",
       "    <tr>\n",
       "      <th>14</th>\n",
       "      <td>SMOOTH_PURSUITS_total_acceleration_magnitude_std</td>\n",
       "      <td>0.015534</td>\n",
       "    </tr>\n",
       "    <tr>\n",
       "      <th>15</th>\n",
       "      <td>EVIL_BASTARD_distance_to_fixpoint_x_std</td>\n",
       "      <td>0.014866</td>\n",
       "    </tr>\n",
       "    <tr>\n",
       "      <th>16</th>\n",
       "      <td>SMOOTH_PURSUITS_total_acceleration_magnitude_max</td>\n",
       "      <td>0.014715</td>\n",
       "    </tr>\n",
       "    <tr>\n",
       "      <th>17</th>\n",
       "      <td>FIXATIONS_total_acceleration_magnitude_max</td>\n",
       "      <td>0.013782</td>\n",
       "    </tr>\n",
       "    <tr>\n",
       "      <th>18</th>\n",
       "      <td>SHAPES_distance_to_fixpoint_x_max</td>\n",
       "      <td>0.012299</td>\n",
       "    </tr>\n",
       "    <tr>\n",
       "      <th>19</th>\n",
       "      <td>ANTI_SACCADE_duration_std_fix</td>\n",
       "      <td>0.008508</td>\n",
       "    </tr>\n",
       "    <tr>\n",
       "      <th>20</th>\n",
       "      <td>SMOOTH_PURSUITS_peak_velocity_mean_sacc</td>\n",
       "      <td>0.008060</td>\n",
       "    </tr>\n",
       "    <tr>\n",
       "      <th>21</th>\n",
       "      <td>KING_DEVICK_x_acceleration_min</td>\n",
       "      <td>0.008017</td>\n",
       "    </tr>\n",
       "    <tr>\n",
       "      <th>22</th>\n",
       "      <td>KING_DEVICK_avg_time_elapsed_pr_trial</td>\n",
       "      <td>0.007789</td>\n",
       "    </tr>\n",
       "    <tr>\n",
       "      <th>23</th>\n",
       "      <td>KING_DEVICK_x_acceleration_max</td>\n",
       "      <td>0.007512</td>\n",
       "    </tr>\n",
       "  </tbody>\n",
       "</table>\n",
       "</div>"
      ],
      "text/plain": [
       "                                               index  Importance\n",
       "0            EVIL_BASTARD_distance_to_fixpoint_x_max    0.100487\n",
       "1         SMOOTH_PURSUITS_distance_to_fixpoint_y_std    0.085703\n",
       "2              EVIL_BASTARD_distance_to_fixpoint_max    0.085613\n",
       "3                 SMOOTH_PURSUITS_duration_mean_sacc    0.077913\n",
       "4         SMOOTH_PURSUITS_distance_to_fixpoint_x_max    0.067887\n",
       "5                    EVIL_BASTARD_x_acceleration_max    0.062481\n",
       "6                    SHAPES_distance_to_fixpoint_max    0.047659\n",
       "7           SMOOTH_PURSUITS_distance_to_fixpoint_max    0.046108\n",
       "8         FITTS_LAW_total_acceleration_magnitude_max    0.040524\n",
       "9      EVIL_BASTARD_total_acceleration_magnitude_max    0.039809\n",
       "10         REACTION_total_acceleration_magnitude_max    0.031810\n",
       "11                SMOOTH_PURSUITS_x_acceleration_std    0.020442\n",
       "12            SMOOTH_PURSUITS_peak_velocity_std_sacc    0.016157\n",
       "13        SMOOTH_PURSUITS_distance_to_fixpoint_y_max    0.015581\n",
       "14  SMOOTH_PURSUITS_total_acceleration_magnitude_std    0.015534\n",
       "15           EVIL_BASTARD_distance_to_fixpoint_x_std    0.014866\n",
       "16  SMOOTH_PURSUITS_total_acceleration_magnitude_max    0.014715\n",
       "17        FIXATIONS_total_acceleration_magnitude_max    0.013782\n",
       "18                 SHAPES_distance_to_fixpoint_x_max    0.012299\n",
       "19                     ANTI_SACCADE_duration_std_fix    0.008508\n",
       "20           SMOOTH_PURSUITS_peak_velocity_mean_sacc    0.008060\n",
       "21                    KING_DEVICK_x_acceleration_min    0.008017\n",
       "22             KING_DEVICK_avg_time_elapsed_pr_trial    0.007789\n",
       "23                    KING_DEVICK_x_acceleration_max    0.007512"
      ]
     },
     "execution_count": 20,
     "metadata": {},
     "output_type": "execute_result"
    }
   ],
   "source": [
    "\n",
    "\n",
    "\n",
    "\n",
    "sorted_feature_importance = (feature_importances\n",
    " .sort_values(\"Importance\", ascending=False)\n",
    " .reset_index()\n",
    ")\n",
    "\n",
    "importance_values = sorted_feature_importance[\"Importance\"].values\n",
    "feature_ranks = np.arange(len(importance_values))\n",
    "\n",
    "# Find knee\n",
    "knee = KneeLocator(\n",
    "    feature_ranks, \n",
    "    importance_values, \n",
    "    curve='convex', \n",
    "    direction='decreasing'\n",
    ")\n",
    "knee_point = knee.knee\n",
    "\n",
    "if knee_point is not None:\n",
    "    logging.info(f\"Knee detected at feature rank {knee_point}\")\n",
    "else:\n",
    "    logging.warning(\"Knee point is not detected\")\n",
    "    knee_point = len(sorted_feature_importance) - 1\n",
    "\n",
    "# Select features above knee\n",
    "selected_features_exp = sorted_feature_importance.iloc[:knee_point+1]\n",
    "logging.info(f\"Automatically selected {selected_features_exp.shape[0]} features\")\n",
    "\n",
    "selected_features_exp\n"
   ]
  },
  {
   "cell_type": "code",
   "execution_count": 21,
   "metadata": {},
   "outputs": [
    {
     "data": {
      "text/plain": [
       "<Axes: >"
      ]
     },
     "execution_count": 21,
     "metadata": {},
     "output_type": "execute_result"
    },
    {
     "data": {
      "image/png": "[encoded data removed]",
      "text/plain": [
       "<Figure size 640x480 with 1 Axes>"
      ]
     },
     "metadata": {},
     "output_type": "display_data"
    }
   ],
   "source": [
    "sorted_feature_importance.plot()"
   ]
  }
 ],
 "metadata": {
  "kernelspec": {
   "display_name": ".venv",
   "language": "python",
   "name": "python3"
  },
  "language_info": {
   "codemirror_mode": {
    "name": "ipython",
    "version": 3
   },
   "file_extension": ".py",
   "mimetype": "text/x-python",
   "name": "python",
   "nbconvert_exporter": "python",
   "pygments_lexer": "ipython3",
   "version": "3.12.9"
  }
 },
 "nbformat": 4,
 "nbformat_minor": 2
}
