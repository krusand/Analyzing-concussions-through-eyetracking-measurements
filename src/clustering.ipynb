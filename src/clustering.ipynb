{
 "cells": [
  {
   "cell_type": "code",
   "execution_count": null,
   "metadata": {},
   "outputs": [],
   "source": [
    "import pandas as pd\n",
    "import numpy as np\n",
    "import re\n",
    "from config import *\n",
    "\n",
    "# Sklearn\n",
    "from sklearn.decomposition import PCA\n",
    "from sklearn.discriminant_analysis import LinearDiscriminantAnalysis\n",
    "from sklearn.mixture import GaussianMixture\n",
    "from sklearn.model_selection import StratifiedKFold, train_test_split\n",
    "from sklearn.cluster import AgglomerativeClustering, DBSCAN, KMeans\n",
    "from sklearn.metrics import silhouette_score\n",
    "from sklearn.manifold import TSNE\n",
    "from sklearn.preprocessing import StandardScaler\n",
    "\n",
    "import umap\n",
    "\n",
    "# Visual\n",
    "import matplotlib as mpl\n",
    "import matplotlib.pyplot as plt\n",
    "from matplotlib.colors import ListedColormap\n",
    "import seaborn as sns"
   ]
  },
  {
   "cell_type": "code",
   "execution_count": null,
   "metadata": {},
   "outputs": [],
   "source": [
    "sig_features = ['ANTI_SACCADE_total_acceleration_magnitude_right_max',\n",
    " 'ANTI_SACCADE_total_acceleration_magnitude_right_median',\n",
    " 'FITTS_LAW_avg_fixations_pr_second',\n",
    " 'FITTS_LAW_std_fixations_pr_second',\n",
    " 'FITTS_LAW_mean_amplitude_sacc',\n",
    " 'FITTS_LAW_mean_duration_sacc',\n",
    " 'FITTS_LAW_mean_duration_fix',\n",
    " 'FITTS_LAW_total_acceleration_magnitude_right_mean',\n",
    " 'FITTS_LAW_total_acceleration_magnitude_right_median',\n",
    " 'REACTION_reaction_time_avg',\n",
    " 'REACTION_reaction_time_std',\n",
    " 'REACTION_total_acceleration_magnitude_right_median',\n",
    " 'EVIL_BASTARD_mean_duration_sacc',\n",
    " 'EVIL_BASTARD_total_acceleration_magnitude_right_max',\n",
    " 'EVIL_BASTARD_total_acceleration_magnitude_right_median',\n",
    " 'EVIL_BASTARD_distance_to_fixpoint_max',\n",
    " 'SHAPES_total_acceleration_magnitude_right_mean',\n",
    " 'SHAPES_total_acceleration_magnitude_right_median',\n",
    " 'SMOOTH_PURSUITS_mean_peak_velocity_sacc',\n",
    " 'SMOOTH_PURSUITS_mean_duration_sacc',\n",
    " 'SMOOTH_PURSUITS_total_acceleration_magnitude_right_max',\n",
    " 'SMOOTH_PURSUITS_total_acceleration_magnitude_right_median',\n",
    " 'SMOOTH_PURSUITS_Var_total',\n",
    " 'SMOOTH_PURSUITS_distance_to_fixpoint_max',\n",
    " 'SMOOTH_PURSUITS_distance_to_fixpoint_std']\n",
    "\n",
    "data = pd.read_parquet(FEATURES_DIR / \"features.pq\").dropna()\n",
    "data = data.query(\"y==1\")\n",
    "y = data[\"y\"]\n",
    "\n",
    "# X = data.drop([\"participant_id\", \"y\"] ,axis=1)\n",
    "X = data[sig_features]\n",
    "X = StandardScaler().fit_transform(X)\n"
   ]
  },
  {
   "cell_type": "code",
   "execution_count": null,
   "metadata": {},
   "outputs": [],
   "source": [
    "# Dicts to save WCSS and BCSS\n",
    "silhouette_scores = {\"n_clusters\" : [], \"Silhouette score\" : []}\n",
    "cluster_purity = {\"n_clusters\" : [], \"Cluster purity\" : []}\n",
    "\n",
    "n_splits=5\n",
    "skf = StratifiedKFold(n_splits=n_splits)\n",
    "\n",
    "for n_clusters in range(2,11):\n",
    "    model = AgglomerativeClustering(n_clusters=n_clusters, linkage=\"ward\")\n",
    "    model.fit(X)\n",
    "\n",
    "    # Compute silhouette score\n",
    "    sil_score = silhouette_score(X, model.labels_)\n",
    "\n",
    "    # Compute Purity Score (how well clusters match patient/control labels)\n",
    "    contingency_matrix = np.zeros((n_clusters, 2))  # Assuming two classes (patients & controls)\n",
    "    for k in range(n_clusters):\n",
    "        if np.any(model.labels_ == k):\n",
    "            contingency_matrix[k, 0] = np.sum((model.labels_ == k) & (y == 0))  # Controls\n",
    "            contingency_matrix[k, 1] = np.sum((model.labels_ == k) & (y == 1))  # Patients\n",
    "    cps_score = np.sum(np.max(contingency_matrix, axis=1)) / np.sum(contingency_matrix)\n",
    "\n",
    "    silhouette_scores[\"n_clusters\"].append(n_clusters)\n",
    "    silhouette_scores[\"Silhouette score\"].append(sil_score)\n",
    "\n",
    "    cluster_purity[\"n_clusters\"].append(n_clusters)\n",
    "    cluster_purity[\"Cluster purity\"].append(cps_score)"
   ]
  },
  {
   "cell_type": "code",
   "execution_count": null,
   "metadata": {},
   "outputs": [],
   "source": [
    "silhouette_score_df = pd.DataFrame.from_dict(silhouette_scores)\n",
    "\n",
    "sns.lineplot(data = silhouette_score_df, x=\"n_clusters\", y=\"Silhouette score\")"
   ]
  },
  {
   "cell_type": "code",
   "execution_count": null,
   "metadata": {},
   "outputs": [],
   "source": [
    "from scipy.cluster.hierarchy import dendrogram\n",
    "\n",
    "def plot_dendrogram(model, **kwargs):\n",
    "\n",
    "    counts = np.zeros(model.children_.shape[0])\n",
    "    n_samples = len(model.labels_)\n",
    "    for i, merge in enumerate(model.children_):\n",
    "        current_count = 0\n",
    "        for child_idx in merge:\n",
    "            if child_idx < n_samples:\n",
    "                current_count += 1 \n",
    "            else:\n",
    "                current_count += counts[child_idx - n_samples]\n",
    "        counts[i] = current_count\n",
    "\n",
    "    linkage_matrix = np.column_stack(\n",
    "        [model.children_, model.distances_, counts]\n",
    "    ).astype(float)\n",
    "\n",
    "    dendrogram(linkage_matrix, **kwargs)\n",
    "\n",
    "\n",
    "model = AgglomerativeClustering(distance_threshold=0, n_clusters=None)\n",
    "\n",
    "model = model.fit(X)\n",
    "plt.title(\"Hierarchical Clustering Dendrogram\")\n",
    "# plot the top three levels of the dendrogram\n",
    "plot_dendrogram(model, truncate_mode=\"level\", p=7)\n",
    "plt.xlabel(\"Number of points in node (or index of point if no parenthesis).\")\n",
    "plt.show()\n"
   ]
  },
  {
   "cell_type": "code",
   "execution_count": 293,
   "metadata": {},
   "outputs": [
    {
     "name": "stderr",
     "output_type": "stream",
     "text": [
      "/Users/viscom2025/Documents/Github/Analyzing-concussions-through-eyetracking-measurements/.venv/lib/python3.12/site-packages/sklearn/utils/deprecation.py:151: FutureWarning: 'force_all_finite' was renamed to 'ensure_all_finite' in 1.6 and will be removed in 1.8.\n",
      "  warnings.warn(\n",
      "/Users/viscom2025/Documents/Github/Analyzing-concussions-through-eyetracking-measurements/.venv/lib/python3.12/site-packages/umap/umap_.py:1952: UserWarning: n_jobs value 1 overridden to 1 by setting random_state. Use no seed for parallelism.\n",
      "  warn(\n"
     ]
    },
    {
     "data": {
      "image/png": "[encoded data removed]",
      "text/plain": [
       "<Figure size 640x480 with 1 Axes>"
      ]
     },
     "metadata": {},
     "output_type": "display_data"
    }
   ],
   "source": [
    "\n",
    "def plot_reduction_with_clusters(X_reduced, clusters, coeff = None, labels=None):\n",
    "    X_reduced_df = pd.DataFrame({'Component 1': X_reduced[:,0], 'Component 2': X_reduced[:,1]})\n",
    "    X_reduced_df[\"cluster_id\"] = clusters\n",
    "    sns.scatterplot(X_reduced_df, x='Component 1', y='Component 2', hue='cluster_id')\n",
    "    if coeff is not None:\n",
    "        n = coeff.shape[0]\n",
    "        for i in range(n):\n",
    "            if np.abs(coeff[i,0]) > 0.15 and np.abs(coeff[i,1]) > 0.15:\n",
    "                plt.arrow(0, 0, coeff[i,0]*5, coeff[i,1]*5,color = 'r',alpha = 0.5)\n",
    "                if labels is None:\n",
    "                    plt.text(coeff[i,0]* 10, coeff[i,1] * 10, \"Var\"+str(i+1), color = 'g', ha = 'center', va = 'center')\n",
    "                else:\n",
    "                    plt.text(coeff[i,0]* 10, coeff[i,1] * 10, labels[i], color = 'g', ha = 'center', va = 'center')\n",
    "\n",
    "clustering_model = AgglomerativeClustering(n_clusters=2, distance_threshold=None).fit(X)\n",
    "# clustering_model = KMeans(n_clusters=2, random_state=0, n_init=\"auto\").fit(X)\n",
    "# clustering_model = DBSCAN(eps=0.91, min_samples=5).fit(X)\n",
    "\n",
    "reducer = umap.UMAP(random_state=42)\n",
    "\n",
    "# reducer = TSNE(random_state=42)\n",
    "\n",
    "# reducer = PCA()\n",
    "# components = reducer.components_\n",
    "\n",
    "X_reduced = reducer.fit_transform(X)\n",
    "clusters = clustering_model.labels_\n",
    "plot_reduction_with_clusters(X_reduced, clusters)"
   ]
  },
  {
   "cell_type": "code",
   "execution_count": null,
   "metadata": {},
   "outputs": [],
   "source": []
  }
 ],
 "metadata": {
  "kernelspec": {
   "display_name": ".venv",
   "language": "python",
   "name": "python3"
  },
  "language_info": {
   "codemirror_mode": {
    "name": "ipython",
    "version": 3
   },
   "file_extension": ".py",
   "mimetype": "text/x-python",
   "name": "python",
   "nbconvert_exporter": "python",
   "pygments_lexer": "ipython3",
   "version": "3.12.9"
  }
 },
 "nbformat": 4,
 "nbformat_minor": 2
}
