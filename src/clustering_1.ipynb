{
 "cells": [
  {
   "cell_type": "markdown",
   "id": "b8974406",
   "metadata": {},
   "source": [
    "# Clustering"
   ]
  },
  {
   "cell_type": "code",
   "execution_count": 3,
   "id": "2007765a",
   "metadata": {},
   "outputs": [],
   "source": [
    "import pandas as pd\n",
    "import numpy as np\n",
    "from functools import reduce\n",
    "\n",
    "import seaborn as sns\n",
    "import matplotlib.pyplot as plt\n",
    "\n",
    "from config import *\n",
    "from clustering_utils import *"
   ]
  },
  {
   "cell_type": "markdown",
   "id": "b697a446",
   "metadata": {},
   "source": [
    "## Load data"
   ]
  },
  {
   "cell_type": "code",
   "execution_count": 4,
   "id": "21552018",
   "metadata": {},
   "outputs": [
    {
     "data": {
      "text/plain": [
       "(192, 520)"
      ]
     },
     "execution_count": 4,
     "metadata": {},
     "output_type": "execute_result"
    }
   ],
   "source": [
    "features_raw = pd.read_parquet(FEATURES_DIR / \"all_features.pq\")\n",
    "features_raw.shape"
   ]
  },
  {
   "cell_type": "code",
   "execution_count": 5,
   "id": "f5c6c4a0",
   "metadata": {},
   "outputs": [
    {
     "data": {
      "text/plain": [
       "(171, 520)"
      ]
     },
     "execution_count": 5,
     "metadata": {},
     "output_type": "execute_result"
    }
   ],
   "source": [
    "# Drop participants where all features are null\n",
    "features = features_raw[~(features_raw.isna().sum(axis=1) == features_raw.shape[1]-2)]\n",
    "features.shape"
   ]
  },
  {
   "cell_type": "code",
   "execution_count": 6,
   "id": "148d5182",
   "metadata": {},
   "outputs": [
    {
     "data": {
      "text/plain": [
       "(171, 518)"
      ]
     },
     "execution_count": 6,
     "metadata": {},
     "output_type": "execute_result"
    }
   ],
   "source": [
    "y = pd.DataFrame(features[\"y\"], columns=[\"y\"])\n",
    "X = features.drop([\"participant_id\", \"y\"], axis=1)\n",
    "X.shape"
   ]
  },
  {
   "cell_type": "markdown",
   "id": "c7af16cc",
   "metadata": {},
   "source": [
    "### Normalize X"
   ]
  },
  {
   "cell_type": "code",
   "execution_count": 7,
   "id": "414eda3e",
   "metadata": {},
   "outputs": [
    {
     "name": "stderr",
     "output_type": "stream",
     "text": [
      "/mnt/c/Users/idwe/Documents/Github/Analyzing-concussions-through-eyetracking-measurements/.venv/lib/python3.12/site-packages/sklearn/feature_selection/_variance_threshold.py:114: RuntimeWarning: Degrees of freedom <= 0 for slice.\n",
      "  self.variances_ = np.nanvar(X, axis=0)\n",
      "2025-05-09 10:17:12,937 - INFO - clustering_utils.remove_low_variance_features:48 - Kept 458 features out of 518\n",
      "2025-05-09 10:17:13,253 - INFO - clustering_utils.remove_multicollineraity:106 - Removed 155 highly correlated features: {'SMOOTH_PURSUITS_fixations_per_second_max', 'EVIL_BASTARD_duration_max_sacc', 'EVIL_BASTARD_avg_pupil_size_max_fix', 'KING_DEVICK_saccades_per_second_mean', 'KING_DEVICK_duration_mean_fix', 'SMOOTH_PURSUITS_distance_to_fixpoint_mean', 'SHAPES_distance_to_fixpoint_median', 'SMOOTH_PURSUITS_distance_to_fixpoint_std', 'FIXATIONS_avg_pupil_size_min_fix', 'FIXATIONS_fixations_per_second_mean', 'FITTS_LAW_fixations_per_second_median', 'ANTI_SACCADE_total_acceleration_magnitude_median', 'REACTION_duration_mean_fix', 'SHAPES_duration_max_sacc', 'EVIL_BASTARD_avg_pupil_size_std_fix', 'REACTION_saccades_per_second_max', 'FITTS_LAW_fixation_overshoot_mean', 'EVIL_BASTARD_total_acceleration_magnitude_max', 'REACTION_avg_pupil_size_max_fix', 'SHAPES_duration_mean_sacc', 'EVIL_BASTARD_fixation_distance_mean', 'EVIL_BASTARD_fixations_per_second_mean', 'SHAPES_duration_max_fix', 'SHAPES_fixation_distance_mean', 'KING_DEVICK_avg_pupil_size_min_fix', 'SHAPES_distance_to_fixpoint_y_mean', 'REACTION_total_acceleration_magnitude_std', 'EVIL_BASTARD_amplitude_mean_sacc', 'EVIL_BASTARD_fixations_per_second_min', 'REACTION_duration_max_fix', 'REACTION_total_acceleration_magnitude_max', 'ANTI_SACCADE_saccades_per_second_mean', 'FITTS_LAW_fixations_per_second_min', 'KING_DEVICK_total_acceleration_magnitude_std', 'SHAPES_saccades_per_second_mean', 'FIXATIONS_saccades_per_second_max', 'REACTION_avg_pupil_size_median_fix', 'SHAPES_fixations_per_second_median', 'ANTI_SACCADE_total_acceleration_magnitude_max', 'FIXATIONS_saccades_per_second_mean', 'ANTI_SACCADE_duration_mean_fix', 'FITTS_LAW_saccades_per_second_mean', 'EVIL_BASTARD_distance_to_fixpoint_max', 'FIXATIONS_duration_max_fix', 'FIXATIONS_total_acceleration_magnitude_std', 'SHAPES_fixations_per_second_mean', 'KING_DEVICK_avg_pupil_size_median_fix', 'SHAPES_avg_pupil_size_min_fix', 'EVIL_BASTARD_distance_to_fixpoint_mean', 'ANTI_SACCADE_avg_pupil_size_std_fix', 'SMOOTH_PURSUITS_fixations_per_second_min', 'FITTS_LAW_fixations_per_second_mean', 'KING_DEVICK_wrong_direction_saccade_pct_mean', 'FITTS_LAW_fixation_overshoot_max', 'SHAPES_distance_to_fixpoint_x_mean', 'SHAPES_duration_mean_fix', 'SMOOTH_PURSUITS_distance_to_fixpoint_max', 'SMOOTH_PURSUITS_fixations_per_second_median', 'KING_DEVICK_avg_pupil_size_mean_fix', 'FITTS_LAW_avg_pupil_size_std_fix', 'SHAPES_distance_to_fixpoint_max', 'EVIL_BASTARD_fixation_distance_std', 'EVIL_BASTARD_avg_pupil_size_mean_fix', 'SHAPES_fixations_per_second_max', 'FITTS_LAW_avg_pupil_size_max_fix', 'FIXATIONS_fixations_per_second_max', 'FITTS_LAW_avg_pupil_size_median_fix', 'EVIL_BASTARD_saccades_per_second_mean', 'SHAPES_fixation_distance_max', 'EVIL_BASTARD_distance_to_fixpoint_y_mean', 'KING_DEVICK_saccades_per_second_min', 'FITTS_LAW_fixations_per_second_std', 'FIXATIONS_amplitude_mean_sacc', 'EVIL_BASTARD_total_acceleration_magnitude_median', 'EVIL_BASTARD_fixations_per_second_median', 'FITTS_LAW_total_acceleration_magnitude_median', 'FIXATIONS_peak_velocity_mean_sacc', 'KING_DEVICK_amplitude_mean_sacc', 'SHAPES_fixation_distance_std', 'FITTS_LAW_duration_max_sacc', 'FIXATIONS_distance_to_fixpoint_std', 'SMOOTH_PURSUITS_avg_pupil_size_max_fix', 'SHAPES_x_fixation_dist_std', 'FIXATIONS_avg_pupil_size_max_fix', 'EVIL_BASTARD_fixations_per_second_std', 'SHAPES_total_acceleration_magnitude_std', 'SMOOTH_PURSUITS_fixations_per_second_mean', 'SMOOTH_PURSUITS_total_acceleration_magnitude_std', 'SMOOTH_PURSUITS_distance_to_fixpoint_y_mean', 'SMOOTH_PURSUITS_x_fixation_dist_std', 'FITTS_LAW_duration_mean_fix', 'SMOOTH_PURSUITS_avg_pupil_size_mean_fix', 'FITTS_LAW_fixations_per_second_max', 'SMOOTH_PURSUITS_avg_pupil_size_min_fix', 'FIXATIONS_total_acceleration_magnitude_max', 'REACTION_saccades_per_second_mean', 'ANTI_SACCADE_peak_velocity_mean_sacc', 'SHAPES_fixations_per_second_min', 'SMOOTH_PURSUITS_total_acceleration_magnitude_max', 'FITTS_LAW_total_acceleration_magnitude_std', 'FITTS_LAW_saccades_per_second_max', 'SHAPES_saccades_per_second_max', 'FIXATIONS_distance_to_fixpoint_mean', 'KING_DEVICK_wrong_direction_saccade_pct_min', 'REACTION_peak_velocity_mean_sacc', 'SHAPES_total_acceleration_magnitude_max', 'ANTI_SACCADE_avg_pupil_size_min_fix', 'KING_DEVICK_avg_pupil_size_max_fix', 'FIXATIONS_saccades_per_second_min', 'ANTI_SACCADE_reaction_time_avg', 'SHAPES_avg_pupil_size_max_fix', 'SMOOTH_PURSUITS_saccades_per_second_mean', 'FIXATIONS_avg_pupil_size_mean_fix', 'ANTI_SACCADE_n_correct_trials', 'FIXATIONS_fixations_per_second_median', 'SMOOTH_PURSUITS_duration_mean_fix', 'SMOOTH_PURSUITS_amplitude_mean_sacc', 'FIXATIONS_duration_mean_fix', 'EVIL_BASTARD_duration_mean_fix', 'EVIL_BASTARD_saccades_per_second_max', 'SMOOTH_PURSUITS_fixations_per_second_std', 'REACTION_avg_pupil_size_mean_fix', 'SMOOTH_PURSUITS_fixation_distance_mean', 'FITTS_LAW_avg_pupil_size_mean_fix', 'SHAPES_distance_to_fixpoint_std', 'KING_DEVICK_wrong_direction_saccade_pct_max', 'SMOOTH_PURSUITS_duration_max_fix', 'FIXATIONS_fixations_per_second_min', 'SMOOTH_PURSUITS_duration_median_fix', 'EVIL_BASTARD_duration_mean_sacc', 'ANTI_SACCADE_avg_pupil_size_median_fix', 'SHAPES_amplitude_mean_sacc', 'KING_DEVICK_total_acceleration_magnitude_max', 'SHAPES_avg_pupil_size_mean_fix', 'FITTS_LAW_total_acceleration_magnitude_max', 'FITTS_LAW_avg_pupil_size_min_fix', 'SMOOTH_PURSUITS_peak_velocity_std_sacc', 'FIXATIONS_amplitude_max_sacc', 'EVIL_BASTARD_total_acceleration_magnitude_std', 'SMOOTH_PURSUITS_distance_to_fixpoint_x_mean', 'FITTS_LAW_peak_velocity_mean_sacc', 'ANTI_SACCADE_avg_pupil_size_max_fix', 'EVIL_BASTARD_Var_total', 'KING_DEVICK_saccades_per_second_max', 'ANTI_SACCADE_avg_pupil_size_mean_fix', 'SHAPES_fixation_distance_median', 'FITTS_LAW_saccades_per_second_min', 'FIXATIONS_total_acceleration_magnitude_median', 'FITTS_LAW_amplitude_mean_sacc', 'KING_DEVICK_duration_max_fix', 'SHAPES_avg_pupil_size_median_fix', 'EVIL_BASTARD_fixations_per_second_max', 'EVIL_BASTARD_avg_pupil_size_median_fix', 'FIXATIONS_fixations_per_second_std', 'FIXATIONS_avg_pupil_size_median_fix'}\n"
     ]
    }
   ],
   "source": [
    "X_reduced = X.pipe(remove_low_variance_features).pipe(remove_multicollineraity, y)"
   ]
  },
  {
   "cell_type": "code",
   "execution_count": null,
   "id": "d77b3ebd",
   "metadata": {},
   "outputs": [],
   "source": []
  }
 ],
 "metadata": {
  "kernelspec": {
   "display_name": ".venv",
   "language": "python",
   "name": "python3"
  },
  "language_info": {
   "codemirror_mode": {
    "name": "ipython",
    "version": 3
   },
   "file_extension": ".py",
   "mimetype": "text/x-python",
   "name": "python",
   "nbconvert_exporter": "python",
   "pygments_lexer": "ipython3",
   "version": "3.12.3"
  }
 },
 "nbformat": 4,
 "nbformat_minor": 5
}
