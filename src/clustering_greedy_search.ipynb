{
 "cells": [
  {
   "cell_type": "code",
   "execution_count": 4,
   "metadata": {},
   "outputs": [],
   "source": [
    "import pandas as pd\n",
    "import numpy as np\n",
    "import re\n",
    "from config import *\n",
    "\n",
    "# Sklearn\n",
    "from sklearn.decomposition import PCA\n",
    "from sklearn.discriminant_analysis import LinearDiscriminantAnalysis\n",
    "from sklearn.mixture import GaussianMixture\n",
    "from sklearn.model_selection import StratifiedKFold, train_test_split\n",
    "from sklearn.cluster import AgglomerativeClustering, DBSCAN, KMeans\n",
    "from sklearn.metrics import silhouette_score\n",
    "from sklearn.manifold import TSNE\n",
    "from sklearn.preprocessing import StandardScaler\n",
    "\n",
    "import umap\n",
    "\n",
    "# Visual\n",
    "import matplotlib as mpl\n",
    "import matplotlib.pyplot as plt\n",
    "from matplotlib.colors import ListedColormap\n",
    "import seaborn as sns\n",
    "\n",
    "from itertools import permutations \n",
    "from tqdm import tqdm"
   ]
  },
  {
   "cell_type": "code",
   "execution_count": 5,
   "metadata": {},
   "outputs": [],
   "source": [
    "features = pd.read_parquet(FEATURES_DIR / \"features.pq\").query(\"y==1\")\n",
    "features_with_info = features\n",
    "features = features.drop([\"participant_id\", \"y\"], axis=1)\n",
    "features = features.dropna()\n",
    "features_stdz = pd.DataFrame(StandardScaler().fit_transform(features.values), columns=features.columns)"
   ]
  },
  {
   "cell_type": "code",
   "execution_count": 6,
   "metadata": {},
   "outputs": [
    {
     "name": "stderr",
     "output_type": "stream",
     "text": [
      "100%|██████████| 483/483 [00:00<00:00, 1251.58it/s]\n",
      "100%|██████████| 483/483 [00:00<00:00, 1261.21it/s]\n",
      "100%|██████████| 483/483 [00:00<00:00, 1252.22it/s]\n",
      "100%|██████████| 483/483 [00:00<00:00, 1099.65it/s]\n",
      "100%|██████████| 483/483 [00:00<00:00, 1251.31it/s]\n",
      "100%|██████████| 483/483 [00:00<00:00, 1234.11it/s]\n",
      "100%|██████████| 483/483 [00:00<00:00, 1219.21it/s]\n",
      "100%|██████████| 483/483 [00:00<00:00, 1197.93it/s]\n",
      "100%|██████████| 483/483 [00:00<00:00, 1217.13it/s]\n"
     ]
    }
   ],
   "source": [
    "column_combinations = list(permutations(features_stdz.columns, 1))\n",
    "\n",
    "silhouette_scores = []\n",
    "silhouette_features = []\n",
    "n_clusters = []\n",
    "\n",
    "for n_cluster in range(2,11):\n",
    "    model = AgglomerativeClustering(n_clusters=n_cluster)\n",
    "    for col_comb in tqdm(column_combinations):\n",
    "        X = features_stdz[list(col_comb)]\n",
    "\n",
    "        model.fit(X)\n",
    "        \n",
    "        sil_score = silhouette_score(X, model.labels_)\n",
    "        \n",
    "        silhouette_scores.append(sil_score)\n",
    "        silhouette_features.append(X.columns.to_list())\n",
    "        n_clusters.append(n_cluster)\n"
   ]
  },
  {
   "cell_type": "markdown",
   "metadata": {},
   "source": [
    "['FITTS_LAW_mean_duration_sacc', 'EVIL_BASTARD_mean_duration_sacc'] : 0.8771598789776172 : 2"
   ]
  },
  {
   "cell_type": "code",
   "execution_count": null,
   "metadata": {},
   "outputs": [
    {
     "name": "stderr",
     "output_type": "stream",
     "text": [
      "/var/folders/v0/l_dtghc15651j6_9p3clc_r00000gt/T/ipykernel_27571/4103036740.py:10: DeprecationWarning: DataFrameGroupBy.apply operated on the grouping columns. This behavior is deprecated, and in a future version of pandas the grouping columns will be excluded from the operation. Either pass `include_groups=False` to exclude the groupings or explicitly select the grouping columns after groupby to silence this warning.\n",
      "  .groupby('n_clusters').apply(get_max_sil_score).reset_index(drop=True)\n"
     ]
    },
    {
     "data": {
      "application/vnd.microsoft.datawrangler.viewer.v0+json": {
       "columns": [
        {
         "name": "index",
         "rawType": "int64",
         "type": "integer"
        },
        {
         "name": "silhouette_features",
         "rawType": "object",
         "type": "unknown"
        },
        {
         "name": "silhouette_scores",
         "rawType": "float64",
         "type": "float"
        },
        {
         "name": "n_clusters",
         "rawType": "int64",
         "type": "integer"
        }
       ],
       "conversionMethod": "pd.DataFrame",
       "ref": "fe5b1673-620e-4e0d-a5cc-5f3ab114bd56",
       "rows": [
        [
         "0",
         "['REACTION_duration_min_sacc']",
         "1.0",
         "2"
        ],
        [
         "1",
         "['SMOOTH_PURSUITS_distance_to_fixpoint_y_min']",
         "1.0",
         "3"
        ],
        [
         "2",
         "['ANTI_SACCADE_duration_min_sacc']",
         "0.9818181818181818",
         "4"
        ],
        [
         "3",
         "['KING_DEVICK_duration_min_sacc']",
         "0.9818181818181818",
         "5"
        ],
        [
         "4",
         "['SHAPES_duration_min_sacc']",
         "0.9454545454545454",
         "6"
        ],
        [
         "5",
         "['REACTION_n_correct_trials']",
         "0.9233333333333333",
         "7"
        ],
        [
         "6",
         "['REACTION_n_correct_trials']",
         "0.9727272727272728",
         "8"
        ],
        [
         "7",
         "['REACTION_n_correct_trials']",
         "0.9818181818181818",
         "9"
        ],
        [
         "8",
         "['REACTION_prop_correct_trials']",
         "0.9636363636363636",
         "10"
        ]
       ],
       "shape": {
        "columns": 3,
        "rows": 9
       }
      },
      "text/html": [
       "<div>\n",
       "<style scoped>\n",
       "    .dataframe tbody tr th:only-of-type {\n",
       "        vertical-align: middle;\n",
       "    }\n",
       "\n",
       "    .dataframe tbody tr th {\n",
       "        vertical-align: top;\n",
       "    }\n",
       "\n",
       "    .dataframe thead th {\n",
       "        text-align: right;\n",
       "    }\n",
       "</style>\n",
       "<table border=\"1\" class=\"dataframe\">\n",
       "  <thead>\n",
       "    <tr style=\"text-align: right;\">\n",
       "      <th></th>\n",
       "      <th>silhouette_features</th>\n",
       "      <th>silhouette_scores</th>\n",
       "      <th>n_clusters</th>\n",
       "    </tr>\n",
       "  </thead>\n",
       "  <tbody>\n",
       "    <tr>\n",
       "      <th>0</th>\n",
       "      <td>[REACTION_duration_min_sacc]</td>\n",
       "      <td>1.000000</td>\n",
       "      <td>2</td>\n",
       "    </tr>\n",
       "    <tr>\n",
       "      <th>1</th>\n",
       "      <td>[SMOOTH_PURSUITS_distance_to_fixpoint_y_min]</td>\n",
       "      <td>1.000000</td>\n",
       "      <td>3</td>\n",
       "    </tr>\n",
       "    <tr>\n",
       "      <th>2</th>\n",
       "      <td>[ANTI_SACCADE_duration_min_sacc]</td>\n",
       "      <td>0.981818</td>\n",
       "      <td>4</td>\n",
       "    </tr>\n",
       "    <tr>\n",
       "      <th>3</th>\n",
       "      <td>[KING_DEVICK_duration_min_sacc]</td>\n",
       "      <td>0.981818</td>\n",
       "      <td>5</td>\n",
       "    </tr>\n",
       "    <tr>\n",
       "      <th>4</th>\n",
       "      <td>[SHAPES_duration_min_sacc]</td>\n",
       "      <td>0.945455</td>\n",
       "      <td>6</td>\n",
       "    </tr>\n",
       "    <tr>\n",
       "      <th>5</th>\n",
       "      <td>[REACTION_n_correct_trials]</td>\n",
       "      <td>0.923333</td>\n",
       "      <td>7</td>\n",
       "    </tr>\n",
       "    <tr>\n",
       "      <th>6</th>\n",
       "      <td>[REACTION_n_correct_trials]</td>\n",
       "      <td>0.972727</td>\n",
       "      <td>8</td>\n",
       "    </tr>\n",
       "    <tr>\n",
       "      <th>7</th>\n",
       "      <td>[REACTION_n_correct_trials]</td>\n",
       "      <td>0.981818</td>\n",
       "      <td>9</td>\n",
       "    </tr>\n",
       "    <tr>\n",
       "      <th>8</th>\n",
       "      <td>[REACTION_prop_correct_trials]</td>\n",
       "      <td>0.963636</td>\n",
       "      <td>10</td>\n",
       "    </tr>\n",
       "  </tbody>\n",
       "</table>\n",
       "</div>"
      ],
      "text/plain": [
       "                            silhouette_features  silhouette_scores  n_clusters\n",
       "0                  [REACTION_duration_min_sacc]           1.000000           2\n",
       "1  [SMOOTH_PURSUITS_distance_to_fixpoint_y_min]           1.000000           3\n",
       "2              [ANTI_SACCADE_duration_min_sacc]           0.981818           4\n",
       "3               [KING_DEVICK_duration_min_sacc]           0.981818           5\n",
       "4                    [SHAPES_duration_min_sacc]           0.945455           6\n",
       "5                   [REACTION_n_correct_trials]           0.923333           7\n",
       "6                   [REACTION_n_correct_trials]           0.972727           8\n",
       "7                   [REACTION_n_correct_trials]           0.981818           9\n",
       "8                [REACTION_prop_correct_trials]           0.963636          10"
      ]
     },
     "execution_count": 7,
     "metadata": {},
     "output_type": "execute_result"
    }
   ],
   "source": [
    "\n",
    "def get_max_sil_score(group):\n",
    "    return group.loc[group['silhouette_scores'].idxmax()]\n",
    "\n",
    "\n",
    "best_all_comb_features = (pd.DataFrame({\n",
    "    'silhouette_features': silhouette_features,\n",
    "    'silhouette_scores': silhouette_scores,\n",
    "    'n_clusters': n_clusters\n",
    "})\n",
    " .groupby('n_clusters')\n",
    " .apply(get_max_sil_score)\n",
    " .reset_index(drop=True)\n",
    ")\n",
    "\n",
    "best_all_comb_features\n"
   ]
  },
  {
   "cell_type": "code",
   "execution_count": 8,
   "metadata": {},
   "outputs": [
    {
     "name": "stderr",
     "output_type": "stream",
     "text": [
      "2025-04-30 08:55:58,434 - INFO - 880880423.<module>:6 - Testing for 2 clusters\n",
      "2025-04-30 08:55:58,435 - INFO - 880880423.<module>:7 - Score to beat: 1.0\n",
      "2025-04-30 08:55:58,822 - INFO - 880880423.<module>:27 - New best silhouette score is 1.0\n",
      "2025-04-30 08:55:58,823 - INFO - 880880423.<module>:34 - Not better, breaking\n",
      "2025-04-30 08:55:58,823 - INFO - 880880423.<module>:43 - Testing for 2 clusters done\n",
      "\n",
      "\n",
      "\n",
      "2025-04-30 08:55:58,823 - INFO - 880880423.<module>:6 - Testing for 3 clusters\n",
      "2025-04-30 08:55:58,824 - INFO - 880880423.<module>:7 - Score to beat: 1.0\n",
      "2025-04-30 08:55:59,210 - INFO - 880880423.<module>:27 - New best silhouette score is 1.0\n",
      "2025-04-30 08:55:59,211 - INFO - 880880423.<module>:34 - Not better, breaking\n",
      "2025-04-30 08:55:59,211 - INFO - 880880423.<module>:43 - Testing for 3 clusters done\n",
      "\n",
      "\n",
      "\n",
      "2025-04-30 08:55:59,211 - INFO - 880880423.<module>:6 - Testing for 4 clusters\n",
      "2025-04-30 08:55:59,211 - INFO - 880880423.<module>:7 - Score to beat: 0.9818181818181818\n",
      "2025-04-30 08:55:59,593 - INFO - 880880423.<module>:27 - New best silhouette score is 0.9818181818181818\n",
      "2025-04-30 08:55:59,594 - INFO - 880880423.<module>:34 - Not better, breaking\n",
      "2025-04-30 08:55:59,594 - INFO - 880880423.<module>:43 - Testing for 4 clusters done\n",
      "\n",
      "\n",
      "\n",
      "2025-04-30 08:55:59,594 - INFO - 880880423.<module>:6 - Testing for 5 clusters\n",
      "2025-04-30 08:55:59,594 - INFO - 880880423.<module>:7 - Score to beat: 0.9818181818181818\n",
      "2025-04-30 08:55:59,971 - INFO - 880880423.<module>:27 - New best silhouette score is 0.9818181818181818\n",
      "2025-04-30 08:55:59,971 - INFO - 880880423.<module>:34 - Not better, breaking\n",
      "2025-04-30 08:55:59,971 - INFO - 880880423.<module>:43 - Testing for 5 clusters done\n",
      "\n",
      "\n",
      "\n",
      "2025-04-30 08:55:59,972 - INFO - 880880423.<module>:6 - Testing for 6 clusters\n",
      "2025-04-30 08:55:59,972 - INFO - 880880423.<module>:7 - Score to beat: 0.9454545454545454\n",
      "2025-04-30 08:56:00,352 - INFO - 880880423.<module>:27 - New best silhouette score is 0.9454545454545454\n",
      "2025-04-30 08:56:00,353 - INFO - 880880423.<module>:34 - Not better, breaking\n",
      "2025-04-30 08:56:00,353 - INFO - 880880423.<module>:43 - Testing for 6 clusters done\n",
      "\n",
      "\n",
      "\n",
      "2025-04-30 08:56:00,353 - INFO - 880880423.<module>:6 - Testing for 7 clusters\n",
      "2025-04-30 08:56:00,354 - INFO - 880880423.<module>:7 - Score to beat: 0.9233333333333333\n",
      "2025-04-30 08:56:00,733 - INFO - 880880423.<module>:27 - New best silhouette score is 0.9233333333333333\n",
      "2025-04-30 08:56:00,733 - INFO - 880880423.<module>:34 - Not better, breaking\n",
      "2025-04-30 08:56:00,733 - INFO - 880880423.<module>:43 - Testing for 7 clusters done\n",
      "\n",
      "\n",
      "\n",
      "2025-04-30 08:56:00,733 - INFO - 880880423.<module>:6 - Testing for 8 clusters\n",
      "2025-04-30 08:56:00,734 - INFO - 880880423.<module>:7 - Score to beat: 0.9727272727272728\n",
      "2025-04-30 08:56:01,122 - INFO - 880880423.<module>:27 - New best silhouette score is 0.9727272727272728\n",
      "2025-04-30 08:56:01,123 - INFO - 880880423.<module>:34 - Not better, breaking\n",
      "2025-04-30 08:56:01,123 - INFO - 880880423.<module>:43 - Testing for 8 clusters done\n",
      "\n",
      "\n",
      "\n",
      "2025-04-30 08:56:01,123 - INFO - 880880423.<module>:6 - Testing for 9 clusters\n",
      "2025-04-30 08:56:01,124 - INFO - 880880423.<module>:7 - Score to beat: 0.9818181818181818\n",
      "2025-04-30 08:56:01,502 - INFO - 880880423.<module>:27 - New best silhouette score is 0.9818181818181818\n",
      "2025-04-30 08:56:01,502 - INFO - 880880423.<module>:34 - Not better, breaking\n",
      "2025-04-30 08:56:01,502 - INFO - 880880423.<module>:43 - Testing for 9 clusters done\n",
      "\n",
      "\n",
      "\n",
      "2025-04-30 08:56:01,503 - INFO - 880880423.<module>:6 - Testing for 10 clusters\n",
      "2025-04-30 08:56:01,503 - INFO - 880880423.<module>:7 - Score to beat: 0.9636363636363636\n",
      "2025-04-30 08:56:01,886 - INFO - 880880423.<module>:27 - New best silhouette score is 0.9636363636363636\n",
      "2025-04-30 08:56:01,886 - INFO - 880880423.<module>:34 - Not better, breaking\n",
      "2025-04-30 08:56:01,887 - INFO - 880880423.<module>:43 - Testing for 10 clusters done\n",
      "\n",
      "\n",
      "\n"
     ]
    }
   ],
   "source": [
    "chosen_features = []\n",
    "chosen_n_clusters = []\n",
    "chosen_silhouette_scores = []\n",
    "\n",
    "for i, (sil_chosen_features, best_sil_score, n_cluster) in best_all_comb_features.iterrows():\n",
    "    logging.info(f\"Testing for {n_cluster} clusters\")\n",
    "    logging.info(f\"Score to beat: {best_sil_score}\")\n",
    "    features_columns_left = features_stdz.drop(sil_chosen_features, axis=1).columns.to_list()\n",
    "    while len(features_columns_left) > 0:\n",
    "        new_sil_scores = []\n",
    "        new_features = []\n",
    "        \n",
    "        for feature_column in features_columns_left:\n",
    "            X = features_stdz[sil_chosen_features + [feature_column]]\n",
    "            model = AgglomerativeClustering(n_clusters=n_cluster)\n",
    "            model.fit(X)\n",
    "            \n",
    "            new_sil_score = silhouette_score(X, model.labels_)\n",
    "            \n",
    "            new_sil_scores.append(new_sil_score)\n",
    "            new_features.append(feature_column)\n",
    "        \n",
    "\n",
    "        new_best_sil_score = np.max(new_sil_scores)\n",
    "        new_best_sil_score_idx = np.argmax(new_sil_scores)\n",
    "        new_feature = new_features[new_best_sil_score_idx]\n",
    "        logging.info(f\"New best silhouette score is {new_best_sil_score}\")\n",
    "\n",
    "        if best_sil_score < new_best_sil_score:\n",
    "            logging.info(f\"Adding new feature {feature_column} since it improved silhouette score (Old: {best_sil_score} vs New: {new_best_sil_score})\")\n",
    "            best_sil_score = new_best_sil_score\n",
    "            sil_chosen_features += [new_feature]\n",
    "        else:\n",
    "            logging.info(\"Not better, breaking\")\n",
    "            break\n",
    "        \n",
    "        features_columns_left = features.drop(sil_chosen_features, axis=1).columns.to_list()\n",
    "        \n",
    "    chosen_features.append(sil_chosen_features)\n",
    "    chosen_n_clusters.append(n_cluster)\n",
    "    chosen_silhouette_scores.append(best_sil_score)\n",
    "    \n",
    "    logging.info(f\"Testing for {n_cluster} clusters done\\n\\n\\n\")\n",
    "\n",
    "\n",
    "        \n",
    "chosen_features_df = (pd.DataFrame({\n",
    "    'features': chosen_features,\n",
    "    'silhouette_scores': chosen_silhouette_scores,\n",
    "    'n_clusters': chosen_n_clusters\n",
    "}))\n"
   ]
  },
  {
   "cell_type": "code",
   "execution_count": 9,
   "metadata": {},
   "outputs": [
    {
     "data": {
      "application/vnd.microsoft.datawrangler.viewer.v0+json": {
       "columns": [
        {
         "name": "index",
         "rawType": "int64",
         "type": "integer"
        },
        {
         "name": "features",
         "rawType": "object",
         "type": "unknown"
        },
        {
         "name": "silhouette_scores",
         "rawType": "float64",
         "type": "float"
        },
        {
         "name": "n_clusters",
         "rawType": "int64",
         "type": "integer"
        }
       ],
       "conversionMethod": "pd.DataFrame",
       "ref": "85554b40-2b91-4b57-a7b9-63d64b68f027",
       "rows": [
        [
         "0",
         "['REACTION_duration_min_sacc']",
         "1.0",
         "2"
        ],
        [
         "1",
         "['SMOOTH_PURSUITS_distance_to_fixpoint_y_min']",
         "1.0",
         "3"
        ],
        [
         "2",
         "['ANTI_SACCADE_duration_min_sacc']",
         "0.9818181818181818",
         "4"
        ],
        [
         "3",
         "['KING_DEVICK_duration_min_sacc']",
         "0.9818181818181818",
         "5"
        ],
        [
         "4",
         "['SHAPES_duration_min_sacc']",
         "0.9454545454545454",
         "6"
        ],
        [
         "5",
         "['REACTION_n_correct_trials']",
         "0.9233333333333333",
         "7"
        ],
        [
         "6",
         "['REACTION_n_correct_trials']",
         "0.9727272727272728",
         "8"
        ],
        [
         "7",
         "['REACTION_n_correct_trials']",
         "0.9818181818181818",
         "9"
        ],
        [
         "8",
         "['REACTION_prop_correct_trials']",
         "0.9636363636363636",
         "10"
        ]
       ],
       "shape": {
        "columns": 3,
        "rows": 9
       }
      },
      "text/html": [
       "<div>\n",
       "<style scoped>\n",
       "    .dataframe tbody tr th:only-of-type {\n",
       "        vertical-align: middle;\n",
       "    }\n",
       "\n",
       "    .dataframe tbody tr th {\n",
       "        vertical-align: top;\n",
       "    }\n",
       "\n",
       "    .dataframe thead th {\n",
       "        text-align: right;\n",
       "    }\n",
       "</style>\n",
       "<table border=\"1\" class=\"dataframe\">\n",
       "  <thead>\n",
       "    <tr style=\"text-align: right;\">\n",
       "      <th></th>\n",
       "      <th>features</th>\n",
       "      <th>silhouette_scores</th>\n",
       "      <th>n_clusters</th>\n",
       "    </tr>\n",
       "  </thead>\n",
       "  <tbody>\n",
       "    <tr>\n",
       "      <th>0</th>\n",
       "      <td>[REACTION_duration_min_sacc]</td>\n",
       "      <td>1.000000</td>\n",
       "      <td>2</td>\n",
       "    </tr>\n",
       "    <tr>\n",
       "      <th>1</th>\n",
       "      <td>[SMOOTH_PURSUITS_distance_to_fixpoint_y_min]</td>\n",
       "      <td>1.000000</td>\n",
       "      <td>3</td>\n",
       "    </tr>\n",
       "    <tr>\n",
       "      <th>2</th>\n",
       "      <td>[ANTI_SACCADE_duration_min_sacc]</td>\n",
       "      <td>0.981818</td>\n",
       "      <td>4</td>\n",
       "    </tr>\n",
       "    <tr>\n",
       "      <th>3</th>\n",
       "      <td>[KING_DEVICK_duration_min_sacc]</td>\n",
       "      <td>0.981818</td>\n",
       "      <td>5</td>\n",
       "    </tr>\n",
       "    <tr>\n",
       "      <th>4</th>\n",
       "      <td>[SHAPES_duration_min_sacc]</td>\n",
       "      <td>0.945455</td>\n",
       "      <td>6</td>\n",
       "    </tr>\n",
       "    <tr>\n",
       "      <th>5</th>\n",
       "      <td>[REACTION_n_correct_trials]</td>\n",
       "      <td>0.923333</td>\n",
       "      <td>7</td>\n",
       "    </tr>\n",
       "    <tr>\n",
       "      <th>6</th>\n",
       "      <td>[REACTION_n_correct_trials]</td>\n",
       "      <td>0.972727</td>\n",
       "      <td>8</td>\n",
       "    </tr>\n",
       "    <tr>\n",
       "      <th>7</th>\n",
       "      <td>[REACTION_n_correct_trials]</td>\n",
       "      <td>0.981818</td>\n",
       "      <td>9</td>\n",
       "    </tr>\n",
       "    <tr>\n",
       "      <th>8</th>\n",
       "      <td>[REACTION_prop_correct_trials]</td>\n",
       "      <td>0.963636</td>\n",
       "      <td>10</td>\n",
       "    </tr>\n",
       "  </tbody>\n",
       "</table>\n",
       "</div>"
      ],
      "text/plain": [
       "                                       features  silhouette_scores  n_clusters\n",
       "0                  [REACTION_duration_min_sacc]           1.000000           2\n",
       "1  [SMOOTH_PURSUITS_distance_to_fixpoint_y_min]           1.000000           3\n",
       "2              [ANTI_SACCADE_duration_min_sacc]           0.981818           4\n",
       "3               [KING_DEVICK_duration_min_sacc]           0.981818           5\n",
       "4                    [SHAPES_duration_min_sacc]           0.945455           6\n",
       "5                   [REACTION_n_correct_trials]           0.923333           7\n",
       "6                   [REACTION_n_correct_trials]           0.972727           8\n",
       "7                   [REACTION_n_correct_trials]           0.981818           9\n",
       "8                [REACTION_prop_correct_trials]           0.963636          10"
      ]
     },
     "execution_count": 9,
     "metadata": {},
     "output_type": "execute_result"
    }
   ],
   "source": [
    "chosen_features_df"
   ]
  }
 ],
 "metadata": {
  "kernelspec": {
   "display_name": ".venv",
   "language": "python",
   "name": "python3"
  },
  "language_info": {
   "codemirror_mode": {
    "name": "ipython",
    "version": 3
   },
   "file_extension": ".py",
   "mimetype": "text/x-python",
   "name": "python",
   "nbconvert_exporter": "python",
   "pygments_lexer": "ipython3",
   "version": "3.12.9"
  }
 },
 "nbformat": 4,
 "nbformat_minor": 2
}
