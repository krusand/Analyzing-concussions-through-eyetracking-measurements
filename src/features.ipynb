{
 "cells": [
  {
   "cell_type": "code",
   "execution_count": 150,
   "metadata": {},
   "outputs": [],
   "source": [
    "import pandas as pd\n",
    "import numpy as np\n",
    "from config import *\n",
    "from xgboost import XGBClassifier\n",
    "from sklearn.preprocessing import StandardScaler\n",
    "from sklearn.metrics import confusion_matrix\n",
    "from sklearn.pipeline import Pipeline\n",
    "from sklearn.model_selection import GridSearchCV\n",
    "import seaborn as sns"
   ]
  },
  {
   "cell_type": "code",
   "execution_count": 122,
   "metadata": {},
   "outputs": [],
   "source": [
    "df = pd.read_parquet(DATA_DIR / \"anti_saccade_processed.pq\")"
   ]
  },
  {
   "cell_type": "code",
   "execution_count": 203,
   "metadata": {},
   "outputs": [
    {
     "name": "stderr",
     "output_type": "stream",
     "text": [
      "/var/folders/v0/l_dtghc15651j6_9p3clc_r00000gt/T/ipykernel_13340/2567076182.py:5: FutureWarning: Downcasting object dtype arrays on .fillna, .ffill, .bfill is deprecated and will change in a future version. Call result.infer_objects(copy=False) instead. To opt-in to the future behavior, set `pd.set_option('future.no_silent_downcasting', True)`\n",
      "  .ffill()\n"
     ]
    },
    {
     "data": {
      "application/vnd.microsoft.datawrangler.viewer.v0+json": {
       "columns": [
        {
         "name": "index",
         "rawType": "int64",
         "type": "integer"
        },
        {
         "name": "experiment",
         "rawType": "object",
         "type": "string"
        },
        {
         "name": "participant_id",
         "rawType": "object",
         "type": "string"
        },
        {
         "name": "correct_reaction_time",
         "rawType": "float64",
         "type": "float"
        },
        {
         "name": "correct_reaction_time",
         "rawType": "float64",
         "type": "float"
        }
       ],
       "conversionMethod": "pd.DataFrame",
       "ref": "b9a13c72-f86c-438c-8955-b51dd0c9aafc",
       "rows": [
        [
         "0",
         "ANTI_SACCADE",
         "106",
         "284.3817600485054",
         "254.85152988065965"
        ],
        [
         "1",
         "ANTI_SACCADE",
         "111",
         "307.3817600484472",
         "210.24513121794624"
        ],
        [
         "2",
         "ANTI_SACCADE",
         "113",
         "160.61234583333135",
         "288.44567916666466"
        ],
        [
         "3",
         "ANTI_SACCADE",
         "121",
         "717.8793290016862",
         "418.0459956683529"
        ],
        [
         "4",
         "ANTI_SACCADE",
         "122",
         "252.13165550127937",
         "851.298322167946"
        ],
        [
         "5",
         "ANTI_SACCADE",
         "125",
         "841.6244390211214",
         "1183.6244390211214"
        ],
        [
         "6",
         "ANTI_SACCADE",
         "133",
         "634.491150571368",
         "878.428650571368"
        ],
        [
         "7",
         "ANTI_SACCADE",
         "134",
         "321.1106637259654",
         "338.8124691612708"
        ],
        [
         "8",
         "ANTI_SACCADE",
         "135",
         "303.008075865524",
         null
        ],
        [
         "9",
         "ANTI_SACCADE",
         "138",
         "365.5873788427251",
         "-892.1181830563582"
        ],
        [
         "10",
         "ANTI_SACCADE",
         "142",
         "359.78446781559614",
         "230.81489537330344"
        ],
        [
         "11",
         "ANTI_SACCADE",
         "143",
         "314.3775641199609",
         "421.9372355857864"
        ],
        [
         "12",
         "ANTI_SACCADE",
         "144",
         "313.1942600485054",
         "623.1954278275371"
        ],
        [
         "13",
         "ANTI_SACCADE",
         "146",
         "273.06926004854904",
         "403.69628653588836"
        ],
        [
         "14",
         "ANTI_SACCADE",
         "147",
         "200.05210771382943",
         "460.1832269594597"
        ],
        [
         "15",
         "ANTI_SACCADE",
         "149",
         "348.8192600485054",
         null
        ],
        [
         "16",
         "ANTI_SACCADE",
         "150",
         "306.9442600485054",
         "89.80164040974341"
        ],
        [
         "17",
         "ANTI_SACCADE",
         "151",
         "302.69426004854904",
         "442.39801726152655"
        ],
        [
         "18",
         "ANTI_SACCADE",
         "152",
         "357.7567600484472",
         "209.666038016323"
        ],
        [
         "19",
         "ANTI_SACCADE",
         "153",
         "362.8192600485054",
         "263.84973164814124"
        ],
        [
         "20",
         "ANTI_SACCADE",
         "156",
         "478.5826806584994",
         "341.61074731513287"
        ],
        [
         "21",
         "ANTI_SACCADE",
         "157",
         "273.94426004854904",
         "373.553077690963"
        ],
        [
         "22",
         "ANTI_SACCADE",
         "166",
         "287.44426004854904",
         "433.15148371164685"
        ],
        [
         "23",
         "ANTI_SACCADE",
         "169",
         "497.25676004914567",
         "385.37271927440395"
        ],
        [
         "24",
         "ANTI_SACCADE",
         "171",
         "349.38176004854904",
         "501.19167196297917"
        ],
        [
         "25",
         "ANTI_SACCADE",
         "173",
         "378.3817600485054",
         "494.8655758599052"
        ],
        [
         "26",
         "ANTI_SACCADE",
         "180",
         "299.69426004914567",
         "513.6002922664312"
        ],
        [
         "27",
         "ANTI_SACCADE",
         "182",
         "313.25676004854904",
         "394.155271896685"
        ],
        [
         "28",
         "ANTI_SACCADE",
         "184",
         "289.13176004854904",
         "559.7592575061135"
        ],
        [
         "29",
         "ANTI_SACCADE",
         "185",
         "298.94426004854904",
         "584.9858603026563"
        ],
        [
         "30",
         "ANTI_SACCADE",
         "187",
         "233.88176004844718",
         "612.3902210019529"
        ],
        [
         "31",
         "ANTI_SACCADE",
         "188",
         "288.88176004849083",
         "261.01001301885117"
        ],
        [
         "32",
         "ANTI_SACCADE",
         "190",
         "297.81926004854904",
         "545.7746608398604"
        ],
        [
         "33",
         "ANTI_SACCADE",
         "195",
         "453.2859841922327",
         "267.0955097961705"
        ],
        [
         "34",
         "ANTI_SACCADE",
         "196",
         "295.06926004914567",
         "650.886084806174"
        ],
        [
         "35",
         "ANTI_SACCADE",
         "197",
         "195.00676004850538",
         "153.76061002178383"
        ],
        [
         "36",
         "ANTI_SACCADE",
         "198",
         "288.00676004854904",
         "286.1863599072676"
        ],
        [
         "37",
         "ANTI_SACCADE",
         "199",
         "263.9442600484472",
         "261.75831239068737"
        ],
        [
         "38",
         "ANTI_SACCADE",
         "200",
         "281.69426004854904",
         "388.0910766933494"
        ],
        [
         "39",
         "ANTI_SACCADE",
         "204",
         "278.0692600484472",
         "337.1886209064396"
        ],
        [
         "40",
         "ANTI_SACCADE",
         "206",
         "234.94426004844718",
         "407.0658404015315"
        ],
        [
         "41",
         "ANTI_SACCADE",
         "207",
         "286.0067600484472",
         "834.9218124109743"
        ],
        [
         "42",
         "ANTI_SACCADE",
         "209",
         "266.44426004854904",
         "436.838003286859"
        ],
        [
         "43",
         "ANTI_SACCADE",
         "210",
         "292.19426004914567",
         "215.92248344669738"
        ],
        [
         "44",
         "ANTI_SACCADE",
         "214",
         "339.6317600485054",
         "337.878694537282"
        ],
        [
         "45",
         "ANTI_SACCADE",
         "215",
         "382.9442600485054",
         "236.02503913734108"
        ],
        [
         "46",
         "ANTI_SACCADE",
         "217",
         "444.2567600484472",
         "451.9517604054883"
        ],
        [
         "47",
         "ANTI_SACCADE",
         "218",
         "362.75676004914567",
         "642.4818316424886"
        ],
        [
         "48",
         "ANTI_SACCADE",
         "219",
         "366.13176004914567",
         "656.552157979769"
        ],
        [
         "49",
         "ANTI_SACCADE",
         "220",
         "410.94426004854904",
         "218.98973912239308"
        ]
       ],
       "shape": {
        "columns": 4,
        "rows": 170
       }
      },
      "text/html": [
       "<div>\n",
       "<style scoped>\n",
       "    .dataframe tbody tr th:only-of-type {\n",
       "        vertical-align: middle;\n",
       "    }\n",
       "\n",
       "    .dataframe tbody tr th {\n",
       "        vertical-align: top;\n",
       "    }\n",
       "\n",
       "    .dataframe thead th {\n",
       "        text-align: right;\n",
       "    }\n",
       "</style>\n",
       "<table border=\"1\" class=\"dataframe\">\n",
       "  <thead>\n",
       "    <tr style=\"text-align: right;\">\n",
       "      <th>is_trial_correct</th>\n",
       "      <th>experiment</th>\n",
       "      <th>participant_id</th>\n",
       "      <th>correct_reaction_time</th>\n",
       "      <th>correct_reaction_time</th>\n",
       "    </tr>\n",
       "  </thead>\n",
       "  <tbody>\n",
       "    <tr>\n",
       "      <th>0</th>\n",
       "      <td>ANTI_SACCADE</td>\n",
       "      <td>106</td>\n",
       "      <td>284.381760</td>\n",
       "      <td>254.851530</td>\n",
       "    </tr>\n",
       "    <tr>\n",
       "      <th>1</th>\n",
       "      <td>ANTI_SACCADE</td>\n",
       "      <td>111</td>\n",
       "      <td>307.381760</td>\n",
       "      <td>210.245131</td>\n",
       "    </tr>\n",
       "    <tr>\n",
       "      <th>2</th>\n",
       "      <td>ANTI_SACCADE</td>\n",
       "      <td>113</td>\n",
       "      <td>160.612346</td>\n",
       "      <td>288.445679</td>\n",
       "    </tr>\n",
       "    <tr>\n",
       "      <th>3</th>\n",
       "      <td>ANTI_SACCADE</td>\n",
       "      <td>121</td>\n",
       "      <td>717.879329</td>\n",
       "      <td>418.045996</td>\n",
       "    </tr>\n",
       "    <tr>\n",
       "      <th>4</th>\n",
       "      <td>ANTI_SACCADE</td>\n",
       "      <td>122</td>\n",
       "      <td>252.131656</td>\n",
       "      <td>851.298322</td>\n",
       "    </tr>\n",
       "    <tr>\n",
       "      <th>...</th>\n",
       "      <td>...</td>\n",
       "      <td>...</td>\n",
       "      <td>...</td>\n",
       "      <td>...</td>\n",
       "    </tr>\n",
       "    <tr>\n",
       "      <th>165</th>\n",
       "      <td>ANTI_SACCADE</td>\n",
       "      <td>399</td>\n",
       "      <td>285.631760</td>\n",
       "      <td>394.128375</td>\n",
       "    </tr>\n",
       "    <tr>\n",
       "      <th>166</th>\n",
       "      <td>ANTI_SACCADE</td>\n",
       "      <td>401</td>\n",
       "      <td>269.819260</td>\n",
       "      <td>523.551108</td>\n",
       "    </tr>\n",
       "    <tr>\n",
       "      <th>167</th>\n",
       "      <td>ANTI_SACCADE</td>\n",
       "      <td>402</td>\n",
       "      <td>303.881760</td>\n",
       "      <td>341.257276</td>\n",
       "    </tr>\n",
       "    <tr>\n",
       "      <th>168</th>\n",
       "      <td>ANTI_SACCADE</td>\n",
       "      <td>403</td>\n",
       "      <td>313.756760</td>\n",
       "      <td>351.841997</td>\n",
       "    </tr>\n",
       "    <tr>\n",
       "      <th>169</th>\n",
       "      <td>ANTI_SACCADE</td>\n",
       "      <td>404</td>\n",
       "      <td>245.006760</td>\n",
       "      <td>1036.707415</td>\n",
       "    </tr>\n",
       "  </tbody>\n",
       "</table>\n",
       "<p>170 rows × 4 columns</p>\n",
       "</div>"
      ],
      "text/plain": [
       "is_trial_correct    experiment participant_id  correct_reaction_time  \\\n",
       "0                 ANTI_SACCADE            106             284.381760   \n",
       "1                 ANTI_SACCADE            111             307.381760   \n",
       "2                 ANTI_SACCADE            113             160.612346   \n",
       "3                 ANTI_SACCADE            121             717.879329   \n",
       "4                 ANTI_SACCADE            122             252.131656   \n",
       "..                         ...            ...                    ...   \n",
       "165               ANTI_SACCADE            399             285.631760   \n",
       "166               ANTI_SACCADE            401             269.819260   \n",
       "167               ANTI_SACCADE            402             303.881760   \n",
       "168               ANTI_SACCADE            403             313.756760   \n",
       "169               ANTI_SACCADE            404             245.006760   \n",
       "\n",
       "is_trial_correct  correct_reaction_time  \n",
       "0                            254.851530  \n",
       "1                            210.245131  \n",
       "2                            288.445679  \n",
       "3                            418.045996  \n",
       "4                            851.298322  \n",
       "..                                  ...  \n",
       "165                          394.128375  \n",
       "166                          523.551108  \n",
       "167                          341.257276  \n",
       "168                          351.841997  \n",
       "169                         1036.707415  \n",
       "\n",
       "[170 rows x 4 columns]"
      ]
     },
     "execution_count": 203,
     "metadata": {},
     "output_type": "execute_result"
    }
   ],
   "source": [
    "reaction_time_df = (df\n",
    " .query(\"stimulus_active == True\")\n",
    " .sort_values(by=[\"participant_id\", \"trial_id\", \"stand_time\"])\n",
    " .assign(stimulus_time = lambda x: np.select([x.event == \"FIXPOINT\", x.event != \"FIXPOINT\"], [x.stand_time, None]))\n",
    " .ffill()\n",
    " .assign(saccade_direction = lambda x: np.where(x[\"sacc_end_x\"] > x[\"sacc_start_x\"], \"right\", \"left\"))\n",
    " .assign(is_trial_correct = lambda x: np.where(x[\"saccade_direction\"] == x[\"stimulus_side\"], True, False))\n",
    " .query(\"event == 'ESACC'\")\n",
    " .groupby([\"experiment\",\"participant_id\", \"trial_id\", \"is_trial_correct\"])\n",
    " .first()\n",
    " .reset_index()\n",
    " .assign(reaction_time = lambda x: x[\"stand_start_time\"] - x[\"stimulus_time\"])\n",
    " .groupby([\"experiment\",\"participant_id\",\"is_trial_correct\"])\n",
    " .agg(mean_reaction_time = ('reaction_time', 'mean'))\n",
    " .reset_index()\n",
    " .pivot(index=[\"experiment\", \"participant_id\"], columns=\"is_trial_correct\",values=\"mean_reaction_time\")\n",
    " .reset_index()\n",
    " .rename({True: 'correct_reaction_time',\n",
    "          False: 'correct_reaction_time'}, axis=1)\n",
    ")\n",
    "\n",
    "reaction_time_df"
   ]
  },
  {
   "cell_type": "code",
   "execution_count": 204,
   "metadata": {},
   "outputs": [
    {
     "name": "stderr",
     "output_type": "stream",
     "text": [
      "/var/folders/v0/l_dtghc15651j6_9p3clc_r00000gt/T/ipykernel_13340/3287675264.py:2: FutureWarning: The provided callable <function mean at 0x1107d3b00> is currently using SeriesGroupBy.mean. In a future version of pandas, the provided callable will be used directly. To keep current behavior pass the string \"mean\" instead.\n",
      "  .agg({'peak_velocity': [np.mean, np.min, np.max, np.median, np.std],\n",
      "/var/folders/v0/l_dtghc15651j6_9p3clc_r00000gt/T/ipykernel_13340/3287675264.py:2: FutureWarning: The provided callable <function min at 0x1107d3240> is currently using SeriesGroupBy.min. In a future version of pandas, the provided callable will be used directly. To keep current behavior pass the string \"min\" instead.\n",
      "  .agg({'peak_velocity': [np.mean, np.min, np.max, np.median, np.std],\n",
      "/var/folders/v0/l_dtghc15651j6_9p3clc_r00000gt/T/ipykernel_13340/3287675264.py:2: FutureWarning: The provided callable <function max at 0x1107d3100> is currently using SeriesGroupBy.max. In a future version of pandas, the provided callable will be used directly. To keep current behavior pass the string \"max\" instead.\n",
      "  .agg({'peak_velocity': [np.mean, np.min, np.max, np.median, np.std],\n",
      "/var/folders/v0/l_dtghc15651j6_9p3clc_r00000gt/T/ipykernel_13340/3287675264.py:2: FutureWarning: The provided callable <function median at 0x1138468e0> is currently using SeriesGroupBy.median. In a future version of pandas, the provided callable will be used directly. To keep current behavior pass the string \"median\" instead.\n",
      "  .agg({'peak_velocity': [np.mean, np.min, np.max, np.median, np.std],\n",
      "/var/folders/v0/l_dtghc15651j6_9p3clc_r00000gt/T/ipykernel_13340/3287675264.py:2: FutureWarning: The provided callable <function std at 0x1107d3c40> is currently using SeriesGroupBy.std. In a future version of pandas, the provided callable will be used directly. To keep current behavior pass the string \"std\" instead.\n",
      "  .agg({'peak_velocity': [np.mean, np.min, np.max, np.median, np.std],\n",
      "/var/folders/v0/l_dtghc15651j6_9p3clc_r00000gt/T/ipykernel_13340/3287675264.py:2: FutureWarning: The provided callable <function mean at 0x1107d3b00> is currently using SeriesGroupBy.mean. In a future version of pandas, the provided callable will be used directly. To keep current behavior pass the string \"mean\" instead.\n",
      "  .agg({'peak_velocity': [np.mean, np.min, np.max, np.median, np.std],\n"
     ]
    }
   ],
   "source": [
    "features = (df.groupby([\"experiment\", \"participant_id\"])\n",
    " .agg({'peak_velocity': [np.mean, np.min, np.max, np.median, np.std],\n",
    "       'amplitude': [np.mean, np.min, np.max, np.median, np.std],\n",
    "       'duration': [np.mean, np.min, np.max, np.median, np.std],\n",
    "       'avg_pupil_size': [np.mean, np.min, np.max, np.median, np.std]\n",
    "       })\n",
    " .reset_index()\n",
    ")\n",
    "    \n",
    "features.columns = [''.join(col).strip() for col in features.columns.values]\n"
   ]
  },
  {
   "cell_type": "code",
   "execution_count": 205,
   "metadata": {},
   "outputs": [],
   "source": [
    "features = pd.merge(features, reaction_time_df, left_on=[\"experiment\",\"participant_id\"], right_on=[\"experiment\", \"participant_id\"], how='left')"
   ]
  },
  {
   "cell_type": "markdown",
   "metadata": {},
   "source": [
    "# Load outcome"
   ]
  },
  {
   "cell_type": "code",
   "execution_count": 206,
   "metadata": {},
   "outputs": [],
   "source": [
    "demographics = pd.read_excel(DATA_DIR / \"demographic_info.xlsx\")[[\"ID\", \"Group\"]]\n",
    "\n",
    "demographics[\"y\"] = (demographics[\"Group\"] == \"PATIENT\").astype(int)\n",
    "demographics[\"participant_id\"] = demographics[\"ID\"].astype(str)\n",
    "demographics = demographics[[\"participant_id\", \"y\"]]\n",
    "\n"
   ]
  },
  {
   "cell_type": "markdown",
   "metadata": {},
   "source": [
    "# Model training"
   ]
  },
  {
   "cell_type": "code",
   "execution_count": 207,
   "metadata": {},
   "outputs": [],
   "source": [
    "data = pd.merge(features, demographics, how='left', on='participant_id')\n",
    "y_data = data[\"y\"]\n",
    "X_data = data.drop([\"experiment\", \"participant_id\", \"y\"], axis=1)"
   ]
  },
  {
   "cell_type": "code",
   "execution_count": 211,
   "metadata": {},
   "outputs": [
    {
     "name": "stdout",
     "output_type": "stream",
     "text": [
      "0.5882352941176471\n"
     ]
    },
    {
     "data": {
      "application/vnd.microsoft.datawrangler.viewer.v0+json": {
       "columns": [
        {
         "name": "index",
         "rawType": "int64",
         "type": "integer"
        },
        {
         "name": "columns",
         "rawType": "object",
         "type": "string"
        },
        {
         "name": "importances",
         "rawType": "float32",
         "type": "float"
        }
       ],
       "conversionMethod": "pd.DataFrame",
       "ref": "914c3cd6-240b-4294-a54d-b1b875563651",
       "rows": [
        [
         "18",
         "avg_pupil_sizemedian",
         "0.089489505"
        ],
        [
         "8",
         "amplitudemedian",
         "0.083699174"
        ],
        [
         "20",
         "correct_reaction_time",
         "0.075453915"
        ],
        [
         "6",
         "amplitudemin",
         "0.07193061"
        ],
        [
         "17",
         "avg_pupil_sizemax",
         "0.065200895"
        ],
        [
         "3",
         "peak_velocitymedian",
         "0.06336995"
        ],
        [
         "5",
         "amplitudemean",
         "0.05567017"
        ],
        [
         "19",
         "avg_pupil_sizestd",
         "0.05470985"
        ],
        [
         "10",
         "durationmean",
         "0.052692786"
        ],
        [
         "4",
         "peak_velocitystd",
         "0.04773846"
        ],
        [
         "12",
         "durationmax",
         "0.046955284"
        ],
        [
         "16",
         "avg_pupil_sizemin",
         "0.044173285"
        ],
        [
         "21",
         "correct_reaction_time",
         "0.04399714"
        ],
        [
         "2",
         "peak_velocitymax",
         "0.041872226"
        ],
        [
         "0",
         "peak_velocitymean",
         "0.039999995"
        ],
        [
         "13",
         "durationmedian",
         "0.031337023"
        ],
        [
         "14",
         "durationstd",
         "0.030961493"
        ],
        [
         "15",
         "avg_pupil_sizemean",
         "0.026446236"
        ],
        [
         "7",
         "amplitudemax",
         "0.023755508"
        ],
        [
         "9",
         "amplitudestd",
         "0.010546429"
        ],
        [
         "1",
         "peak_velocitymin",
         "0.0"
        ],
        [
         "11",
         "durationmin",
         "0.0"
        ]
       ],
       "shape": {
        "columns": 2,
        "rows": 22
       }
      },
      "text/html": [
       "<div>\n",
       "<style scoped>\n",
       "    .dataframe tbody tr th:only-of-type {\n",
       "        vertical-align: middle;\n",
       "    }\n",
       "\n",
       "    .dataframe tbody tr th {\n",
       "        vertical-align: top;\n",
       "    }\n",
       "\n",
       "    .dataframe thead th {\n",
       "        text-align: right;\n",
       "    }\n",
       "</style>\n",
       "<table border=\"1\" class=\"dataframe\">\n",
       "  <thead>\n",
       "    <tr style=\"text-align: right;\">\n",
       "      <th></th>\n",
       "      <th>columns</th>\n",
       "      <th>importances</th>\n",
       "    </tr>\n",
       "  </thead>\n",
       "  <tbody>\n",
       "    <tr>\n",
       "      <th>18</th>\n",
       "      <td>avg_pupil_sizemedian</td>\n",
       "      <td>0.089490</td>\n",
       "    </tr>\n",
       "    <tr>\n",
       "      <th>8</th>\n",
       "      <td>amplitudemedian</td>\n",
       "      <td>0.083699</td>\n",
       "    </tr>\n",
       "    <tr>\n",
       "      <th>20</th>\n",
       "      <td>correct_reaction_time</td>\n",
       "      <td>0.075454</td>\n",
       "    </tr>\n",
       "    <tr>\n",
       "      <th>6</th>\n",
       "      <td>amplitudemin</td>\n",
       "      <td>0.071931</td>\n",
       "    </tr>\n",
       "    <tr>\n",
       "      <th>17</th>\n",
       "      <td>avg_pupil_sizemax</td>\n",
       "      <td>0.065201</td>\n",
       "    </tr>\n",
       "    <tr>\n",
       "      <th>3</th>\n",
       "      <td>peak_velocitymedian</td>\n",
       "      <td>0.063370</td>\n",
       "    </tr>\n",
       "    <tr>\n",
       "      <th>5</th>\n",
       "      <td>amplitudemean</td>\n",
       "      <td>0.055670</td>\n",
       "    </tr>\n",
       "    <tr>\n",
       "      <th>19</th>\n",
       "      <td>avg_pupil_sizestd</td>\n",
       "      <td>0.054710</td>\n",
       "    </tr>\n",
       "    <tr>\n",
       "      <th>10</th>\n",
       "      <td>durationmean</td>\n",
       "      <td>0.052693</td>\n",
       "    </tr>\n",
       "    <tr>\n",
       "      <th>4</th>\n",
       "      <td>peak_velocitystd</td>\n",
       "      <td>0.047738</td>\n",
       "    </tr>\n",
       "    <tr>\n",
       "      <th>12</th>\n",
       "      <td>durationmax</td>\n",
       "      <td>0.046955</td>\n",
       "    </tr>\n",
       "    <tr>\n",
       "      <th>16</th>\n",
       "      <td>avg_pupil_sizemin</td>\n",
       "      <td>0.044173</td>\n",
       "    </tr>\n",
       "    <tr>\n",
       "      <th>21</th>\n",
       "      <td>correct_reaction_time</td>\n",
       "      <td>0.043997</td>\n",
       "    </tr>\n",
       "    <tr>\n",
       "      <th>2</th>\n",
       "      <td>peak_velocitymax</td>\n",
       "      <td>0.041872</td>\n",
       "    </tr>\n",
       "    <tr>\n",
       "      <th>0</th>\n",
       "      <td>peak_velocitymean</td>\n",
       "      <td>0.040000</td>\n",
       "    </tr>\n",
       "    <tr>\n",
       "      <th>13</th>\n",
       "      <td>durationmedian</td>\n",
       "      <td>0.031337</td>\n",
       "    </tr>\n",
       "    <tr>\n",
       "      <th>14</th>\n",
       "      <td>durationstd</td>\n",
       "      <td>0.030961</td>\n",
       "    </tr>\n",
       "    <tr>\n",
       "      <th>15</th>\n",
       "      <td>avg_pupil_sizemean</td>\n",
       "      <td>0.026446</td>\n",
       "    </tr>\n",
       "    <tr>\n",
       "      <th>7</th>\n",
       "      <td>amplitudemax</td>\n",
       "      <td>0.023756</td>\n",
       "    </tr>\n",
       "    <tr>\n",
       "      <th>9</th>\n",
       "      <td>amplitudestd</td>\n",
       "      <td>0.010546</td>\n",
       "    </tr>\n",
       "    <tr>\n",
       "      <th>1</th>\n",
       "      <td>peak_velocitymin</td>\n",
       "      <td>0.000000</td>\n",
       "    </tr>\n",
       "    <tr>\n",
       "      <th>11</th>\n",
       "      <td>durationmin</td>\n",
       "      <td>0.000000</td>\n",
       "    </tr>\n",
       "  </tbody>\n",
       "</table>\n",
       "</div>"
      ],
      "text/plain": [
       "                  columns  importances\n",
       "18   avg_pupil_sizemedian     0.089490\n",
       "8         amplitudemedian     0.083699\n",
       "20  correct_reaction_time     0.075454\n",
       "6            amplitudemin     0.071931\n",
       "17      avg_pupil_sizemax     0.065201\n",
       "3     peak_velocitymedian     0.063370\n",
       "5           amplitudemean     0.055670\n",
       "19      avg_pupil_sizestd     0.054710\n",
       "10           durationmean     0.052693\n",
       "4        peak_velocitystd     0.047738\n",
       "12            durationmax     0.046955\n",
       "16      avg_pupil_sizemin     0.044173\n",
       "21  correct_reaction_time     0.043997\n",
       "2        peak_velocitymax     0.041872\n",
       "0       peak_velocitymean     0.040000\n",
       "13         durationmedian     0.031337\n",
       "14            durationstd     0.030961\n",
       "15     avg_pupil_sizemean     0.026446\n",
       "7            amplitudemax     0.023756\n",
       "9            amplitudestd     0.010546\n",
       "1        peak_velocitymin     0.000000\n",
       "11            durationmin     0.000000"
      ]
     },
     "execution_count": 211,
     "metadata": {},
     "output_type": "execute_result"
    }
   ],
   "source": [
    "from sklearn.model_selection import train_test_split\n",
    "X_train, X_test, y_train, y_test = train_test_split(X_data, y_data, test_size=.2)\n",
    "\n",
    "pipe = Pipeline([\n",
    "    (\"scaler\", StandardScaler()),\n",
    "    (\"clf\", XGBClassifier(n_estimators=10, max_depth=6, learning_rate=1, objective='binary:logistic'))\n",
    "])\n",
    "\n",
    "print(pipe.fit(X_train, y_train).score(X_test, y_test))\n",
    "\n",
    "results=pd.DataFrame()\n",
    "results['columns']=X_train.columns\n",
    "results['importances'] = pipe[\"clf\"].feature_importances_\n",
    "results.sort_values(by='importances',ascending=False,inplace=True)\n",
    "\n",
    "results"
   ]
  }
 ],
 "metadata": {
  "kernelspec": {
   "display_name": ".venv",
   "language": "python",
   "name": "python3"
  },
  "language_info": {
   "codemirror_mode": {
    "name": "ipython",
    "version": 3
   },
   "file_extension": ".py",
   "mimetype": "text/x-python",
   "name": "python",
   "nbconvert_exporter": "python",
   "pygments_lexer": "ipython3",
   "version": "3.13.2"
  }
 },
 "nbformat": 4,
 "nbformat_minor": 2
}
