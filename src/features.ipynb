{
 "cells": [
  {
   "cell_type": "code",
   "execution_count": null,
   "metadata": {},
   "outputs": [],
   "source": [
    "import pandas as pd\n",
    "import numpy as np\n",
    "from config import *\n",
    "from xgboost import XGBClassifier\n",
    "from sklearn.preprocessing import StandardScaler\n",
    "from sklearn.metrics import confusion_matrix\n",
    "from sklearn.pipeline import Pipeline\n",
    "from sklearn.model_selection import GridSearchCV"
   ]
  },
  {
   "cell_type": "code",
   "execution_count": null,
   "metadata": {},
   "outputs": [
    {
     "data": {
      "text/html": [
       "<div><style>\n",
       ".dataframe > thead > tr,\n",
       ".dataframe > tbody > tr {\n",
       "  text-align: right;\n",
       "  white-space: pre-wrap;\n",
       "}\n",
       "</style>\n",
       "<small>shape: (5, 23)</small><table border=\"1\" class=\"dataframe\"><thead><tr><th>experiment</th><th>participant_id</th><th>trial_id</th><th>stand_time</th><th>eye</th><th>event</th><th>delay</th><th>stimulus_active</th><th>stimulus_colour</th><th>stimulus_x</th><th>stimulus_y</th><th>fix_x</th><th>fix_y</th><th>sacc_start_x</th><th>sacc_start_y</th><th>sacc_end_x</th><th>sacc_end_y</th><th>stand_start_time</th><th>stand_end_time</th><th>avg_pupil_size</th><th>peak_velocity</th><th>amplitude</th><th>duration</th></tr><tr><td>str</td><td>str</td><td>f64</td><td>f64</td><td>str</td><td>str</td><td>str</td><td>bool</td><td>str</td><td>f64</td><td>f64</td><td>f64</td><td>f64</td><td>f64</td><td>f64</td><td>f64</td><td>f64</td><td>f64</td><td>f64</td><td>f64</td><td>f64</td><td>f64</td><td>f64</td></tr></thead><tbody><tr><td>&quot;ANTI_SACCADE&quot;</td><td>&quot;103&quot;</td><td>0.0</td><td>0.0</td><td>&quot;L&quot;</td><td>&quot;TRIALID&quot;</td><td>&quot;0.6313317779859062&quot;</td><td>null</td><td>null</td><td>null</td><td>null</td><td>null</td><td>null</td><td>null</td><td>null</td><td>null</td><td>null</td><td>null</td><td>null</td><td>null</td><td>null</td><td>null</td><td>null</td></tr><tr><td>&quot;ANTI_SACCADE&quot;</td><td>&quot;103&quot;</td><td>0.0</td><td>32.0</td><td>&quot;L&quot;</td><td>&quot;START&quot;</td><td>&quot;0.6313317779859062&quot;</td><td>null</td><td>null</td><td>null</td><td>null</td><td>null</td><td>null</td><td>null</td><td>null</td><td>null</td><td>null</td><td>null</td><td>null</td><td>null</td><td>null</td><td>null</td><td>null</td></tr><tr><td>&quot;ANTI_SACCADE&quot;</td><td>&quot;103&quot;</td><td>0.0</td><td>67.0</td><td>&quot;L&quot;</td><td>&quot;FIXPOINT&quot;</td><td>&quot;0.6313317779859062&quot;</td><td>false</td><td>&quot;255 255 255&quot;</td><td>960.0</td><td>540.0</td><td>null</td><td>null</td><td>null</td><td>null</td><td>null</td><td>null</td><td>null</td><td>null</td><td>null</td><td>null</td><td>null</td><td>null</td></tr><tr><td>&quot;ANTI_SACCADE&quot;</td><td>&quot;103&quot;</td><td>0.0</td><td>366.0</td><td>&quot;L&quot;</td><td>&quot;EFIX&quot;</td><td>&quot;0.6313317779859062&quot;</td><td>false</td><td>&quot;255 255 255&quot;</td><td>960.0</td><td>540.0</td><td>917.3</td><td>682.8</td><td>null</td><td>null</td><td>null</td><td>null</td><td>212.0</td><td>366.0</td><td>2313.0</td><td>null</td><td>null</td><td>154.0</td></tr><tr><td>&quot;ANTI_SACCADE&quot;</td><td>&quot;103&quot;</td><td>0.0</td><td>377.0</td><td>&quot;L&quot;</td><td>&quot;ESACC&quot;</td><td>&quot;0.6313317779859062&quot;</td><td>false</td><td>&quot;255 255 255&quot;</td><td>960.0</td><td>540.0</td><td>null</td><td>null</td><td>910.4</td><td>584.1</td><td>905.7</td><td>560.3</td><td>367.0</td><td>377.0</td><td>null</td><td>50.0</td><td>0.43</td><td>10.0</td></tr></tbody></table></div>"
      ],
      "text/plain": [
       "shape: (5, 23)\n",
       "┌────────────┬───────────┬──────────┬───────────┬───┬───────────┬───────────┬───────────┬──────────┐\n",
       "│ experiment ┆ participa ┆ trial_id ┆ stand_tim ┆ … ┆ avg_pupil ┆ peak_velo ┆ amplitude ┆ duration │\n",
       "│ ---        ┆ nt_id     ┆ ---      ┆ e         ┆   ┆ _size     ┆ city      ┆ ---       ┆ ---      │\n",
       "│ str        ┆ ---       ┆ f64      ┆ ---       ┆   ┆ ---       ┆ ---       ┆ f64       ┆ f64      │\n",
       "│            ┆ str       ┆          ┆ f64       ┆   ┆ f64       ┆ f64       ┆           ┆          │\n",
       "╞════════════╪═══════════╪══════════╪═══════════╪═══╪═══════════╪═══════════╪═══════════╪══════════╡\n",
       "│ ANTI_SACCA ┆ 103       ┆ 0.0      ┆ 0.0       ┆ … ┆ null      ┆ null      ┆ null      ┆ null     │\n",
       "│ DE         ┆           ┆          ┆           ┆   ┆           ┆           ┆           ┆          │\n",
       "│ ANTI_SACCA ┆ 103       ┆ 0.0      ┆ 32.0      ┆ … ┆ null      ┆ null      ┆ null      ┆ null     │\n",
       "│ DE         ┆           ┆          ┆           ┆   ┆           ┆           ┆           ┆          │\n",
       "│ ANTI_SACCA ┆ 103       ┆ 0.0      ┆ 67.0      ┆ … ┆ null      ┆ null      ┆ null      ┆ null     │\n",
       "│ DE         ┆           ┆          ┆           ┆   ┆           ┆           ┆           ┆          │\n",
       "│ ANTI_SACCA ┆ 103       ┆ 0.0      ┆ 366.0     ┆ … ┆ 2313.0    ┆ null      ┆ null      ┆ 154.0    │\n",
       "│ DE         ┆           ┆          ┆           ┆   ┆           ┆           ┆           ┆          │\n",
       "│ ANTI_SACCA ┆ 103       ┆ 0.0      ┆ 377.0     ┆ … ┆ null      ┆ 50.0      ┆ 0.43      ┆ 10.0     │\n",
       "│ DE         ┆           ┆          ┆           ┆   ┆           ┆           ┆           ┆          │\n",
       "└────────────┴───────────┴──────────┴───────────┴───┴───────────┴───────────┴───────────┴──────────┘"
      ]
     },
     "execution_count": 113,
     "metadata": {},
     "output_type": "execute_result"
    }
   ],
   "source": [
    "df = pd.read_parquet(DATA_DIR / \"anti_saccade_processed.pq\")\n",
    "\n",
    "df.head()"
   ]
  },
  {
   "cell_type": "code",
   "execution_count": null,
   "metadata": {},
   "outputs": [],
   "source": [
    "df_grouped = df.groupby([\"experiment\", \"participant_id\"])\n",
    "features = df_grouped[\"peak_velocity\", \"amplitude\", \"duration\", \"avg_pupil_size\"].agg([np.min, np.max, np.mean, np.median, np.std])"
   ]
  },
  {
   "cell_type": "code",
   "execution_count": null,
   "metadata": {},
   "outputs": [
    {
     "data": {
      "text/html": [
       "<div><style>\n",
       ".dataframe > thead > tr,\n",
       ".dataframe > tbody > tr {\n",
       "  text-align: right;\n",
       "  white-space: pre-wrap;\n",
       "}\n",
       "</style>\n",
       "<small>shape: (5, 2)</small><table border=\"1\" class=\"dataframe\"><thead><tr><th>participant_id</th><th>y</th></tr><tr><td>i64</td><td>i32</td></tr></thead><tbody><tr><td>105</td><td>1</td></tr><tr><td>138</td><td>1</td></tr><tr><td>103</td><td>1</td></tr><tr><td>148</td><td>1</td></tr><tr><td>139</td><td>0</td></tr></tbody></table></div>"
      ],
      "text/plain": [
       "shape: (5, 2)\n",
       "┌────────────────┬─────┐\n",
       "│ participant_id ┆ y   │\n",
       "│ ---            ┆ --- │\n",
       "│ i64            ┆ i32 │\n",
       "╞════════════════╪═════╡\n",
       "│ 105            ┆ 1   │\n",
       "│ 138            ┆ 1   │\n",
       "│ 103            ┆ 1   │\n",
       "│ 148            ┆ 1   │\n",
       "│ 139            ┆ 0   │\n",
       "└────────────────┴─────┘"
      ]
     },
     "execution_count": 119,
     "metadata": {},
     "output_type": "execute_result"
    }
   ],
   "source": [
    "demographics = pd.read_excel(DATA_DIR / \"demographic_info.xlsx\")[[\"ID\", \"Group\"]]\n",
    "\n",
    "demographics[\"y\"] = np.select(\n",
    "    [\n",
    "        df['Group'] == \"CONTROL\",\n",
    "        df['Group'] == \"PATIENT\"\n",
    "    ], \n",
    "    [\n",
    "        '0', \n",
    "        '1'\n",
    "    ], \n",
    "    default='Unknown'\n",
    ")"
   ]
  },
  {
   "cell_type": "code",
   "execution_count": null,
   "metadata": {},
   "outputs": [],
   "source": [
    "data = features.join(demographics, how = 'left', on='participant_id').drop(\"participant_id\")\n",
    "X_data = data.drop(\"y\")\n",
    "y_data = data[\"y\"]"
   ]
  },
  {
   "cell_type": "code",
   "execution_count": null,
   "metadata": {},
   "outputs": [
    {
     "data": {
      "application/vnd.microsoft.datawrangler.viewer.v0+json": {
       "columns": [
        {
         "name": "index",
         "rawType": "int64",
         "type": "integer"
        },
        {
         "name": "columns",
         "rawType": "object",
         "type": "string"
        },
        {
         "name": "importances",
         "rawType": "float32",
         "type": "float"
        }
       ],
       "conversionMethod": "pd.DataFrame",
       "ref": "05c594b8-98bc-4759-9ef2-0ef1e38b1036",
       "rows": [
        [
         "4",
         "med_peak_velocity",
         "0.15924203"
        ],
        [
         "5",
         "med_avg_pupil_size",
         "0.10892876"
        ],
        [
         "13",
         "min_avg_pupil_size",
         "0.079246625"
        ],
        [
         "11",
         "max_amplitude",
         "0.07020553"
        ],
        [
         "7",
         "med_amplitude",
         "0.06767289"
        ],
        [
         "9",
         "max_avg_pupil_size",
         "0.056809433"
        ],
        [
         "12",
         "min_peak_velocity",
         "0.054328386"
        ],
        [
         "16",
         "std_peak_velocity",
         "0.04947769"
        ],
        [
         "8",
         "max_peak_velocity",
         "0.0425324"
        ],
        [
         "18",
         "std_duration",
         "0.04155232"
        ],
        [
         "17",
         "std_avg_pupil_size",
         "0.04095816"
        ],
        [
         "15",
         "min_amplitude",
         "0.040142547"
        ],
        [
         "1",
         "avg_avg_pupil_size",
         "0.03364005"
        ],
        [
         "0",
         "avg_peak_velocity",
         "0.030418428"
        ],
        [
         "10",
         "max_duration",
         "0.028632378"
        ],
        [
         "2",
         "avg_duration",
         "0.024439266"
        ],
        [
         "3",
         "avg_amplitude",
         "0.021248844"
        ],
        [
         "6",
         "med_duration",
         "0.019601386"
        ],
        [
         "19",
         "std_amplitude",
         "0.019094456"
        ],
        [
         "14",
         "min_duration",
         "0.011828449"
        ]
       ],
       "shape": {
        "columns": 2,
        "rows": 20
       }
      },
      "text/html": [
       "<div>\n",
       "<style scoped>\n",
       "    .dataframe tbody tr th:only-of-type {\n",
       "        vertical-align: middle;\n",
       "    }\n",
       "\n",
       "    .dataframe tbody tr th {\n",
       "        vertical-align: top;\n",
       "    }\n",
       "\n",
       "    .dataframe thead th {\n",
       "        text-align: right;\n",
       "    }\n",
       "</style>\n",
       "<table border=\"1\" class=\"dataframe\">\n",
       "  <thead>\n",
       "    <tr style=\"text-align: right;\">\n",
       "      <th></th>\n",
       "      <th>columns</th>\n",
       "      <th>importances</th>\n",
       "    </tr>\n",
       "  </thead>\n",
       "  <tbody>\n",
       "    <tr>\n",
       "      <th>4</th>\n",
       "      <td>med_peak_velocity</td>\n",
       "      <td>0.159242</td>\n",
       "    </tr>\n",
       "    <tr>\n",
       "      <th>5</th>\n",
       "      <td>med_avg_pupil_size</td>\n",
       "      <td>0.108929</td>\n",
       "    </tr>\n",
       "    <tr>\n",
       "      <th>13</th>\n",
       "      <td>min_avg_pupil_size</td>\n",
       "      <td>0.079247</td>\n",
       "    </tr>\n",
       "    <tr>\n",
       "      <th>11</th>\n",
       "      <td>max_amplitude</td>\n",
       "      <td>0.070206</td>\n",
       "    </tr>\n",
       "    <tr>\n",
       "      <th>7</th>\n",
       "      <td>med_amplitude</td>\n",
       "      <td>0.067673</td>\n",
       "    </tr>\n",
       "    <tr>\n",
       "      <th>9</th>\n",
       "      <td>max_avg_pupil_size</td>\n",
       "      <td>0.056809</td>\n",
       "    </tr>\n",
       "    <tr>\n",
       "      <th>12</th>\n",
       "      <td>min_peak_velocity</td>\n",
       "      <td>0.054328</td>\n",
       "    </tr>\n",
       "    <tr>\n",
       "      <th>16</th>\n",
       "      <td>std_peak_velocity</td>\n",
       "      <td>0.049478</td>\n",
       "    </tr>\n",
       "    <tr>\n",
       "      <th>8</th>\n",
       "      <td>max_peak_velocity</td>\n",
       "      <td>0.042532</td>\n",
       "    </tr>\n",
       "    <tr>\n",
       "      <th>18</th>\n",
       "      <td>std_duration</td>\n",
       "      <td>0.041552</td>\n",
       "    </tr>\n",
       "    <tr>\n",
       "      <th>17</th>\n",
       "      <td>std_avg_pupil_size</td>\n",
       "      <td>0.040958</td>\n",
       "    </tr>\n",
       "    <tr>\n",
       "      <th>15</th>\n",
       "      <td>min_amplitude</td>\n",
       "      <td>0.040143</td>\n",
       "    </tr>\n",
       "    <tr>\n",
       "      <th>1</th>\n",
       "      <td>avg_avg_pupil_size</td>\n",
       "      <td>0.033640</td>\n",
       "    </tr>\n",
       "    <tr>\n",
       "      <th>0</th>\n",
       "      <td>avg_peak_velocity</td>\n",
       "      <td>0.030418</td>\n",
       "    </tr>\n",
       "    <tr>\n",
       "      <th>10</th>\n",
       "      <td>max_duration</td>\n",
       "      <td>0.028632</td>\n",
       "    </tr>\n",
       "    <tr>\n",
       "      <th>2</th>\n",
       "      <td>avg_duration</td>\n",
       "      <td>0.024439</td>\n",
       "    </tr>\n",
       "    <tr>\n",
       "      <th>3</th>\n",
       "      <td>avg_amplitude</td>\n",
       "      <td>0.021249</td>\n",
       "    </tr>\n",
       "    <tr>\n",
       "      <th>6</th>\n",
       "      <td>med_duration</td>\n",
       "      <td>0.019601</td>\n",
       "    </tr>\n",
       "    <tr>\n",
       "      <th>19</th>\n",
       "      <td>std_amplitude</td>\n",
       "      <td>0.019094</td>\n",
       "    </tr>\n",
       "    <tr>\n",
       "      <th>14</th>\n",
       "      <td>min_duration</td>\n",
       "      <td>0.011828</td>\n",
       "    </tr>\n",
       "  </tbody>\n",
       "</table>\n",
       "</div>"
      ],
      "text/plain": [
       "               columns  importances\n",
       "4    med_peak_velocity     0.159242\n",
       "5   med_avg_pupil_size     0.108929\n",
       "13  min_avg_pupil_size     0.079247\n",
       "11       max_amplitude     0.070206\n",
       "7        med_amplitude     0.067673\n",
       "9   max_avg_pupil_size     0.056809\n",
       "12   min_peak_velocity     0.054328\n",
       "16   std_peak_velocity     0.049478\n",
       "8    max_peak_velocity     0.042532\n",
       "18        std_duration     0.041552\n",
       "17  std_avg_pupil_size     0.040958\n",
       "15       min_amplitude     0.040143\n",
       "1   avg_avg_pupil_size     0.033640\n",
       "0    avg_peak_velocity     0.030418\n",
       "10        max_duration     0.028632\n",
       "2         avg_duration     0.024439\n",
       "3        avg_amplitude     0.021249\n",
       "6         med_duration     0.019601\n",
       "19       std_amplitude     0.019094\n",
       "14        min_duration     0.011828"
      ]
     },
     "execution_count": 241,
     "metadata": {},
     "output_type": "execute_result"
    }
   ],
   "source": [
    "from sklearn.model_selection import train_test_split\n",
    "X_train, X_test, y_train, y_test = train_test_split(X_data, y_data, test_size=.2)\n",
    "\n",
    "pipe = Pipeline([\n",
    "    (\"scaler\", StandardScaler()),\n",
    "    (\"clf\", XGBClassifier(n_estimators=10, max_depth=6, learning_rate=1, objective='binary:logistic'))\n",
    "])\n",
    "\n",
    "pipe.fit(X_train, y_train).score(X_test, y_test)\n",
    "\n",
    "results=pd.DataFrame()\n",
    "results['columns']=X_train.columns\n",
    "results['importances'] = pipe[\"clf\"].feature_importances_\n",
    "results.sort_values(by='importances',ascending=False,inplace=True)\n",
    "\n",
    "results"
   ]
  }
 ],
 "metadata": {
  "kernelspec": {
   "display_name": ".venv",
   "language": "python",
   "name": "python3"
  },
  "language_info": {
   "codemirror_mode": {
    "name": "ipython",
    "version": 3
   },
   "file_extension": ".py",
   "mimetype": "text/x-python",
   "name": "python",
   "nbconvert_exporter": "python",
   "pygments_lexer": "ipython3",
   "version": "3.13.2"
  }
 },
 "nbformat": 4,
 "nbformat_minor": 2
}
