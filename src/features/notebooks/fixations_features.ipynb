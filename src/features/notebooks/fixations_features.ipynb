{
 "cells": [
  {
   "cell_type": "markdown",
   "id": "63cb759f",
   "metadata": {},
   "source": [
    "# Fixations"
   ]
  },
  {
   "cell_type": "code",
   "execution_count": 1,
   "id": "e142d605",
   "metadata": {},
   "outputs": [],
   "source": [
    "import pandas as pd\n",
    "import numpy as np"
   ]
  },
  {
   "cell_type": "code",
   "execution_count": 2,
   "id": "58fbe181",
   "metadata": {},
   "outputs": [],
   "source": [
    "import sys\n",
    "import os\n",
    "\n",
    "sys.path.append(os.path.dirname(os.path.dirname(os.path.abspath(''))))\n",
    "from config import *\n",
    "from features.feature_utils import *"
   ]
  },
  {
   "cell_type": "code",
   "execution_count": 3,
   "id": "318b39c2",
   "metadata": {},
   "outputs": [],
   "source": [
    "experiment = \"FIXATIONS\"\n",
    "participant_ids = pd.read_parquet(\n",
    "        f\"{PREPROCESSED_DIR}/{experiment}_samples.pq\", \n",
    "        columns=[\"participant_id\"]\n",
    "    )\n",
    "\n",
    "participant_ids = participant_ids[\"participant_id\"].unique()"
   ]
  },
  {
   "cell_type": "code",
   "execution_count": 4,
   "id": "a3c89bf1",
   "metadata": {},
   "outputs": [],
   "source": [
    "def get_samples_df(participant_id, experiment):\n",
    "    df_samples = pd.read_parquet(\n",
    "        f\"{PREPROCESSED_DIR}/{experiment}_samples.pq\",\n",
    "        filters=[('participant_id', '=', participant_id)]\n",
    "        )\n",
    "    return df_samples\n",
    "    \n",
    "def get_events_df(participant_id, experiment):\n",
    "    df_events = pd.read_parquet(\n",
    "        f\"{PREPROCESSED_DIR}/{experiment}_events.pq\",\n",
    "        filters=[('participant_id', '=', participant_id)]\n",
    "        )\n",
    "    \n",
    "    return df_events"
   ]
  },
  {
   "cell_type": "code",
   "execution_count": 6,
   "id": "7a0b6b38",
   "metadata": {},
   "outputs": [],
   "source": [
    "participant_id = participant_ids[0]\n",
    "\n",
    "df_sample = get_samples_df(participant_id, experiment)\n",
    "df_event = get_events_df(participant_id, experiment)\n",
    "df_combined = combine_samples_events(df_sample, df_event, experiment)"
   ]
  },
  {
   "cell_type": "code",
   "execution_count": 7,
   "id": "da801211",
   "metadata": {},
   "outputs": [
    {
     "data": {
      "application/vnd.microsoft.datawrangler.viewer.v0+json": {
       "columns": [
        {
         "name": "index",
         "rawType": "int64",
         "type": "integer"
        },
        {
         "name": "experiment",
         "rawType": "object",
         "type": "string"
        },
        {
         "name": "participant_id",
         "rawType": "int64",
         "type": "integer"
        },
        {
         "name": "distance_to_fixpoint_mean",
         "rawType": "object",
         "type": "unknown"
        },
        {
         "name": "distance_to_fixpoint_min",
         "rawType": "object",
         "type": "unknown"
        },
        {
         "name": "distance_to_fixpoint_max",
         "rawType": "object",
         "type": "unknown"
        },
        {
         "name": "distance_to_fixpoint_median",
         "rawType": "object",
         "type": "unknown"
        },
        {
         "name": "distance_to_fixpoint_std",
         "rawType": "float64",
         "type": "float"
        },
        {
         "name": "distance_to_fixpoint_x_mean",
         "rawType": "object",
         "type": "unknown"
        },
        {
         "name": "distance_to_fixpoint_x_min",
         "rawType": "object",
         "type": "unknown"
        },
        {
         "name": "distance_to_fixpoint_x_max",
         "rawType": "object",
         "type": "unknown"
        },
        {
         "name": "distance_to_fixpoint_x_median",
         "rawType": "object",
         "type": "unknown"
        },
        {
         "name": "distance_to_fixpoint_x_std",
         "rawType": "float64",
         "type": "float"
        },
        {
         "name": "distance_to_fixpoint_y_mean",
         "rawType": "object",
         "type": "unknown"
        },
        {
         "name": "distance_to_fixpoint_y_min",
         "rawType": "object",
         "type": "unknown"
        },
        {
         "name": "distance_to_fixpoint_y_max",
         "rawType": "object",
         "type": "unknown"
        },
        {
         "name": "distance_to_fixpoint_y_median",
         "rawType": "object",
         "type": "unknown"
        },
        {
         "name": "distance_to_fixpoint_y_std",
         "rawType": "float64",
         "type": "float"
        }
       ],
       "conversionMethod": "pd.DataFrame",
       "ref": "1e7f67ad-6aea-45f7-ad48-5e65cacb3b48",
       "rows": [
        [
         "0",
         "FIXATIONS",
         "106",
         "56.3245573614788",
         "6.363988308230054",
         "132.12826080180372",
         "45.086285328210806",
         "31.727089532288264",
         "1388.2524630916896",
         "0.020000000000009094",
         "7893.860000000016",
         "1452.5249999999987",
         "1146.094091428235",
         "2823.0424786494673",
         "0.010000000000004547",
         "13844.944999999996",
         "842.8499999999999",
         "3814.6968386694994"
        ]
       ],
       "shape": {
        "columns": 17,
        "rows": 1
       }
      },
      "text/html": [
       "<div>\n",
       "<style scoped>\n",
       "    .dataframe tbody tr th:only-of-type {\n",
       "        vertical-align: middle;\n",
       "    }\n",
       "\n",
       "    .dataframe tbody tr th {\n",
       "        vertical-align: top;\n",
       "    }\n",
       "\n",
       "    .dataframe thead th {\n",
       "        text-align: right;\n",
       "    }\n",
       "</style>\n",
       "<table border=\"1\" class=\"dataframe\">\n",
       "  <thead>\n",
       "    <tr style=\"text-align: right;\">\n",
       "      <th></th>\n",
       "      <th>experiment</th>\n",
       "      <th>participant_id</th>\n",
       "      <th>distance_to_fixpoint_mean</th>\n",
       "      <th>distance_to_fixpoint_min</th>\n",
       "      <th>distance_to_fixpoint_max</th>\n",
       "      <th>distance_to_fixpoint_median</th>\n",
       "      <th>distance_to_fixpoint_std</th>\n",
       "      <th>distance_to_fixpoint_x_mean</th>\n",
       "      <th>distance_to_fixpoint_x_min</th>\n",
       "      <th>distance_to_fixpoint_x_max</th>\n",
       "      <th>distance_to_fixpoint_x_median</th>\n",
       "      <th>distance_to_fixpoint_x_std</th>\n",
       "      <th>distance_to_fixpoint_y_mean</th>\n",
       "      <th>distance_to_fixpoint_y_min</th>\n",
       "      <th>distance_to_fixpoint_y_max</th>\n",
       "      <th>distance_to_fixpoint_y_median</th>\n",
       "      <th>distance_to_fixpoint_y_std</th>\n",
       "    </tr>\n",
       "  </thead>\n",
       "  <tbody>\n",
       "    <tr>\n",
       "      <th>0</th>\n",
       "      <td>FIXATIONS</td>\n",
       "      <td>106</td>\n",
       "      <td>56.324557</td>\n",
       "      <td>6.363988</td>\n",
       "      <td>132.128261</td>\n",
       "      <td>45.086285</td>\n",
       "      <td>31.72709</td>\n",
       "      <td>1388.252463</td>\n",
       "      <td>0.02</td>\n",
       "      <td>7893.86</td>\n",
       "      <td>1452.525</td>\n",
       "      <td>1146.094091</td>\n",
       "      <td>2823.042479</td>\n",
       "      <td>0.01</td>\n",
       "      <td>13844.945</td>\n",
       "      <td>842.85</td>\n",
       "      <td>3814.696839</td>\n",
       "    </tr>\n",
       "  </tbody>\n",
       "</table>\n",
       "</div>"
      ],
      "text/plain": [
       "  experiment  participant_id distance_to_fixpoint_mean  \\\n",
       "0  FIXATIONS             106                 56.324557   \n",
       "\n",
       "  distance_to_fixpoint_min distance_to_fixpoint_max  \\\n",
       "0                 6.363988               132.128261   \n",
       "\n",
       "  distance_to_fixpoint_median  distance_to_fixpoint_std  \\\n",
       "0                   45.086285                  31.72709   \n",
       "\n",
       "  distance_to_fixpoint_x_mean distance_to_fixpoint_x_min  \\\n",
       "0                 1388.252463                       0.02   \n",
       "\n",
       "  distance_to_fixpoint_x_max distance_to_fixpoint_x_median  \\\n",
       "0                    7893.86                      1452.525   \n",
       "\n",
       "   distance_to_fixpoint_x_std distance_to_fixpoint_y_mean  \\\n",
       "0                 1146.094091                 2823.042479   \n",
       "\n",
       "  distance_to_fixpoint_y_min distance_to_fixpoint_y_max  \\\n",
       "0                       0.01                  13844.945   \n",
       "\n",
       "  distance_to_fixpoint_y_median  distance_to_fixpoint_y_std  \n",
       "0                        842.85                 3814.696839  "
      ]
     },
     "execution_count": 7,
     "metadata": {},
     "output_type": "execute_result"
    }
   ],
   "source": [
    "get_distance_to_stimulus_features(df_combined)"
   ]
  },
  {
   "cell_type": "code",
   "execution_count": null,
   "id": "e54dbc38",
   "metadata": {},
   "outputs": [
    {
     "data": {
      "text/plain": [
       "<pandas.core.groupby.generic.SeriesGroupBy object at 0x7f7afc512db0>"
      ]
     },
     "execution_count": 13,
     "metadata": {},
     "output_type": "execute_result"
    }
   ],
   "source": [
    "(\n",
    "    df_event.sort_values(by=[\"participant_id\", \"trial_id\", \"time\"])\n",
    "        .groupby([\"participant_id\", \"trial_id\"])[\"time\"]\n",
    "        .transform(lambda group: (\n",
    "            group.iloc[-1]\n",
    "        ))\n",
    ")"
   ]
  },
  {
   "cell_type": "code",
   "execution_count": 25,
   "id": "91db5efc",
   "metadata": {},
   "outputs": [
    {
     "data": {
      "application/vnd.microsoft.datawrangler.viewer.v0+json": {
       "columns": [
        {
         "name": "index",
         "rawType": "int64",
         "type": "integer"
        },
        {
         "name": "experiment",
         "rawType": "string",
         "type": "string"
        },
        {
         "name": "participant_id",
         "rawType": "int64",
         "type": "integer"
        },
        {
         "name": "saccades_per_second_mean",
         "rawType": "float64",
         "type": "float"
        },
        {
         "name": "saccades_per_second_min",
         "rawType": "float64",
         "type": "float"
        },
        {
         "name": "saccades_per_second_max",
         "rawType": "float64",
         "type": "float"
        },
        {
         "name": "saccades_per_second_median",
         "rawType": "float64",
         "type": "float"
        },
        {
         "name": "saccades_per_second_std",
         "rawType": "float64",
         "type": "float"
        }
       ],
       "conversionMethod": "pd.DataFrame",
       "ref": "abde903a-c899-42c7-a7d1-4241f6e7c46b",
       "rows": [
        [
         "0",
         "FIXATIONS",
         "106",
         "0.3227271187393703",
         "0.19860973187686196",
         "0.5957897524162585",
         "0.24825449533218044",
         "0.18403716785802882"
        ]
       ],
       "shape": {
        "columns": 7,
        "rows": 1
       }
      },
      "text/html": [
       "<div>\n",
       "<style scoped>\n",
       "    .dataframe tbody tr th:only-of-type {\n",
       "        vertical-align: middle;\n",
       "    }\n",
       "\n",
       "    .dataframe tbody tr th {\n",
       "        vertical-align: top;\n",
       "    }\n",
       "\n",
       "    .dataframe thead th {\n",
       "        text-align: right;\n",
       "    }\n",
       "</style>\n",
       "<table border=\"1\" class=\"dataframe\">\n",
       "  <thead>\n",
       "    <tr style=\"text-align: right;\">\n",
       "      <th></th>\n",
       "      <th>experiment</th>\n",
       "      <th>participant_id</th>\n",
       "      <th>saccades_per_second_mean</th>\n",
       "      <th>saccades_per_second_min</th>\n",
       "      <th>saccades_per_second_max</th>\n",
       "      <th>saccades_per_second_median</th>\n",
       "      <th>saccades_per_second_std</th>\n",
       "    </tr>\n",
       "  </thead>\n",
       "  <tbody>\n",
       "    <tr>\n",
       "      <th>0</th>\n",
       "      <td>FIXATIONS</td>\n",
       "      <td>106</td>\n",
       "      <td>0.322727</td>\n",
       "      <td>0.19861</td>\n",
       "      <td>0.59579</td>\n",
       "      <td>0.248254</td>\n",
       "      <td>0.184037</td>\n",
       "    </tr>\n",
       "  </tbody>\n",
       "</table>\n",
       "</div>"
      ],
      "text/plain": [
       "  experiment  participant_id  saccades_per_second_mean  \\\n",
       "0  FIXATIONS             106                  0.322727   \n",
       "\n",
       "   saccades_per_second_min  saccades_per_second_max  \\\n",
       "0                  0.19861                  0.59579   \n",
       "\n",
       "   saccades_per_second_median  saccades_per_second_std  \n",
       "0                    0.248254                 0.184037  "
      ]
     },
     "execution_count": 25,
     "metadata": {},
     "output_type": "execute_result"
    }
   ],
   "source": [
    "(df_event.query(\"stimulus_active == True\")\n",
    "    .sort_values(by=[\"participant_id\", \"trial_id\",\"time\"])\n",
    "    .assign(stimulus_time = lambda x: np.select([x.event == \"FIXPOINT\", x.event != \"FIXPOINT\"], [x.time, None]))\n",
    "    .assign(stimulus_time = lambda x: x[\"stimulus_time\"].ffill())\n",
    "    .assign(max_event_time = lambda x: (\n",
    "            x.sort_values(by=[\"participant_id\", \"trial_id\", \"time\"])\n",
    "            .groupby([\"participant_id\", \"trial_id\"])[\"time\"]\n",
    "            .transform(lambda group: (\n",
    "                group.iloc[-1]\n",
    "            ))\n",
    "        ))\n",
    "    .assign(trial_active_duration_seconds = lambda x: (x[\"max_event_time\"] - x[\"stimulus_time\"])/1000)\n",
    "    .query(\"event == 'ESACC'\")\n",
    "    .groupby([\"experiment\", \"participant_id\", \"trial_id\", \"eye\", \"trial_active_duration_seconds\"])\n",
    "    .size()\n",
    "    .reset_index(name=\"n_saccades\")\n",
    "    .assign(\n",
    "        saccades_per_second_raw = lambda x: x[\"n_saccades\"] / x[\"trial_active_duration_seconds\"]\n",
    "    )\n",
    "    .groupby([\"experiment\", \"participant_id\", \"trial_id\"])\n",
    "    .agg(\n",
    "        total_saccades_per_second = (\"saccades_per_second_raw\", \"sum\"),\n",
    "        n_eyes = (\"eye\", \"nunique\")\n",
    "    )\n",
    "    .reset_index()\n",
    "    .assign(\n",
    "        saccades_per_second = lambda x: x[\"total_saccades_per_second\"] / x[\"n_eyes\"]\n",
    "    )\n",
    "    .groupby([\"experiment\", \"participant_id\"])\n",
    "    .agg({\n",
    "        'saccades_per_second': [np.mean, np.min, np.max, np.median, np.std],\n",
    "    })\n",
    "    \n",
    "    .reset_index()\n",
    "    .pipe(rename_columns)\n",
    ")"
   ]
  },
  {
   "cell_type": "code",
   "execution_count": null,
   "id": "775f30da",
   "metadata": {},
   "outputs": [],
   "source": []
  }
 ],
 "metadata": {
  "kernelspec": {
   "display_name": ".venv",
   "language": "python",
   "name": "python3"
  },
  "language_info": {
   "codemirror_mode": {
    "name": "ipython",
    "version": 3
   },
   "file_extension": ".py",
   "mimetype": "text/x-python",
   "name": "python",
   "nbconvert_exporter": "python",
   "pygments_lexer": "ipython3",
   "version": "3.12.3"
  }
 },
 "nbformat": 4,
 "nbformat_minor": 5
}
