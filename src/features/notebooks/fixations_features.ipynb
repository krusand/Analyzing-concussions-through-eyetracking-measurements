{
 "cells": [
  {
   "cell_type": "markdown",
   "id": "63cb759f",
   "metadata": {},
   "source": [
    "# Fixations"
   ]
  },
  {
   "cell_type": "code",
   "execution_count": 1,
   "id": "e142d605",
   "metadata": {},
   "outputs": [],
   "source": [
    "import pandas as pd\n",
    "import numpy as np"
   ]
  },
  {
   "cell_type": "code",
   "execution_count": 2,
   "id": "58fbe181",
   "metadata": {},
   "outputs": [],
   "source": [
    "import sys\n",
    "import os\n",
    "\n",
    "sys.path.append(os.path.dirname(os.path.dirname(os.path.abspath(''))))\n",
    "from config import *\n",
    "from features.feature_utils import *"
   ]
  },
  {
   "cell_type": "code",
   "execution_count": 7,
   "id": "318b39c2",
   "metadata": {},
   "outputs": [],
   "source": [
    "experiment = \"FIXATIONS\"\n",
    "participant_ids = pd.read_parquet(\n",
    "        f\"{PREPROCESSED_DIR}/{experiment}_samples.pq\", \n",
    "        columns=[\"participant_id\"]\n",
    "    )\n",
    "\n",
    "participant_ids = participant_ids[\"participant_id\"].unique()"
   ]
  },
  {
   "cell_type": "code",
   "execution_count": 8,
   "id": "a3c89bf1",
   "metadata": {},
   "outputs": [],
   "source": [
    "def get_samples_df(participant_id, experiment):\n",
    "    df_samples = pd.read_parquet(\n",
    "        f\"{PREPROCESSED_DIR}/{experiment}_samples.pq\",\n",
    "        filters=[('participant_id', '=', participant_id)]\n",
    "        )\n",
    "    return df_samples\n",
    "    \n",
    "def get_events_df(participant_id, experiment):\n",
    "    df_events = pd.read_parquet(\n",
    "        f\"{PREPROCESSED_DIR}/{experiment}_events.pq\",\n",
    "        filters=[('participant_id', '=', participant_id)]\n",
    "        )\n",
    "    \n",
    "    return df_events"
   ]
  },
  {
   "cell_type": "code",
   "execution_count": 9,
   "id": "7a0b6b38",
   "metadata": {},
   "outputs": [],
   "source": [
    "participant_id = participant_ids[0]\n",
    "\n",
    "df_samples = get_samples_df(participant_id, experiment)\n",
    "df_events = get_events_df(participant_id, experiment)\n",
    "df_combined = combine_samples_events(df_samples, df_events, experiment)"
   ]
  },
  {
   "cell_type": "code",
   "execution_count": 10,
   "id": "da801211",
   "metadata": {},
   "outputs": [
    {
     "data": {
      "application/vnd.microsoft.datawrangler.viewer.v0+json": {
       "columns": [
        {
         "name": "index",
         "rawType": "int64",
         "type": "integer"
        },
        {
         "name": "experiment",
         "rawType": "object",
         "type": "string"
        },
        {
         "name": "participant_id",
         "rawType": "int64",
         "type": "integer"
        },
        {
         "name": "distance_to_fixpoint_mean",
         "rawType": "float64",
         "type": "float"
        },
        {
         "name": "distance_to_fixpoint_min",
         "rawType": "float64",
         "type": "float"
        },
        {
         "name": "distance_to_fixpoint_max",
         "rawType": "float64",
         "type": "float"
        },
        {
         "name": "distance_to_fixpoint_median",
         "rawType": "float64",
         "type": "float"
        },
        {
         "name": "distance_to_fixpoint_std",
         "rawType": "float64",
         "type": "float"
        }
       ],
       "conversionMethod": "pd.DataFrame",
       "ref": "113468a8-6b53-4546-9299-be5ad149159a",
       "rows": [
        [
         "0",
         "FIXATIONS",
         "106",
         "56.32455736147941",
         "6.363988308230054",
         "132.12826080180372",
         "45.086285328210806",
         "31.727089532288264"
        ]
       ],
       "shape": {
        "columns": 7,
        "rows": 1
       }
      },
      "text/html": [
       "<div>\n",
       "<style scoped>\n",
       "    .dataframe tbody tr th:only-of-type {\n",
       "        vertical-align: middle;\n",
       "    }\n",
       "\n",
       "    .dataframe tbody tr th {\n",
       "        vertical-align: top;\n",
       "    }\n",
       "\n",
       "    .dataframe thead th {\n",
       "        text-align: right;\n",
       "    }\n",
       "</style>\n",
       "<table border=\"1\" class=\"dataframe\">\n",
       "  <thead>\n",
       "    <tr style=\"text-align: right;\">\n",
       "      <th></th>\n",
       "      <th>experiment</th>\n",
       "      <th>participant_id</th>\n",
       "      <th>distance_to_fixpoint_mean</th>\n",
       "      <th>distance_to_fixpoint_min</th>\n",
       "      <th>distance_to_fixpoint_max</th>\n",
       "      <th>distance_to_fixpoint_median</th>\n",
       "      <th>distance_to_fixpoint_std</th>\n",
       "    </tr>\n",
       "  </thead>\n",
       "  <tbody>\n",
       "    <tr>\n",
       "      <th>0</th>\n",
       "      <td>FIXATIONS</td>\n",
       "      <td>106</td>\n",
       "      <td>56.324557</td>\n",
       "      <td>6.363988</td>\n",
       "      <td>132.128261</td>\n",
       "      <td>45.086285</td>\n",
       "      <td>31.72709</td>\n",
       "    </tr>\n",
       "  </tbody>\n",
       "</table>\n",
       "</div>"
      ],
      "text/plain": [
       "  experiment  participant_id  distance_to_fixpoint_mean  \\\n",
       "0  FIXATIONS             106                  56.324557   \n",
       "\n",
       "   distance_to_fixpoint_min  distance_to_fixpoint_max  \\\n",
       "0                  6.363988                132.128261   \n",
       "\n",
       "   distance_to_fixpoint_median  distance_to_fixpoint_std  \n",
       "0                    45.086285                  31.72709  "
      ]
     },
     "execution_count": 10,
     "metadata": {},
     "output_type": "execute_result"
    }
   ],
   "source": [
    "get_distance_to_stimulus_features(df_combined)"
   ]
  },
  {
   "cell_type": "code",
   "execution_count": null,
   "id": "91db5efc",
   "metadata": {},
   "outputs": [],
   "source": []
  }
 ],
 "metadata": {
  "kernelspec": {
   "display_name": ".venv",
   "language": "python",
   "name": "python3"
  },
  "language_info": {
   "codemirror_mode": {
    "name": "ipython",
    "version": 3
   },
   "file_extension": ".py",
   "mimetype": "text/x-python",
   "name": "python",
   "nbconvert_exporter": "python",
   "pygments_lexer": "ipython3",
   "version": "3.12.3"
  }
 },
 "nbformat": 4,
 "nbformat_minor": 5
}
