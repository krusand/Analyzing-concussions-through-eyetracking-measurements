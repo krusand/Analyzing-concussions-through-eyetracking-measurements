{
 "cells": [
  {
   "cell_type": "code",
   "execution_count": 2,
   "metadata": {},
   "outputs": [],
   "source": [
    "import os\n",
    "import sys\n",
    "sys.path.append(os.path.dirname(os.path.dirname(os.path.abspath(''))))\n",
    "from config import *\n",
    "\n",
    "import warnings\n",
    "warnings.simplefilter(action='ignore', category=FutureWarning)\n",
    "import pandas as pd\n",
    "import numpy as np\n",
    "from functools import reduce\n",
    "from tqdm import tqdm\n",
    "\n",
    "experiment = \"KING_DEVICK\"\n",
    "\n",
    "df_event = pd.read_parquet(PREPROCESSED_DIR / f\"{experiment}_events.pq\").reset_index(drop=True)\n",
    "df_sample = (pd.read_parquet(PREPROCESSED_DIR / f'{experiment}_samples.pq')\n",
    " .sort_values([\"experiment\", \"participant_id\", \"trial_id\",\"time\"])\n",
    ")\n",
    "\n",
    "def rename_columns(df):\n",
    "    \"\"\"Renames columns by joining multi-level column names with different delimiters.\"\"\"\n",
    "    # Iterate over all column names\n",
    "    df.columns = [f\"{col[0]}\" if col[1] == '' else f\"{col[0]}_{col[1]}\" for col in df.columns.values]\n",
    "    return df\n",
    "\n",
    "\n",
    "\n",
    "def load_demographic_info() -> pd.DataFrame:\n",
    "    logging.info(\"Loading demographics\")\n",
    "    demographics = pd.read_excel(DATA_DIR / \"demographic_info.xlsx\")[[\"ID\", \"Group\"]]\n",
    "\n",
    "    demographics[\"y\"] = (demographics[\"Group\"] == \"PATIENT\").astype(int)\n",
    "    demographics[\"participant_id\"] = demographics[\"ID\"].astype(int)\n",
    "    demographics = demographics[[\"participant_id\", \"y\"]]\n",
    "    return demographics\n",
    "\n",
    "\n",
    "def join_demographic_info_on_features(feature_df: pd.DataFrame) -> pd.DataFrame:\n",
    "    logging.info(\"Joining demographics on features\")\n",
    "    demographics = load_demographic_info()\n",
    "    return pd.merge(feature_df, demographics, how='left', on='participant_id')\n",
    "    \n",
    "    \n",
    "    \n"
   ]
  },
  {
   "cell_type": "markdown",
   "metadata": {},
   "source": [
    "# Event"
   ]
  },
  {
   "cell_type": "code",
   "execution_count": 3,
   "metadata": {},
   "outputs": [],
   "source": [
    "def get_avg_mistakes_pr_trial(df: pd.DataFrame) -> pd.DataFrame:\n",
    "    df = (df\n",
    "          .query(\"event == 'TRIAL_VAR_DATA'\")\n",
    "          .groupby([\"experiment\", \"participant_id\"])\n",
    "          .agg(avg_mistakes_pr_trial = ('marks', 'mean'))\n",
    "          .reset_index()\n",
    "    )\n",
    "    return df\n",
    "    \n",
    "def get_avg_time_elapsed_pr_trial(df: pd.DataFrame) -> pd.DataFrame:\n",
    "    df = (df\n",
    "          .query(\"event == 'TRIAL_VAR_DATA'\")\n",
    "          .groupby([\"experiment\", \"participant_id\"])\n",
    "          .agg(avg_time_elapsed_pr_trial = ('time_elapsed', 'mean'))\n",
    "          .reset_index()\n",
    "    )\n",
    "    return df\n",
    "\n",
    "\n",
    "\n",
    "def get_pre_calculated_metrics_feature(df: pd.DataFrame) -> pd.DataFrame:\n",
    "    \"\"\"\n",
    "    Returns pd.Dataframe with columns ['experiment','participant_id', X_FEATURES],\n",
    "    where X_FEATURES is a collection of features found by the following cartesian product:\n",
    "    {'peak_velocity', 'amplitude', 'duration', 'avg_pupil_size'} x {np.mean, np.min, np.max, np.median, np.std}\n",
    "    \"\"\"\n",
    "    features_df = (df.groupby([\"experiment\", \"participant_id\"])\n",
    "    .agg(\n",
    "        mean_peak_velocity_sacc = ('peak_velocity', lambda x: x[df.loc[x.index, 'event'] == 'ESACC'].mean()),\n",
    "        mean_amplitude_sacc = ('amplitude', lambda x: x[df.loc[x.index, 'event'] == 'ESACC'].mean()),\n",
    "        mean_duration_sacc = ('duration', lambda x: x[df.loc[x.index, 'event'] == 'ESACC'].mean()),\n",
    "        mean_duration_fix = ('duration', lambda x: x[df.loc[x.index, 'event'] == 'EFIX'].mean()),\n",
    "        mean_pupil_size_fix = ('avg_pupil_size', lambda x: x[df.loc[x.index, 'event'] == 'EFIX'].mean()),\n",
    "    )\n",
    "    .reset_index()\n",
    "    )    \n",
    "    return features_df\n",
    "\n"
   ]
  },
  {
   "cell_type": "code",
   "execution_count": 12,
   "metadata": {},
   "outputs": [],
   "source": [
    "\n",
    "def king_devick_get_saccades_pr_second(df: pd.DataFrame) -> pd.DataFrame:\n",
    "    logging.info(\"Adding saccades pr. second\")\n",
    "    df = (df\n",
    "        .query(\"(eye == 'R') or (eye.isnull())\") # right eye or is na\n",
    "        .sort_values(by=[\"participant_id\", \"trial_id\",\"time\"])\n",
    "        .assign(trial_active_duration_seconds = lambda x: (\n",
    "                x.sort_values(by=[\"participant_id\", \"trial_id\", \"time\"])\n",
    "                .groupby([\"participant_id\", \"trial_id\"])[\"time_elapsed\"]\n",
    "                .transform(lambda group: (\n",
    "                    group.iloc[0]\n",
    "                ))\n",
    "            ))\n",
    "        .query(\"event == 'ESACC'\")\n",
    "        .query(\"time/1000 < time_elapsed\")\n",
    "        .groupby([\"experiment\", \"participant_id\", \"trial_id\", \"trial_active_duration_seconds\"])\n",
    "        .size()\n",
    "        .reset_index(name=\"n_saccades\")\n",
    "        .assign(fixations_per_second=lambda x: x[\"n_saccades\"] / x[\"trial_active_duration_seconds\"])\n",
    "        .groupby([\"experiment\", \"participant_id\"])\n",
    "        .agg(avg_saccades_pr_second = ('fixations_per_second', 'mean'),\n",
    "             std_saccades_pr_second = ('fixations_per_second', 'std'),\n",
    "             median_saccades_pr_second = ('fixations_per_second', 'median'))\n",
    "        .reset_index()\n",
    "    )\n",
    "    return df"
   ]
  },
  {
   "cell_type": "code",
   "execution_count": 13,
   "metadata": {},
   "outputs": [
    {
     "name": "stderr",
     "output_type": "stream",
     "text": [
      "2025-04-25 14:24:15,057 - INFO - 4059904122.king_devick_get_saccades_pr_second:2 - Adding saccades pr. second\n"
     ]
    },
    {
     "data": {
      "application/vnd.microsoft.datawrangler.viewer.v0+json": {
       "columns": [
        {
         "name": "index",
         "rawType": "int64",
         "type": "integer"
        },
        {
         "name": "experiment",
         "rawType": "string",
         "type": "string"
        },
        {
         "name": "participant_id",
         "rawType": "int64",
         "type": "integer"
        },
        {
         "name": "avg_saccades_pr_second",
         "rawType": "float64",
         "type": "float"
        },
        {
         "name": "std_saccades_pr_second",
         "rawType": "float64",
         "type": "float"
        },
        {
         "name": "median_saccades_pr_second",
         "rawType": "float64",
         "type": "float"
        }
       ],
       "conversionMethod": "pd.DataFrame",
       "ref": "dd6d56f8-c816-4ae3-b8ed-383e72a95985",
       "rows": [
        [
         "0",
         "KING_DEVICK",
         "106",
         "4.110521813584213",
         "0.322162943828574",
         "4.096404339910797"
        ],
        [
         "1",
         "KING_DEVICK",
         "111",
         "4.292544213961007",
         "0.39565679441078105",
         "4.082302846287662"
        ],
        [
         "2",
         "KING_DEVICK",
         "113",
         "4.107786002026827",
         "0.19289388640274593",
         "4.03172202695923"
        ],
        [
         "3",
         "KING_DEVICK",
         "121",
         "1.96984606778239",
         "0.30445214211140276",
         "2.038869456689117"
        ],
        [
         "4",
         "KING_DEVICK",
         "122",
         "2.493221410241293",
         "0.9418965814394233",
         "2.979966705076855"
        ],
        [
         "5",
         "KING_DEVICK",
         "133",
         "3.1181781858504602",
         "0.055011634685302103",
         "3.1468496968792743"
        ],
        [
         "6",
         "KING_DEVICK",
         "134",
         "4.128065190632134",
         "0.22718287270708679",
         "4.078386612645707"
        ],
        [
         "7",
         "KING_DEVICK",
         "135",
         "3.3534111696854407",
         "0.2348118648175357",
         "3.3732357486500826"
        ],
        [
         "8",
         "KING_DEVICK",
         "137",
         "3.214290334167163",
         "0.6315061024153616",
         "3.370576821463848"
        ],
        [
         "9",
         "KING_DEVICK",
         "138",
         "4.8970326970395135",
         "0.5178982062619812",
         "4.770974627702044"
        ],
        [
         "10",
         "KING_DEVICK",
         "142",
         "3.1257217679310205",
         "0.23249032733431263",
         "3.1454708152544906"
        ],
        [
         "11",
         "KING_DEVICK",
         "143",
         "3.22829762630039",
         "0.18527556977211448",
         "3.1223026368862548"
        ],
        [
         "12",
         "KING_DEVICK",
         "144",
         "3.7902739591451584",
         "0.11130684772213836",
         "3.7876531199830907"
        ],
        [
         "13",
         "KING_DEVICK",
         "146",
         "3.0632846885085514",
         "0.33663537055116777",
         "3.1090695823682126"
        ],
        [
         "14",
         "KING_DEVICK",
         "149",
         "3.29810289692618",
         "0.2196042633302785",
         "3.1935041040332313"
        ],
        [
         "15",
         "KING_DEVICK",
         "150",
         "3.5190706139763965",
         "0.26862066422824754",
         "3.4644772749915647"
        ],
        [
         "16",
         "KING_DEVICK",
         "151",
         "3.2763307706065574",
         "0.33064915955671587",
         "3.089722375294562"
        ],
        [
         "17",
         "KING_DEVICK",
         "152",
         "3.2821230458110215",
         "0.13779127986913725",
         "3.2581643701930343"
        ],
        [
         "18",
         "KING_DEVICK",
         "153",
         "2.923760238150537",
         "0.3035643075848558",
         "2.967933633703028"
        ],
        [
         "19",
         "KING_DEVICK",
         "156",
         "3.0564642097307457",
         "0.014176354791147542",
         "3.0564642097307457"
        ],
        [
         "20",
         "KING_DEVICK",
         "157",
         "3.359500280599679",
         "0.1906827972270045",
         "3.3498088215621333"
        ],
        [
         "21",
         "KING_DEVICK",
         "166",
         "3.830874331852416",
         "0.1891426325490651",
         "3.886513083762373"
        ],
        [
         "22",
         "KING_DEVICK",
         "169",
         "2.6532140502807557",
         "0.1400500252047959",
         "2.7087899916145814"
        ],
        [
         "23",
         "KING_DEVICK",
         "171",
         "3.4195512136593247",
         "0.41628928860769765",
         "3.439038569343815"
        ],
        [
         "24",
         "KING_DEVICK",
         "173",
         "3.884417100483713",
         "0.4722126612636982",
         "3.691226440783424"
        ],
        [
         "25",
         "KING_DEVICK",
         "180",
         "3.664320819319967",
         "0.11935405632648347",
         "3.6719531260625153"
        ],
        [
         "26",
         "KING_DEVICK",
         "182",
         "3.665525192104075",
         "0.09334018475921073",
         "3.683738945447025"
        ],
        [
         "27",
         "KING_DEVICK",
         "184",
         "3.5543146707149673",
         "0.2608600091335394",
         "3.6065845128655973"
        ],
        [
         "28",
         "KING_DEVICK",
         "185",
         "2.583109287580601",
         "0.20618034306977634",
         "2.6287270414415698"
        ],
        [
         "29",
         "KING_DEVICK",
         "187",
         "5.210781042356719",
         "0.6881650633975496",
         "5.166190204924721"
        ],
        [
         "30",
         "KING_DEVICK",
         "188",
         "4.168326657359662",
         "0.21677225757788862",
         "4.267098476306584"
        ],
        [
         "31",
         "KING_DEVICK",
         "190",
         "3.93685970815292",
         "0.15560611515937328",
         "3.937208048023426"
        ],
        [
         "32",
         "KING_DEVICK",
         "195",
         "3.558664813796211",
         "0.21568312647648405",
         "3.507743080747547"
        ],
        [
         "33",
         "KING_DEVICK",
         "196",
         "3.2237666223247525",
         "0.2801589109183446",
         "3.1542344069393713"
        ],
        [
         "34",
         "KING_DEVICK",
         "197",
         "3.3811196956746996",
         "0.2628060186272185",
         "3.510664710256402"
        ],
        [
         "35",
         "KING_DEVICK",
         "198",
         "3.960271960098183",
         "0.16106939640300713",
         "3.9835101620180686"
        ],
        [
         "36",
         "KING_DEVICK",
         "199",
         "3.949467153634695",
         "0.09314538530527643",
         "3.9709687212503035"
        ],
        [
         "37",
         "KING_DEVICK",
         "200",
         "3.3740790986318814",
         "0.2275716959924752",
         "3.3925836059571766"
        ],
        [
         "38",
         "KING_DEVICK",
         "204",
         "3.548188178142254",
         "0.215385887546963",
         "3.6662230631022794"
        ],
        [
         "39",
         "KING_DEVICK",
         "206",
         "3.8915339843798904",
         "0.15724930390020447",
         "3.9308371569232268"
        ],
        [
         "40",
         "KING_DEVICK",
         "207",
         "3.942803389098915",
         "0.2580732930800129",
         "3.8022433554439035"
        ],
        [
         "41",
         "KING_DEVICK",
         "209",
         "3.1823085425947775",
         "0.11824836705257741",
         "3.2218938537057955"
        ],
        [
         "42",
         "KING_DEVICK",
         "210",
         "4.719529043274541",
         "0.38278297366149977",
         "4.5523368183593265"
        ],
        [
         "43",
         "KING_DEVICK",
         "214",
         "3.619348884240629",
         "0.14527034621685678",
         "3.577699708808378"
        ],
        [
         "44",
         "KING_DEVICK",
         "215",
         "3.630265886079045",
         "0.2914958886719604",
         "3.797812386816371"
        ],
        [
         "45",
         "KING_DEVICK",
         "217",
         "3.0336311480286096",
         "0.4760838576139305",
         "3.1391662490118226"
        ],
        [
         "46",
         "KING_DEVICK",
         "218",
         "2.795868529180941",
         "0.06104062701954905",
         "2.830687579642346"
        ],
        [
         "47",
         "KING_DEVICK",
         "219",
         "3.6776932074962825",
         "0.4365140861405582",
         "3.621199863380758"
        ],
        [
         "48",
         "KING_DEVICK",
         "220",
         "3.6863735083273768",
         "0.255368633783307",
         "3.6191629370638214"
        ],
        [
         "49",
         "KING_DEVICK",
         "221",
         "3.8008063051744703",
         "0.17291378197585894",
         "3.7491201176853415"
        ]
       ],
       "shape": {
        "columns": 5,
        "rows": 167
       }
      },
      "text/html": [
       "<div>\n",
       "<style scoped>\n",
       "    .dataframe tbody tr th:only-of-type {\n",
       "        vertical-align: middle;\n",
       "    }\n",
       "\n",
       "    .dataframe tbody tr th {\n",
       "        vertical-align: top;\n",
       "    }\n",
       "\n",
       "    .dataframe thead th {\n",
       "        text-align: right;\n",
       "    }\n",
       "</style>\n",
       "<table border=\"1\" class=\"dataframe\">\n",
       "  <thead>\n",
       "    <tr style=\"text-align: right;\">\n",
       "      <th></th>\n",
       "      <th>experiment</th>\n",
       "      <th>participant_id</th>\n",
       "      <th>avg_saccades_pr_second</th>\n",
       "      <th>std_saccades_pr_second</th>\n",
       "      <th>median_saccades_pr_second</th>\n",
       "    </tr>\n",
       "  </thead>\n",
       "  <tbody>\n",
       "    <tr>\n",
       "      <th>0</th>\n",
       "      <td>KING_DEVICK</td>\n",
       "      <td>106</td>\n",
       "      <td>4.110522</td>\n",
       "      <td>0.322163</td>\n",
       "      <td>4.096404</td>\n",
       "    </tr>\n",
       "    <tr>\n",
       "      <th>1</th>\n",
       "      <td>KING_DEVICK</td>\n",
       "      <td>111</td>\n",
       "      <td>4.292544</td>\n",
       "      <td>0.395657</td>\n",
       "      <td>4.082303</td>\n",
       "    </tr>\n",
       "    <tr>\n",
       "      <th>2</th>\n",
       "      <td>KING_DEVICK</td>\n",
       "      <td>113</td>\n",
       "      <td>4.107786</td>\n",
       "      <td>0.192894</td>\n",
       "      <td>4.031722</td>\n",
       "    </tr>\n",
       "    <tr>\n",
       "      <th>3</th>\n",
       "      <td>KING_DEVICK</td>\n",
       "      <td>121</td>\n",
       "      <td>1.969846</td>\n",
       "      <td>0.304452</td>\n",
       "      <td>2.038869</td>\n",
       "    </tr>\n",
       "    <tr>\n",
       "      <th>4</th>\n",
       "      <td>KING_DEVICK</td>\n",
       "      <td>122</td>\n",
       "      <td>2.493221</td>\n",
       "      <td>0.941897</td>\n",
       "      <td>2.979967</td>\n",
       "    </tr>\n",
       "    <tr>\n",
       "      <th>...</th>\n",
       "      <td>...</td>\n",
       "      <td>...</td>\n",
       "      <td>...</td>\n",
       "      <td>...</td>\n",
       "      <td>...</td>\n",
       "    </tr>\n",
       "    <tr>\n",
       "      <th>162</th>\n",
       "      <td>KING_DEVICK</td>\n",
       "      <td>399</td>\n",
       "      <td>4.096836</td>\n",
       "      <td>0.166942</td>\n",
       "      <td>4.138668</td>\n",
       "    </tr>\n",
       "    <tr>\n",
       "      <th>163</th>\n",
       "      <td>KING_DEVICK</td>\n",
       "      <td>401</td>\n",
       "      <td>3.477835</td>\n",
       "      <td>0.279947</td>\n",
       "      <td>3.402858</td>\n",
       "    </tr>\n",
       "    <tr>\n",
       "      <th>164</th>\n",
       "      <td>KING_DEVICK</td>\n",
       "      <td>402</td>\n",
       "      <td>3.337289</td>\n",
       "      <td>0.346999</td>\n",
       "      <td>3.218534</td>\n",
       "    </tr>\n",
       "    <tr>\n",
       "      <th>165</th>\n",
       "      <td>KING_DEVICK</td>\n",
       "      <td>403</td>\n",
       "      <td>4.034932</td>\n",
       "      <td>0.227259</td>\n",
       "      <td>3.952959</td>\n",
       "    </tr>\n",
       "    <tr>\n",
       "      <th>166</th>\n",
       "      <td>KING_DEVICK</td>\n",
       "      <td>404</td>\n",
       "      <td>4.175496</td>\n",
       "      <td>0.128062</td>\n",
       "      <td>4.186997</td>\n",
       "    </tr>\n",
       "  </tbody>\n",
       "</table>\n",
       "<p>167 rows × 5 columns</p>\n",
       "</div>"
      ],
      "text/plain": [
       "      experiment  participant_id  avg_saccades_pr_second  \\\n",
       "0    KING_DEVICK             106                4.110522   \n",
       "1    KING_DEVICK             111                4.292544   \n",
       "2    KING_DEVICK             113                4.107786   \n",
       "3    KING_DEVICK             121                1.969846   \n",
       "4    KING_DEVICK             122                2.493221   \n",
       "..           ...             ...                     ...   \n",
       "162  KING_DEVICK             399                4.096836   \n",
       "163  KING_DEVICK             401                3.477835   \n",
       "164  KING_DEVICK             402                3.337289   \n",
       "165  KING_DEVICK             403                4.034932   \n",
       "166  KING_DEVICK             404                4.175496   \n",
       "\n",
       "     std_saccades_pr_second  median_saccades_pr_second  \n",
       "0                  0.322163                   4.096404  \n",
       "1                  0.395657                   4.082303  \n",
       "2                  0.192894                   4.031722  \n",
       "3                  0.304452                   2.038869  \n",
       "4                  0.941897                   2.979967  \n",
       "..                      ...                        ...  \n",
       "162                0.166942                   4.138668  \n",
       "163                0.279947                   3.402858  \n",
       "164                0.346999                   3.218534  \n",
       "165                0.227259                   3.952959  \n",
       "166                0.128062                   4.186997  \n",
       "\n",
       "[167 rows x 5 columns]"
      ]
     },
     "execution_count": 13,
     "metadata": {},
     "output_type": "execute_result"
    }
   ],
   "source": [
    "king_devick_get_saccades_pr_second(df_event)"
   ]
  },
  {
   "cell_type": "code",
   "execution_count": 14,
   "metadata": {},
   "outputs": [
    {
     "name": "stderr",
     "output_type": "stream",
     "text": [
      "2025-04-25 14:24:16,256 - INFO - 4059904122.king_devick_get_saccades_pr_second:2 - Adding saccades pr. second\n",
      "2025-04-25 14:24:16,315 - INFO - 2345115736.join_demographic_info_on_features:39 - Joining demographics on features\n",
      "2025-04-25 14:24:16,315 - INFO - 2345115736.load_demographic_info:29 - Loading demographics\n"
     ]
    },
    {
     "data": {
      "text/plain": [
       "<Axes: xlabel='std_saccades_pr_second', ylabel='Density'>"
      ]
     },
     "execution_count": 14,
     "metadata": {},
     "output_type": "execute_result"
    },
    {
     "data": {
      "image/png": "[encoded data removed]",
      "text/plain": [
       "<Figure size 1200x1000 with 3 Axes>"
      ]
     },
     "metadata": {},
     "output_type": "display_data"
    }
   ],
   "source": [
    "import seaborn as sns\n",
    "import matplotlib.pyplot as plt\n",
    "data=join_demographic_info_on_features(king_devick_get_saccades_pr_second(df_event))\n",
    "\n",
    "fig, ax = plt.subplots(nrows=3, figsize=(12,10))\n",
    "sns.kdeplot(data=data, x='avg_saccades_pr_second', hue='y', ax= ax[0])\n",
    "sns.kdeplot(data=data, x='median_saccades_pr_second', hue='y', ax= ax[1])\n",
    "sns.kdeplot(data=data, x='std_saccades_pr_second', hue='y', ax= ax[2])\n"
   ]
  },
  {
   "cell_type": "code",
   "execution_count": 15,
   "metadata": {},
   "outputs": [
    {
     "name": "stderr",
     "output_type": "stream",
     "text": [
      "2025-04-25 14:24:31,096 - INFO - 1986943911.king_devick_get_pct_wrong_directional_saccades:4 - Adding saccades pr. second\n"
     ]
    },
    {
     "data": {
      "application/vnd.microsoft.datawrangler.viewer.v0+json": {
       "columns": [
        {
         "name": "index",
         "rawType": "int64",
         "type": "integer"
        },
        {
         "name": "experiment",
         "rawType": "string",
         "type": "string"
        },
        {
         "name": "participant_id",
         "rawType": "int64",
         "type": "integer"
        },
        {
         "name": "avg_wrong_direction_saccade_pct",
         "rawType": "float64",
         "type": "float"
        },
        {
         "name": "std_wrong_direction_saccade_pct",
         "rawType": "float64",
         "type": "float"
        }
       ],
       "conversionMethod": "pd.DataFrame",
       "ref": "5df7b688-0d85-47ff-bf2f-01d634ab4d08",
       "rows": [
        [
         "0",
         "KING_DEVICK",
         "106",
         "35.06265391858612",
         "3.947289478680826"
        ],
        [
         "1",
         "KING_DEVICK",
         "111",
         "36.96613516522763",
         "4.527776713348975"
        ],
        [
         "2",
         "KING_DEVICK",
         "113",
         "34.38906138311311",
         "3.7472690373623725"
        ],
        [
         "3",
         "KING_DEVICK",
         "121",
         "34.55716586151369",
         "5.5589851487895245"
        ],
        [
         "4",
         "KING_DEVICK",
         "122",
         "40.62642005954925",
         "10.902894028151675"
        ],
        [
         "5",
         "KING_DEVICK",
         "133",
         "33.93131676150544",
         "8.195145119789935"
        ],
        [
         "6",
         "KING_DEVICK",
         "134",
         "40.0070893102252",
         "0.9500438594780962"
        ],
        [
         "7",
         "KING_DEVICK",
         "135",
         "38.55456254731033",
         "4.476169165389575"
        ],
        [
         "8",
         "KING_DEVICK",
         "137",
         "37.134495380761145",
         "6.502762692805928"
        ],
        [
         "9",
         "KING_DEVICK",
         "138",
         "30.435305435305434",
         "4.819086544267701"
        ],
        [
         "10",
         "KING_DEVICK",
         "142",
         "30.81565436404146",
         "4.236807815620243"
        ],
        [
         "11",
         "KING_DEVICK",
         "143",
         "35.24496809032892",
         "1.0698981253541964"
        ],
        [
         "12",
         "KING_DEVICK",
         "144",
         "31.995479800357845",
         "2.5370899840244596"
        ],
        [
         "13",
         "KING_DEVICK",
         "146",
         "49.04761904761905",
         "15.489005683133897"
        ],
        [
         "14",
         "KING_DEVICK",
         "149",
         "26.132724025423304",
         "3.0505365062312038"
        ],
        [
         "15",
         "KING_DEVICK",
         "150",
         "33.23357413140695",
         "1.3707081758074169"
        ],
        [
         "16",
         "KING_DEVICK",
         "151",
         "31.111233808170955",
         "1.5159415539891974"
        ],
        [
         "17",
         "KING_DEVICK",
         "152",
         "33.902477450864545",
         "2.844601445835196"
        ],
        [
         "18",
         "KING_DEVICK",
         "153",
         "35.26608315435363",
         "1.1364308695935539"
        ],
        [
         "19",
         "KING_DEVICK",
         "156",
         "40.64026044492675",
         "2.0718267055927058"
        ],
        [
         "20",
         "KING_DEVICK",
         "157",
         "25.994152046783626",
         "0.8786537544629672"
        ],
        [
         "21",
         "KING_DEVICK",
         "166",
         "38.46913580246914",
         "4.457593717095015"
        ],
        [
         "22",
         "KING_DEVICK",
         "169",
         "39.3952057101758",
         "4.249531391559831"
        ],
        [
         "23",
         "KING_DEVICK",
         "171",
         "39.86003888602962",
         "2.884300498918855"
        ],
        [
         "24",
         "KING_DEVICK",
         "173",
         "31.403781403781405",
         "3.43758819436147"
        ],
        [
         "25",
         "KING_DEVICK",
         "180",
         "34.0615933621491",
         "2.7536074760871476"
        ],
        [
         "26",
         "KING_DEVICK",
         "182",
         "27.303647572244937",
         "1.9126209355126982"
        ],
        [
         "27",
         "KING_DEVICK",
         "184",
         "35.91929525433362",
         "2.948683025314182"
        ],
        [
         "28",
         "KING_DEVICK",
         "185",
         "28.01142883110096",
         "4.334987513779774"
        ],
        [
         "29",
         "KING_DEVICK",
         "187",
         "28.542701739626466",
         "6.181996445680885"
        ],
        [
         "30",
         "KING_DEVICK",
         "188",
         "29.706577102581036",
         "2.7892483702942132"
        ],
        [
         "31",
         "KING_DEVICK",
         "190",
         "38.10255443946795",
         "5.403471238096962"
        ],
        [
         "32",
         "KING_DEVICK",
         "195",
         "34.13018458955538",
         "2.6738067105036283"
        ],
        [
         "33",
         "KING_DEVICK",
         "196",
         "23.31055272231743",
         "1.1390808678433046"
        ],
        [
         "34",
         "KING_DEVICK",
         "197",
         "39.30346680203905",
         "0.46472802261489177"
        ],
        [
         "35",
         "KING_DEVICK",
         "198",
         "34.50617283950617",
         "1.019920471719647"
        ],
        [
         "36",
         "KING_DEVICK",
         "199",
         "30.097466674749597",
         "4.550012713463495"
        ],
        [
         "37",
         "KING_DEVICK",
         "200",
         "34.07102157102157",
         "5.104172433225112"
        ],
        [
         "38",
         "KING_DEVICK",
         "204",
         "34.24541467304625",
         "6.875250462610293"
        ],
        [
         "39",
         "KING_DEVICK",
         "206",
         "32.808512759170654",
         "2.730402494867966"
        ],
        [
         "40",
         "KING_DEVICK",
         "207",
         "34.86590038314176",
         "2.654483996274139"
        ],
        [
         "41",
         "KING_DEVICK",
         "209",
         "31.805334746511218",
         "1.8631678224400117"
        ],
        [
         "42",
         "KING_DEVICK",
         "210",
         "26.42835458409229",
         "0.2212352543892074"
        ],
        [
         "43",
         "KING_DEVICK",
         "214",
         "23.245511319281814",
         "0.9286152339512302"
        ],
        [
         "44",
         "KING_DEVICK",
         "215",
         "30.379653042133242",
         "3.774618094575928"
        ],
        [
         "45",
         "KING_DEVICK",
         "217",
         "37.76450630106633",
         "5.987331072822553"
        ],
        [
         "46",
         "KING_DEVICK",
         "218",
         "46.41131815044859",
         "3.5715535929948294"
        ],
        [
         "47",
         "KING_DEVICK",
         "219",
         "24.05906209660328",
         "2.816088425018182"
        ],
        [
         "48",
         "KING_DEVICK",
         "220",
         "38.2798883125041",
         "2.196766408312594"
        ],
        [
         "49",
         "KING_DEVICK",
         "221",
         "26.14467991125656",
         "2.1598535204058353"
        ]
       ],
       "shape": {
        "columns": 4,
        "rows": 165
       }
      },
      "text/html": [
       "<div>\n",
       "<style scoped>\n",
       "    .dataframe tbody tr th:only-of-type {\n",
       "        vertical-align: middle;\n",
       "    }\n",
       "\n",
       "    .dataframe tbody tr th {\n",
       "        vertical-align: top;\n",
       "    }\n",
       "\n",
       "    .dataframe thead th {\n",
       "        text-align: right;\n",
       "    }\n",
       "</style>\n",
       "<table border=\"1\" class=\"dataframe\">\n",
       "  <thead>\n",
       "    <tr style=\"text-align: right;\">\n",
       "      <th></th>\n",
       "      <th>experiment</th>\n",
       "      <th>participant_id</th>\n",
       "      <th>avg_wrong_direction_saccade_pct</th>\n",
       "      <th>std_wrong_direction_saccade_pct</th>\n",
       "    </tr>\n",
       "  </thead>\n",
       "  <tbody>\n",
       "    <tr>\n",
       "      <th>0</th>\n",
       "      <td>KING_DEVICK</td>\n",
       "      <td>106</td>\n",
       "      <td>35.062654</td>\n",
       "      <td>3.947289</td>\n",
       "    </tr>\n",
       "    <tr>\n",
       "      <th>1</th>\n",
       "      <td>KING_DEVICK</td>\n",
       "      <td>111</td>\n",
       "      <td>36.966135</td>\n",
       "      <td>4.527777</td>\n",
       "    </tr>\n",
       "    <tr>\n",
       "      <th>2</th>\n",
       "      <td>KING_DEVICK</td>\n",
       "      <td>113</td>\n",
       "      <td>34.389061</td>\n",
       "      <td>3.747269</td>\n",
       "    </tr>\n",
       "    <tr>\n",
       "      <th>3</th>\n",
       "      <td>KING_DEVICK</td>\n",
       "      <td>121</td>\n",
       "      <td>34.557166</td>\n",
       "      <td>5.558985</td>\n",
       "    </tr>\n",
       "    <tr>\n",
       "      <th>4</th>\n",
       "      <td>KING_DEVICK</td>\n",
       "      <td>122</td>\n",
       "      <td>40.626420</td>\n",
       "      <td>10.902894</td>\n",
       "    </tr>\n",
       "    <tr>\n",
       "      <th>...</th>\n",
       "      <td>...</td>\n",
       "      <td>...</td>\n",
       "      <td>...</td>\n",
       "      <td>...</td>\n",
       "    </tr>\n",
       "    <tr>\n",
       "      <th>160</th>\n",
       "      <td>KING_DEVICK</td>\n",
       "      <td>399</td>\n",
       "      <td>30.511546</td>\n",
       "      <td>1.468634</td>\n",
       "    </tr>\n",
       "    <tr>\n",
       "      <th>161</th>\n",
       "      <td>KING_DEVICK</td>\n",
       "      <td>401</td>\n",
       "      <td>32.949011</td>\n",
       "      <td>5.430220</td>\n",
       "    </tr>\n",
       "    <tr>\n",
       "      <th>162</th>\n",
       "      <td>KING_DEVICK</td>\n",
       "      <td>402</td>\n",
       "      <td>35.373781</td>\n",
       "      <td>0.608634</td>\n",
       "    </tr>\n",
       "    <tr>\n",
       "      <th>163</th>\n",
       "      <td>KING_DEVICK</td>\n",
       "      <td>403</td>\n",
       "      <td>37.174911</td>\n",
       "      <td>2.936498</td>\n",
       "    </tr>\n",
       "    <tr>\n",
       "      <th>164</th>\n",
       "      <td>KING_DEVICK</td>\n",
       "      <td>404</td>\n",
       "      <td>35.124985</td>\n",
       "      <td>3.470394</td>\n",
       "    </tr>\n",
       "  </tbody>\n",
       "</table>\n",
       "<p>165 rows × 4 columns</p>\n",
       "</div>"
      ],
      "text/plain": [
       "      experiment  participant_id  avg_wrong_direction_saccade_pct  \\\n",
       "0    KING_DEVICK             106                        35.062654   \n",
       "1    KING_DEVICK             111                        36.966135   \n",
       "2    KING_DEVICK             113                        34.389061   \n",
       "3    KING_DEVICK             121                        34.557166   \n",
       "4    KING_DEVICK             122                        40.626420   \n",
       "..           ...             ...                              ...   \n",
       "160  KING_DEVICK             399                        30.511546   \n",
       "161  KING_DEVICK             401                        32.949011   \n",
       "162  KING_DEVICK             402                        35.373781   \n",
       "163  KING_DEVICK             403                        37.174911   \n",
       "164  KING_DEVICK             404                        35.124985   \n",
       "\n",
       "     std_wrong_direction_saccade_pct  \n",
       "0                           3.947289  \n",
       "1                           4.527777  \n",
       "2                           3.747269  \n",
       "3                           5.558985  \n",
       "4                          10.902894  \n",
       "..                               ...  \n",
       "160                         1.468634  \n",
       "161                         5.430220  \n",
       "162                         0.608634  \n",
       "163                         2.936498  \n",
       "164                         3.470394  \n",
       "\n",
       "[165 rows x 4 columns]"
      ]
     },
     "execution_count": 15,
     "metadata": {},
     "output_type": "execute_result"
    }
   ],
   "source": [
    "\n",
    "def king_devick_get_pct_wrong_directional_saccades(df: pd.DataFrame) -> pd.DataFrame:\n",
    "\n",
    "    \n",
    "    logging.info(\"Adding saccades pr. second\")\n",
    "    df = (df\n",
    "        .query(\"(eye == 'R') or (eye.isnull())\") # right eye or is na\n",
    "        .sort_values(by=[\"participant_id\", \"trial_id\",\"time\"])\n",
    "        .assign(saccade_direction = lambda x: np.select([\n",
    "                                                        (x[\"event\"] == 'ESACC') & (x[\"end_x\"] > x[\"start_x\"]),\n",
    "                                                        (x[\"event\"] == 'ESACC') & (x[\"end_x\"] < x[\"start_x\"])],\n",
    "                                                        [\"right\", \"left\"], default=None))\n",
    "        .query(\"event == 'ESACC'\")\n",
    "        .query(\"time/1000 < time_elapsed\")\n",
    "        .groupby([\"experiment\", \"participant_id\", \"trial_id\", \"saccade_direction\"])\n",
    "        .size()\n",
    "        .reset_index(name=\"n_saccades\")\n",
    "        .assign(n_trial_saccades = lambda x: (x\n",
    "            .groupby([\"participant_id\", \"trial_id\"])[\"n_saccades\"]\n",
    "            .transform(lambda group: (\n",
    "                    group.sum()\n",
    "                ))\n",
    "            ))\n",
    "        .assign(pct_saccade = lambda x: 100* x[\"n_saccades\"] / x[\"n_trial_saccades\"])\n",
    "        .query(\"saccade_direction == 'left'\")\n",
    "        .groupby([\"experiment\", \"participant_id\"])\n",
    "        .agg(\n",
    "            avg_wrong_direction_saccade_pct = ('pct_saccade', 'mean'),\n",
    "            std_wrong_direction_saccade_pct = ('pct_saccade', 'std')\n",
    "        )\n",
    "        .reset_index()\n",
    "    )\n",
    "    return df\n",
    "\n",
    "\n",
    "king_devick_get_pct_wrong_directional_saccades(df_event)"
   ]
  },
  {
   "cell_type": "code",
   "execution_count": 16,
   "metadata": {},
   "outputs": [
    {
     "name": "stderr",
     "output_type": "stream",
     "text": [
      "2025-04-25 14:24:31,849 - INFO - 1986943911.king_devick_get_pct_wrong_directional_saccades:4 - Adding saccades pr. second\n",
      "2025-04-25 14:24:31,917 - INFO - 2345115736.join_demographic_info_on_features:39 - Joining demographics on features\n",
      "2025-04-25 14:24:31,917 - INFO - 2345115736.load_demographic_info:29 - Loading demographics\n"
     ]
    },
    {
     "data": {
      "text/plain": [
       "<Axes: xlabel='std_wrong_direction_saccade_pct', ylabel='Density'>"
      ]
     },
     "execution_count": 16,
     "metadata": {},
     "output_type": "execute_result"
    },
    {
     "data": {
      "image/png": "[encoded data removed]",
      "text/plain": [
       "<Figure size 1200x1000 with 2 Axes>"
      ]
     },
     "metadata": {},
     "output_type": "display_data"
    }
   ],
   "source": [
    "import seaborn as sns\n",
    "import matplotlib.pyplot as plt\n",
    "data=join_demographic_info_on_features(king_devick_get_pct_wrong_directional_saccades(df_event))\n",
    "\n",
    "fig, ax = plt.subplots(nrows=2, figsize=(12,10))\n",
    "sns.kdeplot(data=data, x='avg_wrong_direction_saccade_pct', hue='y', ax= ax[0])\n",
    "sns.kdeplot(data=data, x='std_wrong_direction_saccade_pct', hue='y', ax= ax[1])\n"
   ]
  },
  {
   "cell_type": "markdown",
   "metadata": {},
   "source": [
    "# Sample"
   ]
  },
  {
   "cell_type": "code",
   "execution_count": null,
   "metadata": {},
   "outputs": [],
   "source": [
    "def get_acceleration_feature(df: pd.DataFrame) -> pd.DataFrame:\n",
    "    \"\"\"Finds acceleration features for anti saccade experiment\n",
    "\n",
    "    Args:\n",
    "        df (pd.DataFrame): Dataframe with raw samples\n",
    "\n",
    "    Returns:\n",
    "        pd.DataFrame: Dataframe with columns ['experiment','participant_id', X_FEATURES]\n",
    "        where X_FEATURES is a collection of features found by the following cartesian product:\n",
    "        {'total_acceleration_magnitude_left', 'total_acceleration_magnitude_right'} x {np.mean, np.min, np.max, np.median, np.std}\n",
    "    \"\"\"\n",
    "    logging.info(\"Extracting acceleration\")\n",
    "    acceleration = (df.join((df\n",
    "    .groupby([\"experiment\", \"participant_id\", \"trial_id\"])[['x_velocity_left', 'y_velocity_left', 'x_velocity_right', 'y_velocity_right']].shift(1)\n",
    "    .rename(columns={'x_velocity_left': 'x_velocity_left_lagged'\n",
    "            , 'y_velocity_left': 'y_velocity_left_lagged'\n",
    "            , 'x_velocity_right': 'x_velocity_right_lagged'\n",
    "            , 'y_velocity_right': 'y_velocity_right_lagged'}))\n",
    "    ).assign(x_acceleration_left = lambda x: (x[\"x_velocity_left\"] - x[\"x_velocity_left_lagged\"]) / (1/2000),\n",
    "            y_acceleration_left = lambda x: (x[\"y_velocity_left\"] - x[\"y_velocity_left_lagged\"]) / (1/2000),\n",
    "            x_acceleration_right = lambda x: (x[\"x_velocity_right\"] - x[\"x_velocity_right_lagged\"]) / (1/2000),\n",
    "            y_acceleration_right = lambda x: (x[\"y_velocity_right\"] - x[\"y_velocity_right_lagged\"]) / (1/2000))\n",
    "    .assign(total_acceleration_magnitude_left = lambda x: np.sqrt( np.power(x[\"x_acceleration_left\"], 2) + np.power(x[\"y_acceleration_left\"], 2)),\n",
    "            total_acceleration_magnitude_right = lambda x: np.sqrt( np.power(x[\"x_acceleration_right\"], 2) + np.power(x[\"y_acceleration_right\"], 2)))\n",
    "    .groupby([\"experiment\", \"participant_id\"])\n",
    "    .agg({'total_acceleration_magnitude_left': [np.mean, np.min, np.max, np.median, np.std],\n",
    "        'total_acceleration_magnitude_right': [np.mean, np.min, np.max, np.median, np.std]\n",
    "        })\n",
    "    .reset_index()\n",
    "    .pipe(rename_columns)\n",
    "    )\n",
    "    return acceleration\n",
    "\n",
    "\n",
    "# Eye disconjugacy\n",
    "# Paper: https://www.liebertpub.com/doi/full/10.1089/neu.2014.3687\n",
    "\n",
    "def get_disconjugacy_feature(df:pd.DataFrame) -> pd.DataFrame:\n",
    "    logging.info(\"Extracting disconjugacy\")\n",
    "    disconjugacy = (df\n",
    "        .sort_values([\"experiment\", \"participant_id\", \"trial_id\", \"time\"])\n",
    "        .query(\"x_left == x_left & x_right == x_right & y_left == y_left & y_right == y_right\") # same as not null\n",
    "        .groupby([\"experiment\", \"participant_id\"])\n",
    "        .apply(lambda group: group.assign(\n",
    "            x_left_rolling=group[\"x_left\"].rolling(window=5, min_periods=1).mean(),\n",
    "            x_right_rolling=group[\"x_right\"].rolling(window=5, min_periods=1).mean(),\n",
    "            y_left_rolling=group[\"y_left\"].rolling(window=5, min_periods=1).mean(),\n",
    "            y_right_rolling=group[\"y_right\"].rolling(window=5, min_periods=1).mean()\n",
    "        ))\n",
    "        .reset_index(drop=True)\n",
    "        .assign(\n",
    "            X_diffs = lambda x: ((x[\"x_left_rolling\"] - x[\"x_right_rolling\"]) - 0)**2,\n",
    "            Y_diffs = lambda x: ((x[\"y_left_rolling\"] - x[\"y_right_rolling\"]) - 0)**2\n",
    "        )\n",
    "        .groupby([\"experiment\", \"participant_id\"])\n",
    "        .apply(lambda group: group.assign(\n",
    "            X_squared_scaled = group[\"X_diffs\"] / group.shape[0],\n",
    "            Y_squared_scaled = group[\"Y_diffs\"] / group.shape[0]\n",
    "        ))\n",
    "        .reset_index(drop=True)\n",
    "        .groupby([\"experiment\", \"participant_id\"])\n",
    "        .agg(\n",
    "            Var_X = (\"X_squared_scaled\", \"sum\"),\n",
    "            Var_Y = (\"Y_squared_scaled\", \"sum\")\n",
    "        )\n",
    "        .assign(\n",
    "            Var_total = lambda x: x[\"Var_X\"] + x[\"Var_Y\"]\n",
    "        )\n",
    "        .reset_index()\n",
    "        [[\"experiment\", \"participant_id\", \"Var_total\"]]\n",
    "    )\n",
    "    return disconjugacy\n",
    "\n"
   ]
  },
  {
   "cell_type": "markdown",
   "metadata": {},
   "source": [
    "# Combining"
   ]
  },
  {
   "cell_type": "code",
   "execution_count": null,
   "metadata": {},
   "outputs": [
    {
     "name": "stderr",
     "output_type": "stream",
     "text": [
      "2025-04-16 16:25:14,236 - INFO - 2866491546.get_king_devick_features:10 - Starting fitts law feature extraction\n",
      "2025-04-16 16:25:14,238 - INFO - 2866491546.get_king_devick_features:12 - Starting event feature extraction\n",
      "2025-04-16 16:25:14,456 - INFO - 2866491546.get_king_devick_features:16 - Starting sample feature extraction\n",
      "2025-04-16 16:25:14,456 - INFO - 615019999.get_acceleration_feature:12 - Extracting acceleration\n",
      "2025-04-16 16:25:30,490 - INFO - 615019999.get_disconjugacy_feature:39 - Extracting disconjugacy\n",
      "/var/folders/v0/l_dtghc15651j6_9p3clc_r00000gt/T/ipykernel_74155/615019999.py:44: DeprecationWarning: DataFrameGroupBy.apply operated on the grouping columns. This behavior is deprecated, and in a future version of pandas the grouping columns will be excluded from the operation. Either pass `include_groups=False` to exclude the groupings or explicitly select the grouping columns after groupby to silence this warning.\n",
      "  .apply(lambda group: group.assign(\n",
      "/var/folders/v0/l_dtghc15651j6_9p3clc_r00000gt/T/ipykernel_74155/615019999.py:56: DeprecationWarning: DataFrameGroupBy.apply operated on the grouping columns. This behavior is deprecated, and in a future version of pandas the grouping columns will be excluded from the operation. Either pass `include_groups=False` to exclude the groupings or explicitly select the grouping columns after groupby to silence this warning.\n",
      "  .apply(lambda group: group.assign(\n"
     ]
    }
   ],
   "source": [
    "def get_king_devick_features(df_event: pd.DataFrame, df_sample:pd.DataFrame) -> pd.DataFrame:\n",
    "    \"\"\"Runs all king devick features extractions\n",
    "\n",
    "    Args:\n",
    "        df (pd.DataFrame): The preprocessed dataframe\n",
    "\n",
    "    Returns:\n",
    "        pd.DataFrame: Dataframe with columns [\"experiment\", \"participant_id\", X_FEATURES], where X_FEATURES is a collection of features\n",
    "    \"\"\"\n",
    "    logging.info(\"Starting fitts law feature extraction\")\n",
    "    \n",
    "    logging.info(\"Starting event feature extraction\")\n",
    "    event_feature_functions = [get_avg_mistakes_pr_trial, get_avg_time_elapsed_pr_trial, get_pre_calculated_metrics_feature]\n",
    "    df_event_features_list = [f(df=df_event) for f in event_feature_functions]\n",
    "    \n",
    "    logging.info(\"Starting sample feature extraction\")\n",
    "    sample_feature_functions = [get_acceleration_feature, get_disconjugacy_feature]\n",
    "    df_sample_features_list = [f(df=df_sample) for f in sample_feature_functions]\n",
    "    \n",
    "    df_features_list = df_event_features_list + df_sample_features_list\n",
    "    \n",
    "    df_features = reduce(lambda x, y: pd.merge(x, y, on = [\"experiment\", \"participant_id\"]), df_features_list)\n",
    "    \n",
    "    return df_features\n",
    "\n",
    "\n",
    "features = get_king_devick_features(df_event=df_event, df_sample=df_sample)\n",
    "    \n",
    "\n",
    "    "
   ]
  },
  {
   "cell_type": "markdown",
   "metadata": {},
   "source": [
    "# Save"
   ]
  },
  {
   "cell_type": "code",
   "execution_count": null,
   "metadata": {},
   "outputs": [],
   "source": [
    "features.to_parquet(FEATURES_DIR / f\"{experiment}_features.pq\")\n"
   ]
  }
 ],
 "metadata": {
  "kernelspec": {
   "display_name": ".venv",
   "language": "python",
   "name": "python3"
  },
  "language_info": {
   "codemirror_mode": {
    "name": "ipython",
    "version": 3
   },
   "file_extension": ".py",
   "mimetype": "text/x-python",
   "name": "python",
   "nbconvert_exporter": "python",
   "pygments_lexer": "ipython3",
   "version": "3.12.9"
  }
 },
 "nbformat": 4,
 "nbformat_minor": 2
}
