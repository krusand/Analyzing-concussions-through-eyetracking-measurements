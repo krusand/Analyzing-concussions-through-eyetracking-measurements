{
 "cells": [
  {
   "cell_type": "code",
   "execution_count": 12,
   "metadata": {},
   "outputs": [],
   "source": [
    "import os\n",
    "import sys\n",
    "sys.path.append(os.path.dirname(os.path.dirname(os.path.abspath(''))))\n",
    "from config import *\n",
    "\n",
    "import warnings\n",
    "warnings.simplefilter(action='ignore', category=FutureWarning)\n",
    "import pandas as pd\n",
    "import numpy as np\n",
    "from functools import reduce\n",
    "\n",
    "experiment = \"SHAPES\"\n",
    "\n",
    "df_event = pd.read_parquet(PREPROCESSED_DIR / f\"{experiment}_events.pq\")\n",
    "\n",
    "\n",
    "def rename_columns(df):\n",
    "    \"\"\"Renames columns by joining multi-level column names with different delimiters.\"\"\"\n",
    "    # Iterate over all column names\n",
    "    df.columns = [f\"{col[0]}\" if col[1] == '' else f\"{col[0]}_{col[1]}\" for col in df.columns.values]\n",
    "    return df"
   ]
  },
  {
   "cell_type": "code",
   "execution_count": 16,
   "metadata": {},
   "outputs": [],
   "source": [
    "def get_distance_between_fixations(df: pd.DataFrame) -> pd.DataFrame:\n",
    "    \"\"\"Finds acceleration features for anti saccade experiment\n",
    "\n",
    "    Args:\n",
    "        df (pd.DataFrame): Dataframe with preprocessed events\n",
    "\n",
    "    Returns:\n",
    "        pd.DataFrame: Dataframe with columns ['experiment','participant_id', X_FEATURES]\n",
    "        where X_FEATURES is a collection of features found by the following cartesian product:\n",
    "    \"\"\"\n",
    "\n",
    "    df = (df.query(\"event == 'EFIX'\")\n",
    "    .join((df\n",
    "        .query(\"event == 'EFIX'\")\n",
    "        .groupby([\"experiment\", \"participant_id\", \"trial_id\", \"eye\"])[['x','y']].shift(1)\n",
    "        .rename(columns={\"x\": \"x_lagged\", \n",
    "            \"y\": \"y_lagged\"})))\n",
    "    .assign(\n",
    "        x_fixation_dist = lambda x: x[\"x\"] - x[\"x_lagged\"],\n",
    "        y_fixation_dist = lambda x: x[\"y\"] - x[\"y_lagged\"])\n",
    "    .assign(\n",
    "        fixation_distance = lambda x: np.sqrt( np.power(x[\"x_fixation_dist\"],2) + np.power(x[\"y_fixation_dist\"],2))\n",
    "    )\n",
    "    .groupby([\"experiment\", \"participant_id\"])\n",
    "    .agg({'fixation_distance': [np.mean, np.std],\n",
    "    })\n",
    "    .reset_index()\n",
    "    .pipe(rename_columns)\n",
    "    )\n",
    "    return df\n",
    "\n"
   ]
  }
 ],
 "metadata": {
  "kernelspec": {
   "display_name": ".venv",
   "language": "python",
   "name": "python3"
  },
  "language_info": {
   "codemirror_mode": {
    "name": "ipython",
    "version": 3
   },
   "file_extension": ".py",
   "mimetype": "text/x-python",
   "name": "python",
   "nbconvert_exporter": "python",
   "pygments_lexer": "ipython3",
   "version": "3.12.9"
  }
 },
 "nbformat": 4,
 "nbformat_minor": 2
}
