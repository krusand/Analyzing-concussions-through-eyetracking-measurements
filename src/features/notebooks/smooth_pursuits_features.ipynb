{
 "cells": [
  {
   "cell_type": "code",
   "execution_count": 2,
   "metadata": {},
   "outputs": [],
   "source": [
    "import os\n",
    "import sys\n",
    "sys.path.append(os.path.dirname(os.path.dirname(os.path.abspath(''))))\n",
    "from config import *\n",
    "\n",
    "import warnings\n",
    "warnings.simplefilter(action='ignore', category=FutureWarning)\n",
    "import pandas as pd\n",
    "import numpy as np\n",
    "from functools import reduce\n",
    "\n",
    "experiment = \"SMOOTH_PURSUITS\"\n",
    "\n",
    "df_event = pd.read_parquet(PREPROCESSED_DIR / f\"{experiment}_events.pq\")\n",
    "\n",
    "\n",
    "def rename_columns(df):\n",
    "    \"\"\"Renames columns by joining multi-level column names with different delimiters.\"\"\"\n",
    "    # Iterate over all column names\n",
    "    df.columns = [f\"{col[0]}\" if col[1] == '' else f\"{col[0]}_{col[1]}\" for col in df.columns.values]\n",
    "    return df"
   ]
  },
  {
   "cell_type": "code",
   "execution_count": 29,
   "metadata": {},
   "outputs": [
    {
     "data": {
      "application/vnd.microsoft.datawrangler.viewer.v0+json": {
       "columns": [
        {
         "name": "index",
         "rawType": "int64",
         "type": "integer"
        },
        {
         "name": "experiment",
         "rawType": "object",
         "type": "string"
        },
        {
         "name": "participant_id",
         "rawType": "int64",
         "type": "integer"
        },
        {
         "name": "fixation_distance_mean",
         "rawType": "float64",
         "type": "float"
        },
        {
         "name": "fixation_distance_std",
         "rawType": "float64",
         "type": "float"
        }
       ],
       "conversionMethod": "pd.DataFrame",
       "ref": "0ef270a1-5555-4fea-8177-5a2e856967a2",
       "rows": [
        [
         "0",
         "SMOOTH_PURSUITS",
         "106",
         "330.423192747179",
         "251.63195178596172"
        ],
        [
         "1",
         "SMOOTH_PURSUITS",
         "111",
         "258.50289850263397",
         "177.46119634695404"
        ],
        [
         "2",
         "SMOOTH_PURSUITS",
         "135",
         "325.34949468738574",
         "156.3719130510781"
        ],
        [
         "3",
         "SMOOTH_PURSUITS",
         "142",
         "273.62460389171224",
         "139.11081245965653"
        ],
        [
         "4",
         "SMOOTH_PURSUITS",
         "143",
         "280.55319577649345",
         "165.28212374188092"
        ],
        [
         "5",
         "SMOOTH_PURSUITS",
         "144",
         "239.48353915232178",
         "139.550607232519"
        ],
        [
         "6",
         "SMOOTH_PURSUITS",
         "146",
         "215.86694724845188",
         "141.11555735170748"
        ],
        [
         "7",
         "SMOOTH_PURSUITS",
         "147",
         "320.1645523585277",
         "189.11939497934904"
        ],
        [
         "8",
         "SMOOTH_PURSUITS",
         "149",
         "382.2170797023464",
         "208.1010408983945"
        ],
        [
         "9",
         "SMOOTH_PURSUITS",
         "150",
         "242.94340836727645",
         "142.00133406586446"
        ],
        [
         "10",
         "SMOOTH_PURSUITS",
         "151",
         "287.691782168863",
         "206.42095805382928"
        ],
        [
         "11",
         "SMOOTH_PURSUITS",
         "152",
         "296.84953866112545",
         "192.0314734328142"
        ],
        [
         "12",
         "SMOOTH_PURSUITS",
         "153",
         "282.35349030407417",
         "173.8833207242569"
        ],
        [
         "13",
         "SMOOTH_PURSUITS",
         "156",
         "196.73480557877852",
         "123.29371785758364"
        ],
        [
         "14",
         "SMOOTH_PURSUITS",
         "157",
         "328.03358773198914",
         "172.3690489320616"
        ],
        [
         "15",
         "SMOOTH_PURSUITS",
         "166",
         "263.55473107385245",
         "164.05200969895716"
        ],
        [
         "16",
         "SMOOTH_PURSUITS",
         "171",
         "273.12555321718247",
         "146.2051424561966"
        ],
        [
         "17",
         "SMOOTH_PURSUITS",
         "173",
         "322.26714137185434",
         "229.6138757808418"
        ],
        [
         "18",
         "SMOOTH_PURSUITS",
         "180",
         "284.5860380341041",
         "199.37589367999607"
        ],
        [
         "19",
         "SMOOTH_PURSUITS",
         "182",
         "264.75387266459614",
         "173.98886014825706"
        ],
        [
         "20",
         "SMOOTH_PURSUITS",
         "184",
         "207.43477140238764",
         "108.14356328082823"
        ],
        [
         "21",
         "SMOOTH_PURSUITS",
         "185",
         "369.57050949694457",
         "217.3019129965792"
        ],
        [
         "22",
         "SMOOTH_PURSUITS",
         "187",
         "318.65606999813735",
         "203.49727989299316"
        ],
        [
         "23",
         "SMOOTH_PURSUITS",
         "188",
         "235.15504286467086",
         "118.12087061763809"
        ],
        [
         "24",
         "SMOOTH_PURSUITS",
         "190",
         "331.47183192917385",
         "185.71073491423402"
        ],
        [
         "25",
         "SMOOTH_PURSUITS",
         "195",
         "327.99053434848094",
         "190.23023553655275"
        ],
        [
         "26",
         "SMOOTH_PURSUITS",
         "196",
         "311.3748969447062",
         "152.95861972983298"
        ],
        [
         "27",
         "SMOOTH_PURSUITS",
         "197",
         "330.08284739610474",
         "210.86600660795656"
        ],
        [
         "28",
         "SMOOTH_PURSUITS",
         "198",
         "333.1965877543997",
         "218.9389634125129"
        ],
        [
         "29",
         "SMOOTH_PURSUITS",
         "199",
         "326.7314301730808",
         "200.232287591444"
        ],
        [
         "30",
         "SMOOTH_PURSUITS",
         "200",
         "292.3653192439215",
         "168.02607705096122"
        ],
        [
         "31",
         "SMOOTH_PURSUITS",
         "204",
         "358.63609539720045",
         "216.6014071828402"
        ],
        [
         "32",
         "SMOOTH_PURSUITS",
         "206",
         "273.06022644708526",
         "134.55441381881116"
        ],
        [
         "33",
         "SMOOTH_PURSUITS",
         "207",
         "250.22932369109827",
         "144.02536812826744"
        ],
        [
         "34",
         "SMOOTH_PURSUITS",
         "209",
         "314.5286026847041",
         "194.34961810086227"
        ],
        [
         "35",
         "SMOOTH_PURSUITS",
         "210",
         "315.8361698165846",
         "175.81306173637762"
        ],
        [
         "36",
         "SMOOTH_PURSUITS",
         "214",
         "392.0535295592941",
         "215.1807043429459"
        ],
        [
         "37",
         "SMOOTH_PURSUITS",
         "215",
         "259.60699000629387",
         "145.71063977665932"
        ],
        [
         "38",
         "SMOOTH_PURSUITS",
         "217",
         "338.969535648475",
         "315.56664718311475"
        ],
        [
         "39",
         "SMOOTH_PURSUITS",
         "218",
         "269.3527428912584",
         "167.708124069827"
        ],
        [
         "40",
         "SMOOTH_PURSUITS",
         "219",
         "308.64488800905434",
         "170.3152492653391"
        ],
        [
         "41",
         "SMOOTH_PURSUITS",
         "220",
         "270.4400479925157",
         "142.57564256596987"
        ],
        [
         "42",
         "SMOOTH_PURSUITS",
         "221",
         "328.15369337262837",
         "194.96572906906377"
        ],
        [
         "43",
         "SMOOTH_PURSUITS",
         "222",
         "297.17996025692196",
         "170.4158059319722"
        ],
        [
         "44",
         "SMOOTH_PURSUITS",
         "223",
         "312.5414291308167",
         "181.12240054438558"
        ],
        [
         "45",
         "SMOOTH_PURSUITS",
         "225",
         "344.3168751063869",
         "233.91422347260547"
        ],
        [
         "46",
         "SMOOTH_PURSUITS",
         "227",
         "337.98363716815317",
         "176.32167393930627"
        ],
        [
         "47",
         "SMOOTH_PURSUITS",
         "228",
         "297.7065200394676",
         "192.90812193555948"
        ],
        [
         "48",
         "SMOOTH_PURSUITS",
         "229",
         "323.37544799894187",
         "157.97285195199876"
        ],
        [
         "49",
         "SMOOTH_PURSUITS",
         "230",
         "333.7528623423284",
         "175.3245001376131"
        ]
       ],
       "shape": {
        "columns": 4,
        "rows": 156
       }
      },
      "text/html": [
       "<div>\n",
       "<style scoped>\n",
       "    .dataframe tbody tr th:only-of-type {\n",
       "        vertical-align: middle;\n",
       "    }\n",
       "\n",
       "    .dataframe tbody tr th {\n",
       "        vertical-align: top;\n",
       "    }\n",
       "\n",
       "    .dataframe thead th {\n",
       "        text-align: right;\n",
       "    }\n",
       "</style>\n",
       "<table border=\"1\" class=\"dataframe\">\n",
       "  <thead>\n",
       "    <tr style=\"text-align: right;\">\n",
       "      <th></th>\n",
       "      <th>experiment</th>\n",
       "      <th>participant_id</th>\n",
       "      <th>fixation_distance_mean</th>\n",
       "      <th>fixation_distance_std</th>\n",
       "    </tr>\n",
       "  </thead>\n",
       "  <tbody>\n",
       "    <tr>\n",
       "      <th>0</th>\n",
       "      <td>SMOOTH_PURSUITS</td>\n",
       "      <td>106</td>\n",
       "      <td>330.423193</td>\n",
       "      <td>251.631952</td>\n",
       "    </tr>\n",
       "    <tr>\n",
       "      <th>1</th>\n",
       "      <td>SMOOTH_PURSUITS</td>\n",
       "      <td>111</td>\n",
       "      <td>258.502899</td>\n",
       "      <td>177.461196</td>\n",
       "    </tr>\n",
       "    <tr>\n",
       "      <th>2</th>\n",
       "      <td>SMOOTH_PURSUITS</td>\n",
       "      <td>135</td>\n",
       "      <td>325.349495</td>\n",
       "      <td>156.371913</td>\n",
       "    </tr>\n",
       "    <tr>\n",
       "      <th>3</th>\n",
       "      <td>SMOOTH_PURSUITS</td>\n",
       "      <td>142</td>\n",
       "      <td>273.624604</td>\n",
       "      <td>139.110812</td>\n",
       "    </tr>\n",
       "    <tr>\n",
       "      <th>4</th>\n",
       "      <td>SMOOTH_PURSUITS</td>\n",
       "      <td>143</td>\n",
       "      <td>280.553196</td>\n",
       "      <td>165.282124</td>\n",
       "    </tr>\n",
       "    <tr>\n",
       "      <th>...</th>\n",
       "      <td>...</td>\n",
       "      <td>...</td>\n",
       "      <td>...</td>\n",
       "      <td>...</td>\n",
       "    </tr>\n",
       "    <tr>\n",
       "      <th>151</th>\n",
       "      <td>SMOOTH_PURSUITS</td>\n",
       "      <td>399</td>\n",
       "      <td>240.334894</td>\n",
       "      <td>161.850108</td>\n",
       "    </tr>\n",
       "    <tr>\n",
       "      <th>152</th>\n",
       "      <td>SMOOTH_PURSUITS</td>\n",
       "      <td>401</td>\n",
       "      <td>332.674424</td>\n",
       "      <td>179.057601</td>\n",
       "    </tr>\n",
       "    <tr>\n",
       "      <th>153</th>\n",
       "      <td>SMOOTH_PURSUITS</td>\n",
       "      <td>402</td>\n",
       "      <td>340.382073</td>\n",
       "      <td>203.415434</td>\n",
       "    </tr>\n",
       "    <tr>\n",
       "      <th>154</th>\n",
       "      <td>SMOOTH_PURSUITS</td>\n",
       "      <td>403</td>\n",
       "      <td>300.474018</td>\n",
       "      <td>137.125117</td>\n",
       "    </tr>\n",
       "    <tr>\n",
       "      <th>155</th>\n",
       "      <td>SMOOTH_PURSUITS</td>\n",
       "      <td>404</td>\n",
       "      <td>284.845784</td>\n",
       "      <td>187.180024</td>\n",
       "    </tr>\n",
       "  </tbody>\n",
       "</table>\n",
       "<p>156 rows × 4 columns</p>\n",
       "</div>"
      ],
      "text/plain": [
       "          experiment  participant_id  fixation_distance_mean  \\\n",
       "0    SMOOTH_PURSUITS             106              330.423193   \n",
       "1    SMOOTH_PURSUITS             111              258.502899   \n",
       "2    SMOOTH_PURSUITS             135              325.349495   \n",
       "3    SMOOTH_PURSUITS             142              273.624604   \n",
       "4    SMOOTH_PURSUITS             143              280.553196   \n",
       "..               ...             ...                     ...   \n",
       "151  SMOOTH_PURSUITS             399              240.334894   \n",
       "152  SMOOTH_PURSUITS             401              332.674424   \n",
       "153  SMOOTH_PURSUITS             402              340.382073   \n",
       "154  SMOOTH_PURSUITS             403              300.474018   \n",
       "155  SMOOTH_PURSUITS             404              284.845784   \n",
       "\n",
       "     fixation_distance_std  \n",
       "0               251.631952  \n",
       "1               177.461196  \n",
       "2               156.371913  \n",
       "3               139.110812  \n",
       "4               165.282124  \n",
       "..                     ...  \n",
       "151             161.850108  \n",
       "152             179.057601  \n",
       "153             203.415434  \n",
       "154             137.125117  \n",
       "155             187.180024  \n",
       "\n",
       "[156 rows x 4 columns]"
      ]
     },
     "execution_count": 29,
     "metadata": {},
     "output_type": "execute_result"
    }
   ],
   "source": [
    "def get_distance_between_fixations(df: pd.DataFrame) -> pd.DataFrame:\n",
    "    \"\"\"Finds acceleration features for anti saccade experiment\n",
    "\n",
    "    Args:\n",
    "        df (pd.DataFrame): Dataframe with preprocessed events\n",
    "\n",
    "    Returns:\n",
    "        pd.DataFrame: Dataframe with columns ['experiment','participant_id', X_FEATURES]\n",
    "        where X_FEATURES is a collection of features found by the following cartesian product:\n",
    "    \"\"\"\n",
    "\n",
    "    df = (df.query(\"event == 'EFIX'\")\n",
    "    .join((df\n",
    "        .query(\"event == 'EFIX'\")\n",
    "        .groupby([\"experiment\", \"participant_id\", \"trial_id\", \"eye\"])[['x','y']].shift(1)\n",
    "        .rename(columns={\"x\": \"x_lagged\", \n",
    "            \"y\": \"y_lagged\"})))\n",
    "    .assign(\n",
    "        x_fixation_dist = lambda x: x[\"x\"] - x[\"x_lagged\"],\n",
    "        y_fixation_dist = lambda x: x[\"y\"] - x[\"y_lagged\"])\n",
    "    .assign(\n",
    "        fixation_distance = lambda x: np.sqrt( np.power(x[\"x_fixation_dist\"],2) + np.power(x[\"y_fixation_dist\"],2))\n",
    "    )\n",
    "    .groupby([\"experiment\", \"participant_id\"])\n",
    "    .agg({'fixation_distance': [np.mean, np.std],\n",
    "    })\n",
    "    .reset_index()\n",
    "    .pipe(rename_columns)\n",
    "    )\n",
    "    return df\n",
    "    \n",
    "    \n",
    "\n",
    "get_distance_between_fixations(df_event)\n"
   ]
  }
 ],
 "metadata": {
  "kernelspec": {
   "display_name": ".venv",
   "language": "python",
   "name": "python3"
  },
  "language_info": {
   "codemirror_mode": {
    "name": "ipython",
    "version": 3
   },
   "file_extension": ".py",
   "mimetype": "text/x-python",
   "name": "python",
   "nbconvert_exporter": "python",
   "pygments_lexer": "ipython3",
   "version": "3.12.9"
  }
 },
 "nbformat": 4,
 "nbformat_minor": 2
}
