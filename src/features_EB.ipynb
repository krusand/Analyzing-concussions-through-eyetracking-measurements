{
 "cells": [
  {
   "cell_type": "markdown",
   "id": "d8738815",
   "metadata": {},
   "source": [
    "# Evil Bastard Features"
   ]
  },
  {
   "cell_type": "markdown",
   "id": "db200242",
   "metadata": {},
   "source": [
    "# !!! RUN Pipeline"
   ]
  },
  {
   "cell_type": "code",
   "execution_count": 1,
   "id": "dae501d1",
   "metadata": {},
   "outputs": [],
   "source": [
    "import pandas as pd\n",
    "import numpy as np\n",
    "\n",
    "from config import *"
   ]
  },
  {
   "cell_type": "code",
   "execution_count": 2,
   "id": "4cb8e95a",
   "metadata": {},
   "outputs": [],
   "source": [
    "def rename_columns(df):\n",
    "    \"\"\"Renames columns by joining multi-level column names with different delimiters.\"\"\"\n",
    "    # Iterate over all column names\n",
    "    df.columns = [f\"{col[0]}\" if col[1] == '' else f\"{col[0]}_{col[1]}\" for col in df.columns.values]\n",
    "    return df"
   ]
  },
  {
   "cell_type": "code",
   "execution_count": 3,
   "id": "6f821087",
   "metadata": {},
   "outputs": [],
   "source": [
    "experiment = \"EVIL_BASTARD\"\n",
    "participant_ids = pd.read_parquet(\n",
    "        f\"{PREPROCESSED_DIR}/{experiment}_samples.pq\", \n",
    "        columns=[\"participant_id\"]\n",
    "    )\n",
    "\n",
    "participant_ids = participant_ids[\"participant_id\"].unique()"
   ]
  },
  {
   "cell_type": "code",
   "execution_count": 4,
   "id": "e11b0728",
   "metadata": {},
   "outputs": [],
   "source": [
    "participant_id = participant_ids[10]"
   ]
  },
  {
   "cell_type": "code",
   "execution_count": 5,
   "id": "f677776c",
   "metadata": {},
   "outputs": [],
   "source": [
    "def get_samples_df(participant_id):\n",
    "    df_samples = pd.read_parquet(\n",
    "        f\"{PREPROCESSED_DIR}/{experiment}_samples.pq\",\n",
    "        filters=[('participant_id', '=', participant_id)]\n",
    "        )\n",
    "    return df_samples\n",
    "    \n",
    "def get_events_df(participant_id):\n",
    "    df_events = pd.read_parquet(\n",
    "        f\"{PREPROCESSED_DIR}/{experiment}_events.pq\",\n",
    "        filters=[('participant_id', '=', int(participant_id))]\n",
    "        )\n",
    "    \n",
    "    return df_events"
   ]
  },
  {
   "cell_type": "code",
   "execution_count": 6,
   "id": "75caef35",
   "metadata": {},
   "outputs": [],
   "source": [
    "participant_id = participant_ids[10]\n",
    "\n",
    "df_samples = get_samples_df(participant_id)\n",
    "df_events = get_events_df(participant_id)"
   ]
  },
  {
   "cell_type": "code",
   "execution_count": null,
   "id": "897538ef",
   "metadata": {},
   "outputs": [],
   "source": [
    "df_samples"
   ]
  },
  {
   "cell_type": "code",
   "execution_count": null,
   "id": "70b63454",
   "metadata": {},
   "outputs": [],
   "source": [
    "def combine_samples_events(df_samples, df_events)\n",
    "    # Extract fixpoints\n",
    "    df_fixpoints = df_events[df_events[\"event\"]==\"FIXPOINT\"].loc[:,[\"participant_id\", \"trial_id\", \"time\", \"event\", \"colour\", \"stimulus_x\", \"stimulus_y\"]]\n",
    "\n",
    "    # Insert fixpoints in sample data\n",
    "    # Ensure you are modifying actual copies\n",
    "    df_samples = df_samples.copy()\n",
    "    df_fixpoints = df_fixpoints.copy()\n",
    "\n",
    "    # Force types\n",
    "    df_samples[\"time\"] = df_samples[\"time\"].astype(\"int64\")\n",
    "    df_samples[\"participant_id\"] = df_samples[\"participant_id\"].astype(\"int64\")\n",
    "    df_samples[\"trial_id\"] = df_samples[\"trial_id\"].astype(\"int64\")\n",
    "\n",
    "    # Make sure both DataFrames are sorted by time\n",
    "    df_samples = df_samples.sort_values([\"participant_id\", \"trial_id\",\"time\"])\n",
    "    df_fixpoints = df_fixpoints.sort_values([\"participant_id\", \"trial_id\",\"time\"])\n",
    "\n",
    "    # Rename 'colour' column to 'fixpoint' so it's ready to merge\n",
    "    df_fixpoints = df_fixpoints.rename(columns={\"colour\": \"fixpoint\"})\n",
    "\n",
    "    # Perform a backward-looking join: for each row in sample_df, find the most recent fixpoint time\n",
    "    df_samples = pd.merge_asof(\n",
    "        df_samples,\n",
    "        df_fixpoints,\n",
    "        on=[\"participant_id\"],\n",
    "        by=[\"trial_id\", \"time\"],\n",
    "        direction=\"backward\"\n",
    "    )\n",
    "\n",
    "    df_samples[\"fixpoint\"] = df_samples[\"fixpoint\"].map({RED:\"red\", GREEN:\"green\", BLUE:\"blue\", WHITE:\"white\"})\n",
    "    \n",
    "    return df_samples"
   ]
  },
  {
   "cell_type": "code",
   "execution_count": null,
   "id": "d8259b5e",
   "metadata": {},
   "outputs": [],
   "source": [
    "df_combined = combine_samples_events(df_samples, df_events)"
   ]
  },
  {
   "cell_type": "code",
   "execution_count": null,
   "id": "b5fd134a",
   "metadata": {},
   "outputs": [
    {
     "data": {
      "application/vnd.microsoft.datawrangler.viewer.v0+json": {
       "columns": [
        {
         "name": "index",
         "rawType": "int64",
         "type": "integer"
        },
        {
         "name": "experiment",
         "rawType": "object",
         "type": "string"
        },
        {
         "name": "participant_id",
         "rawType": "int64",
         "type": "integer"
        },
        {
         "name": "trial_id",
         "rawType": "int64",
         "type": "integer"
        },
        {
         "name": "time",
         "rawType": "int64",
         "type": "integer"
        },
        {
         "name": "x_left",
         "rawType": "float64",
         "type": "float"
        },
        {
         "name": "y_left",
         "rawType": "float64",
         "type": "float"
        },
        {
         "name": "pupil_size_left",
         "rawType": "float64",
         "type": "float"
        },
        {
         "name": "x_velocity_left",
         "rawType": "float64",
         "type": "float"
        },
        {
         "name": "y_velocity_left",
         "rawType": "float64",
         "type": "float"
        },
        {
         "name": "x_right",
         "rawType": "float64",
         "type": "float"
        },
        {
         "name": "y_right",
         "rawType": "float64",
         "type": "float"
        },
        {
         "name": "pupil_size_right",
         "rawType": "float64",
         "type": "float"
        },
        {
         "name": "x_velocity_right",
         "rawType": "float64",
         "type": "float"
        },
        {
         "name": "y_velocity_right",
         "rawType": "float64",
         "type": "float"
        },
        {
         "name": "x_resolution",
         "rawType": "float64",
         "type": "float"
        },
        {
         "name": "y_resolution",
         "rawType": "float64",
         "type": "float"
        },
        {
         "name": "error_message",
         "rawType": "object",
         "type": "string"
        },
        {
         "name": "event",
         "rawType": "object",
         "type": "unknown"
        },
        {
         "name": "fixpoint",
         "rawType": "object",
         "type": "unknown"
        },
        {
         "name": "stimulus_x",
         "rawType": "float64",
         "type": "float"
        },
        {
         "name": "stimulus_y",
         "rawType": "float64",
         "type": "float"
        }
       ],
       "conversionMethod": "pd.DataFrame",
       "ref": "76887f18-eb36-4bd4-add6-a29205272ce4",
       "rows": [
        [
         "0",
         "EVIL_BASTARD",
         "146",
         "0",
         "0",
         null,
         null,
         "0.0",
         null,
         null,
         null,
         null,
         "0.0",
         null,
         null,
         "59.2",
         "63.3",
         ".C.C.",
         null,
         null,
         null,
         null
        ],
        [
         "1",
         "EVIL_BASTARD",
         "146",
         "0",
         "0",
         null,
         null,
         "0.0",
         null,
         null,
         null,
         null,
         "0.0",
         null,
         null,
         "59.2",
         "63.3",
         ".C.C.",
         null,
         null,
         null,
         null
        ],
        [
         "2",
         "EVIL_BASTARD",
         "146",
         "0",
         "1",
         null,
         null,
         "0.0",
         null,
         null,
         null,
         null,
         "0.0",
         null,
         null,
         "59.2",
         "63.3",
         ".C.C.",
         null,
         null,
         null,
         null
        ],
        [
         "3",
         "EVIL_BASTARD",
         "146",
         "0",
         "1",
         null,
         null,
         "0.0",
         null,
         null,
         null,
         null,
         "0.0",
         null,
         null,
         "59.2",
         "63.3",
         ".C.C.",
         null,
         null,
         null,
         null
        ],
        [
         "4",
         "EVIL_BASTARD",
         "146",
         "0",
         "2",
         null,
         null,
         "0.0",
         null,
         null,
         null,
         null,
         "0.0",
         null,
         null,
         "59.2",
         "63.3",
         ".C.C.",
         null,
         null,
         null,
         null
        ]
       ],
       "shape": {
        "columns": 21,
        "rows": 5
       }
      },
      "text/html": [
       "<div>\n",
       "<style scoped>\n",
       "    .dataframe tbody tr th:only-of-type {\n",
       "        vertical-align: middle;\n",
       "    }\n",
       "\n",
       "    .dataframe tbody tr th {\n",
       "        vertical-align: top;\n",
       "    }\n",
       "\n",
       "    .dataframe thead th {\n",
       "        text-align: right;\n",
       "    }\n",
       "</style>\n",
       "<table border=\"1\" class=\"dataframe\">\n",
       "  <thead>\n",
       "    <tr style=\"text-align: right;\">\n",
       "      <th></th>\n",
       "      <th>experiment</th>\n",
       "      <th>participant_id</th>\n",
       "      <th>trial_id</th>\n",
       "      <th>time</th>\n",
       "      <th>x_left</th>\n",
       "      <th>y_left</th>\n",
       "      <th>pupil_size_left</th>\n",
       "      <th>x_velocity_left</th>\n",
       "      <th>y_velocity_left</th>\n",
       "      <th>x_right</th>\n",
       "      <th>...</th>\n",
       "      <th>pupil_size_right</th>\n",
       "      <th>x_velocity_right</th>\n",
       "      <th>y_velocity_right</th>\n",
       "      <th>x_resolution</th>\n",
       "      <th>y_resolution</th>\n",
       "      <th>error_message</th>\n",
       "      <th>event</th>\n",
       "      <th>fixpoint</th>\n",
       "      <th>stimulus_x</th>\n",
       "      <th>stimulus_y</th>\n",
       "    </tr>\n",
       "  </thead>\n",
       "  <tbody>\n",
       "    <tr>\n",
       "      <th>0</th>\n",
       "      <td>EVIL_BASTARD</td>\n",
       "      <td>146</td>\n",
       "      <td>0</td>\n",
       "      <td>0</td>\n",
       "      <td>NaN</td>\n",
       "      <td>NaN</td>\n",
       "      <td>0.0</td>\n",
       "      <td>NaN</td>\n",
       "      <td>NaN</td>\n",
       "      <td>NaN</td>\n",
       "      <td>...</td>\n",
       "      <td>0.0</td>\n",
       "      <td>NaN</td>\n",
       "      <td>NaN</td>\n",
       "      <td>59.2</td>\n",
       "      <td>63.3</td>\n",
       "      <td>.C.C.</td>\n",
       "      <td>NaN</td>\n",
       "      <td>NaN</td>\n",
       "      <td>NaN</td>\n",
       "      <td>NaN</td>\n",
       "    </tr>\n",
       "    <tr>\n",
       "      <th>1</th>\n",
       "      <td>EVIL_BASTARD</td>\n",
       "      <td>146</td>\n",
       "      <td>0</td>\n",
       "      <td>0</td>\n",
       "      <td>NaN</td>\n",
       "      <td>NaN</td>\n",
       "      <td>0.0</td>\n",
       "      <td>NaN</td>\n",
       "      <td>NaN</td>\n",
       "      <td>NaN</td>\n",
       "      <td>...</td>\n",
       "      <td>0.0</td>\n",
       "      <td>NaN</td>\n",
       "      <td>NaN</td>\n",
       "      <td>59.2</td>\n",
       "      <td>63.3</td>\n",
       "      <td>.C.C.</td>\n",
       "      <td>NaN</td>\n",
       "      <td>NaN</td>\n",
       "      <td>NaN</td>\n",
       "      <td>NaN</td>\n",
       "    </tr>\n",
       "    <tr>\n",
       "      <th>2</th>\n",
       "      <td>EVIL_BASTARD</td>\n",
       "      <td>146</td>\n",
       "      <td>0</td>\n",
       "      <td>1</td>\n",
       "      <td>NaN</td>\n",
       "      <td>NaN</td>\n",
       "      <td>0.0</td>\n",
       "      <td>NaN</td>\n",
       "      <td>NaN</td>\n",
       "      <td>NaN</td>\n",
       "      <td>...</td>\n",
       "      <td>0.0</td>\n",
       "      <td>NaN</td>\n",
       "      <td>NaN</td>\n",
       "      <td>59.2</td>\n",
       "      <td>63.3</td>\n",
       "      <td>.C.C.</td>\n",
       "      <td>NaN</td>\n",
       "      <td>NaN</td>\n",
       "      <td>NaN</td>\n",
       "      <td>NaN</td>\n",
       "    </tr>\n",
       "    <tr>\n",
       "      <th>3</th>\n",
       "      <td>EVIL_BASTARD</td>\n",
       "      <td>146</td>\n",
       "      <td>0</td>\n",
       "      <td>1</td>\n",
       "      <td>NaN</td>\n",
       "      <td>NaN</td>\n",
       "      <td>0.0</td>\n",
       "      <td>NaN</td>\n",
       "      <td>NaN</td>\n",
       "      <td>NaN</td>\n",
       "      <td>...</td>\n",
       "      <td>0.0</td>\n",
       "      <td>NaN</td>\n",
       "      <td>NaN</td>\n",
       "      <td>59.2</td>\n",
       "      <td>63.3</td>\n",
       "      <td>.C.C.</td>\n",
       "      <td>NaN</td>\n",
       "      <td>NaN</td>\n",
       "      <td>NaN</td>\n",
       "      <td>NaN</td>\n",
       "    </tr>\n",
       "    <tr>\n",
       "      <th>4</th>\n",
       "      <td>EVIL_BASTARD</td>\n",
       "      <td>146</td>\n",
       "      <td>0</td>\n",
       "      <td>2</td>\n",
       "      <td>NaN</td>\n",
       "      <td>NaN</td>\n",
       "      <td>0.0</td>\n",
       "      <td>NaN</td>\n",
       "      <td>NaN</td>\n",
       "      <td>NaN</td>\n",
       "      <td>...</td>\n",
       "      <td>0.0</td>\n",
       "      <td>NaN</td>\n",
       "      <td>NaN</td>\n",
       "      <td>59.2</td>\n",
       "      <td>63.3</td>\n",
       "      <td>.C.C.</td>\n",
       "      <td>NaN</td>\n",
       "      <td>NaN</td>\n",
       "      <td>NaN</td>\n",
       "      <td>NaN</td>\n",
       "    </tr>\n",
       "  </tbody>\n",
       "</table>\n",
       "<p>5 rows × 21 columns</p>\n",
       "</div>"
      ],
      "text/plain": [
       "     experiment  participant_id  trial_id  time  x_left  y_left  \\\n",
       "0  EVIL_BASTARD             146         0     0     NaN     NaN   \n",
       "1  EVIL_BASTARD             146         0     0     NaN     NaN   \n",
       "2  EVIL_BASTARD             146         0     1     NaN     NaN   \n",
       "3  EVIL_BASTARD             146         0     1     NaN     NaN   \n",
       "4  EVIL_BASTARD             146         0     2     NaN     NaN   \n",
       "\n",
       "   pupil_size_left  x_velocity_left  y_velocity_left  x_right  ...  \\\n",
       "0              0.0              NaN              NaN      NaN  ...   \n",
       "1              0.0              NaN              NaN      NaN  ...   \n",
       "2              0.0              NaN              NaN      NaN  ...   \n",
       "3              0.0              NaN              NaN      NaN  ...   \n",
       "4              0.0              NaN              NaN      NaN  ...   \n",
       "\n",
       "   pupil_size_right  x_velocity_right  y_velocity_right  x_resolution  \\\n",
       "0               0.0               NaN               NaN          59.2   \n",
       "1               0.0               NaN               NaN          59.2   \n",
       "2               0.0               NaN               NaN          59.2   \n",
       "3               0.0               NaN               NaN          59.2   \n",
       "4               0.0               NaN               NaN          59.2   \n",
       "\n",
       "   y_resolution  error_message event fixpoint stimulus_x  stimulus_y  \n",
       "0          63.3          .C.C.   NaN      NaN        NaN         NaN  \n",
       "1          63.3          .C.C.   NaN      NaN        NaN         NaN  \n",
       "2          63.3          .C.C.   NaN      NaN        NaN         NaN  \n",
       "3          63.3          .C.C.   NaN      NaN        NaN         NaN  \n",
       "4          63.3          .C.C.   NaN      NaN        NaN         NaN  \n",
       "\n",
       "[5 rows x 21 columns]"
      ]
     },
     "execution_count": 16,
     "metadata": {},
     "output_type": "execute_result"
    }
   ],
   "source": [
    "df_combined.head()"
   ]
  },
  {
   "cell_type": "code",
   "execution_count": 29,
   "id": "bf115f01",
   "metadata": {},
   "outputs": [],
   "source": [
    "def get_acceleration_feature(df: pd.DataFrame) -> pd.DataFrame:\n",
    "    \"\"\"Finds acceleration features for anti saccade experiment\n",
    "\n",
    "    Args:\n",
    "        df (pd.DataFrame): Dataframe with raw samples\n",
    "\n",
    "    Returns:\n",
    "        pd.DataFrame: Dataframe with columns ['experiment','participant_id', X_FEATURES]\n",
    "        where X_FEATURES is a collection of features found by the following cartesian product:\n",
    "        {'total_acceleration_magnitude_left', 'total_acceleration_magnitude_right'} x {np.mean, np.min, np.max, np.median, np.std}\n",
    "    \"\"\"\n",
    "\n",
    "    acceleration = (df.join((df\n",
    "    .groupby([\"experiment\", \"participant_id\", \"trial_id\"])[['x_velocity_left', 'y_velocity_left', 'x_velocity_right', 'y_velocity_right']].shift(1)\n",
    "    .rename(columns={'x_velocity_left': 'x_velocity_left_lagged'\n",
    "            , 'y_velocity_left': 'y_velocity_left_lagged'\n",
    "            , 'x_velocity_right': 'x_velocity_right_lagged'\n",
    "            , 'y_velocity_right': 'y_velocity_right_lagged'}))\n",
    "    ).assign(x_acceleration_left = lambda x: (x[\"x_velocity_left\"] - x[\"x_velocity_left_lagged\"]) / (1/2000),\n",
    "            y_acceleration_left = lambda x: (x[\"y_velocity_left\"] - x[\"y_velocity_left_lagged\"]) / (1/2000),\n",
    "            x_acceleration_right = lambda x: (x[\"x_velocity_right\"] - x[\"x_velocity_right_lagged\"]) / (1/2000),\n",
    "            y_acceleration_right = lambda x: (x[\"y_velocity_right\"] - x[\"y_velocity_right_lagged\"]) / (1/2000))\n",
    "    .assign(total_acceleration_magnitude_left = lambda x: np.sqrt( np.power(x[\"x_acceleration_left\"], 2) + np.power(x[\"y_acceleration_left\"], 2)),\n",
    "            total_acceleration_magnitude_right = lambda x: np.sqrt( np.power(x[\"x_acceleration_right\"], 2) + np.power(x[\"y_acceleration_right\"], 2)))\n",
    "    .groupby([\"experiment\", \"participant_id\"])\n",
    "    .agg({'total_acceleration_magnitude_left': [\"mean\", \"min\", \"max\", \"median\", \"std\"],\n",
    "        'total_acceleration_magnitude_right': [\"mean\", \"min\", \"max\", \"median\", \"std\"]\n",
    "        })\n",
    "    .reset_index()\n",
    "    .pipe(rename_columns)\n",
    "    )\n",
    "    return acceleration"
   ]
  },
  {
   "cell_type": "code",
   "execution_count": 25,
   "id": "894b7e4d",
   "metadata": {},
   "outputs": [],
   "source": [
    "def get_distance_to_stimulus_features(df: pd.DataFrame) -> pd.DataFrame:\n",
    "    features = (samples_df\n",
    "        .assign(\n",
    "            distance_to_fixpoint_left = lambda x: (x[\"x_left\"]-x[\"stimulus_x\"])**2+(x[\"y_left\"]-x[\"stimulus_y\"])**2,\n",
    "            distance_to_fixpoint_right = lambda x: (x[\"x_right\"]-x[\"stimulus_x\"])**2+(x[\"y_right\"]-x[\"stimulus_y\"])**2\n",
    "        )\n",
    "        .assign(\n",
    "            distance_to_fixpoint = lambda x: (x[\"distance_to_fixpoint_left\"]+x[\"distance_to_fixpoint_right\"])/2\n",
    "        )\n",
    "        .agg({\n",
    "            'distance_to_fixpoint': [\"mean\", \"min\", \"max\", \"median\", \"std\"],\n",
    "        })\n",
    "        .reset_index()\n",
    "    )\n",
    "    \n",
    "    return features"
   ]
  },
  {
   "cell_type": "code",
   "execution_count": 22,
   "id": "d8010d1b",
   "metadata": {},
   "outputs": [
    {
     "data": {
      "application/vnd.microsoft.datawrangler.viewer.v0+json": {
       "columns": [
        {
         "name": "index",
         "rawType": "int64",
         "type": "integer"
        },
        {
         "name": "index",
         "rawType": "object",
         "type": "string"
        },
        {
         "name": "distance_to_fixpoint",
         "rawType": "float64",
         "type": "float"
        }
       ],
       "conversionMethod": "pd.DataFrame",
       "ref": "a3f1c4d3-0460-42a6-8565-69865dea9dc3",
       "rows": [
        [
         "0",
         "mean",
         "3340.778456375488"
        ],
        [
         "1",
         "min",
         "98.49500000000032"
        ],
        [
         "2",
         "max",
         "284924.1"
        ],
        [
         "3",
         "median",
         "2226.6499999999965"
        ],
        [
         "4",
         "std",
         "8480.89226618149"
        ]
       ],
       "shape": {
        "columns": 2,
        "rows": 5
       }
      },
      "text/html": [
       "<div>\n",
       "<style scoped>\n",
       "    .dataframe tbody tr th:only-of-type {\n",
       "        vertical-align: middle;\n",
       "    }\n",
       "\n",
       "    .dataframe tbody tr th {\n",
       "        vertical-align: top;\n",
       "    }\n",
       "\n",
       "    .dataframe thead th {\n",
       "        text-align: right;\n",
       "    }\n",
       "</style>\n",
       "<table border=\"1\" class=\"dataframe\">\n",
       "  <thead>\n",
       "    <tr style=\"text-align: right;\">\n",
       "      <th></th>\n",
       "      <th>index</th>\n",
       "      <th>distance_to_fixpoint</th>\n",
       "    </tr>\n",
       "  </thead>\n",
       "  <tbody>\n",
       "    <tr>\n",
       "      <th>0</th>\n",
       "      <td>mean</td>\n",
       "      <td>3340.778456</td>\n",
       "    </tr>\n",
       "    <tr>\n",
       "      <th>1</th>\n",
       "      <td>min</td>\n",
       "      <td>98.495000</td>\n",
       "    </tr>\n",
       "    <tr>\n",
       "      <th>2</th>\n",
       "      <td>max</td>\n",
       "      <td>284924.100000</td>\n",
       "    </tr>\n",
       "    <tr>\n",
       "      <th>3</th>\n",
       "      <td>median</td>\n",
       "      <td>2226.650000</td>\n",
       "    </tr>\n",
       "    <tr>\n",
       "      <th>4</th>\n",
       "      <td>std</td>\n",
       "      <td>8480.892266</td>\n",
       "    </tr>\n",
       "  </tbody>\n",
       "</table>\n",
       "</div>"
      ],
      "text/plain": [
       "    index  distance_to_fixpoint\n",
       "0    mean           3340.778456\n",
       "1     min             98.495000\n",
       "2     max         284924.100000\n",
       "3  median           2226.650000\n",
       "4     std           8480.892266"
      ]
     },
     "execution_count": 22,
     "metadata": {},
     "output_type": "execute_result"
    }
   ],
   "source": [
    "features"
   ]
  },
  {
   "cell_type": "code",
   "execution_count": null,
   "id": "3731383d",
   "metadata": {},
   "outputs": [],
   "source": [
    "def get_evil_bastard_features(df_event: pd.DataFrame, df_sample:pd.DataFrame) -> pd.DataFrame:\n",
    "    \"\"\"Runs all anti saccade features extractions\n",
    "\n",
    "    Args:\n",
    "        df (pd.DataFrame): The preprocessed dataframe\n",
    "\n",
    "    Returns:\n",
    "        pd.DataFrame: Dataframe with columns [\"experiment\", \"participant_id\", X_FEATURES], where X_FEATURES is a collection of features\n",
    "    \"\"\"\n",
    "    # Get unique participant ids\n",
    "    experiment = \"EVIL_BASTARD\"\n",
    "    participant_ids = pd.read_parquet(\n",
    "            f\"{PREPROCESSED_DIR}/{experiment}_samples.pq\", \n",
    "            columns=[\"participant_id\"]\n",
    "        )\n",
    "    participant_ids = participant_ids[\"participant_id\"].unique()\n",
    "    \n",
    "    # event_feature_functions = [get_pre_calculated_metrics_feature, get_n_correct_trials_feature, get_prop_trials_feature, get_reaction_time_feature]\n",
    "    # df_event_features_list = [f(df=df_event) for f in event_feature_functions]\n",
    "    \n",
    "    for participant_id in participant_ids:\n",
    "        df_samples = get_samples_df(participant_id)\n",
    "        \n",
    "        sample_feature_functions = [get_acceleration_feature]#, get_distance_to_stimulus_features]\n",
    "        df_sample_features_list = [f(df=df_sample) for f in sample_feature_functions]\n",
    "    \n",
    "    # df_features_list = df_event_features_list + df_sample_features_list\n",
    "    \n",
    "    # df_features = reduce(lambda x, y: pd.merge(x, y, on = [\"experiment\", \"participant_id\"]), df_features_list)\n",
    "    \n",
    "    return df_sample_features_list #df_features\n",
    "\n",
    "\n",
    "features = get_evil_bastard_features(df_event=events_df, df_sample=samples_df)"
   ]
  },
  {
   "cell_type": "code",
   "execution_count": null,
   "id": "cf5b8b24",
   "metadata": {},
   "outputs": [],
   "source": [
    "participant_id = participant_ids[10]\n",
    "filters = [\n",
    "    ('participant_id', '=', participant_id),\n",
    "]\n",
    "\n",
    "samples_df = pd.read_parquet(\n",
    "    f\"{PREPROCESSED_DIR}/{experiment}_samples.pq\",\n",
    "    filters=filters\n",
    "    )\n",
    "\n",
    "filters = [\n",
    "    ('participant_id', '=', int(participant_id)),\n",
    "]\n",
    "\n",
    "events_df = pd.read_parquet(\n",
    "    f\"{PREPROCESSED_DIR}/{experiment}_events.pq\",\n",
    "    filters=filters\n",
    "    )"
   ]
  },
  {
   "cell_type": "code",
   "execution_count": 34,
   "id": "e27aba02",
   "metadata": {},
   "outputs": [
    {
     "data": {
      "text/plain": [
       "[     experiment  participant_id  total_acceleration_magnitude_left_mean  \\\n",
       " 0  EVIL_BASTARD             146                             1563.253278   \n",
       " \n",
       "    total_acceleration_magnitude_left_min  \\\n",
       " 0                                    0.0   \n",
       " \n",
       "    total_acceleration_magnitude_left_max  \\\n",
       " 0                           97659.203355   \n",
       " \n",
       "    total_acceleration_magnitude_left_median  \\\n",
       " 0                                    1000.0   \n",
       " \n",
       "    total_acceleration_magnitude_left_std  \\\n",
       " 0                            3902.689435   \n",
       " \n",
       "    total_acceleration_magnitude_right_mean  \\\n",
       " 0                              1581.885881   \n",
       " \n",
       "    total_acceleration_magnitude_right_min  \\\n",
       " 0                                     0.0   \n",
       " \n",
       "    total_acceleration_magnitude_right_max  \\\n",
       " 0                           119249.989518   \n",
       " \n",
       "    total_acceleration_magnitude_right_median  \\\n",
       " 0                                 894.427191   \n",
       " \n",
       "    total_acceleration_magnitude_right_std  \n",
       " 0                             4197.048884  ]"
      ]
     },
     "execution_count": 34,
     "metadata": {},
     "output_type": "execute_result"
    }
   ],
   "source": [
    "features"
   ]
  },
  {
   "cell_type": "code",
   "execution_count": null,
   "id": "04c63ff6",
   "metadata": {},
   "outputs": [],
   "source": []
  }
 ],
 "metadata": {
  "kernelspec": {
   "display_name": ".venv",
   "language": "python",
   "name": "python3"
  },
  "language_info": {
   "codemirror_mode": {
    "name": "ipython",
    "version": 3
   },
   "file_extension": ".py",
   "mimetype": "text/x-python",
   "name": "python",
   "nbconvert_exporter": "python",
   "pygments_lexer": "ipython3",
   "version": "3.12.3"
  }
 },
 "nbformat": 4,
 "nbformat_minor": 5
}
